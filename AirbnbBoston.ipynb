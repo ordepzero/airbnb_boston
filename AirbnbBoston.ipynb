{
 "cells": [
  {
   "cell_type": "markdown",
   "metadata": {},
   "source": [
    "## How much is a week's accommodation in Boston for Airbnb in the marathon period?"
   ]
  },
  {
   "cell_type": "markdown",
   "metadata": {},
   "source": [
    "### Table of Contents\n",
    "1. [Business Understanding](#buiness)\n",
    "2. [Libraries](#libraries)\n",
    "3. [Functions](#functions)\n",
    "4. [Exploratory Data Analysis](#eda)   \n",
    "5. [Conclusion](#conclusion)"
   ]
  },
  {
   "cell_type": "markdown",
   "metadata": {},
   "source": [
    "### <a href='#business'></a>1. Business Understanding"
   ]
  },
  {
   "cell_type": "markdown",
   "metadata": {},
   "source": [
    "Booking accommodation, for example, can be done through Airbnb, which offers different accommodation options and with different values. In this notebook, I will analyze the data provided by Airbnb for Boston accommodation, from September 2016 to September 2017, and show what options are in mind for staying during the marathon period. To learn more about the Boston Marathon, visit [Boston Marathon](https://pt.wikipedia.org/wiki/Maratona_de_Boston)."
   ]
  },
  {
   "cell_type": "markdown",
   "metadata": {},
   "source": [
    "This database contains data from several accommodations, showing the price variation over a period of 1 year. They also describe the accommodations in several ways. I will explore this information to try to answer some questions.\n",
    "\n",
    "I will answer 3 questions in this notebook.\n",
    "\n",
    "1. Is there a difference in the price of accommodation during the year?\n",
    "2. What is the most expensive neighborhood? And which is the cheapest?\n",
    "3. What are the accommodation changes for two people? And for more than two people?"
   ]
  },
  {
   "cell_type": "markdown",
   "metadata": {},
   "source": [
    "### <a id='libraries'></a>2. Libraries"
   ]
  },
  {
   "cell_type": "code",
   "execution_count": 81,
   "metadata": {},
   "outputs": [],
   "source": [
    "import seaborn as sns\n",
    "import pandas as pd\n",
    "import matplotlib.pyplot as plt\n",
    "import math\n",
    "import numpy as np\n",
    "from functools import reduce\n",
    "\n",
    "%matplotlib inline"
   ]
  },
  {
   "cell_type": "code",
   "execution_count": 2,
   "metadata": {},
   "outputs": [],
   "source": [
    "pd.set_option('display.max_rows', None)\n",
    "pd.set_option('display.max_columns', None)\n",
    "pd.set_option('display.width', None)\n",
    "pd.set_option('display.max_colwidth', None)"
   ]
  },
  {
   "cell_type": "markdown",
   "metadata": {},
   "source": [
    "### <a id='functions'></a>3. Functions"
   ]
  },
  {
   "cell_type": "code",
   "execution_count": 3,
   "metadata": {},
   "outputs": [],
   "source": [
    "def convert_monetary(temp_df,column_name):\n",
    "    \"\"\"This function remove $ and , caracters and convert the string to float. \"\"\"\n",
    "    temp_df[column_name] = temp_df[column_name].fillna('$0')\n",
    "    temp_df[column_name] = temp_df[column_name].apply(lambda p:p.replace('$','').replace(',',''))\n",
    "    temp_df[column_name] = pd.to_numeric(temp_df[column_name], downcast='float')"
   ]
  },
  {
   "cell_type": "code",
   "execution_count": 4,
   "metadata": {},
   "outputs": [],
   "source": [
    "def convert_binary_column(temp_df,column_name):\n",
    "    \"\"\"This function convert/fix the value for binary\"\"\"\n",
    "    temp_df.loc[temp_df[column_name] == 'f',column_name] = False\n",
    "    temp_df.loc[temp_df[column_name] == 't',column_name] = True"
   ]
  },
  {
   "cell_type": "code",
   "execution_count": 5,
   "metadata": {},
   "outputs": [],
   "source": [
    "def plot_value_counts(dfc,title,xlabel,ylabel,image_name,rotation=21,width=8, height=6):\n",
    "    \"\"\"This function plot a count table.\"\"\"\n",
    "    plt.figure(num=None, figsize=(width, height), dpi=80, facecolor='w', edgecolor='k')\n",
    "    price_mean = sns.barplot(x=dfc.index,y=dfc.values,color=\"blue\")\n",
    "    price_mean.set(xlabel=xlabel, ylabel=ylabel)\n",
    "    price_mean.set_title(title)\n",
    "    plt.xticks(rotation=rotation)\n",
    "    figure = price_mean.get_figure()    \n",
    "    plt.savefig(image_name, dpi=80)"
   ]
  },
  {
   "cell_type": "code",
   "execution_count": 6,
   "metadata": {},
   "outputs": [],
   "source": [
    "\n",
    "def haversine_vectorize(lon1, lat1, lon2=-71.0762861, lat2=42.3503789):\n",
    "    \"\"\"This function calculate the distance between two coordenates and convert it to kilometers.\"\"\"\n",
    "    lon1, lat1, lon2, lat2 = map(np.radians, [lon1, lat1, lon2, lat2])\n",
    " \n",
    "    newlon = lon2 - lon1\n",
    "    newlat = lat2 - lat1\n",
    " \n",
    "    haver_formula = np.sin(newlat/2.0)**2 + np.cos(lat1) * np.cos(lat2) * np.sin(newlon/2.0)**2\n",
    " \n",
    "    dist = 2 * np.arcsin(np.sqrt(haver_formula ))\n",
    "    km = 6367 * dist #6367 for distance in KM for miles use 3958\n",
    "    return km"
   ]
  },
  {
   "cell_type": "code",
   "execution_count": 7,
   "metadata": {},
   "outputs": [],
   "source": [
    "def calc_prop(data):\n",
    "    \"\"\" This function calculate the proportion price for each person based on quantity of accommodates.\"\"\"\n",
    "    data['prop'] = data['april']/data['accommodates']\n",
    "    return data"
   ]
  },
  {
   "cell_type": "markdown",
   "metadata": {},
   "source": [
    "## 3. <a id='eda'></a>Exploratory Data Analysis"
   ]
  },
  {
   "cell_type": "markdown",
   "metadata": {},
   "source": [
    "#### Gathering calendar data "
   ]
  },
  {
   "cell_type": "code",
   "execution_count": 8,
   "metadata": {
    "scrolled": true
   },
   "outputs": [
    {
     "data": {
      "text/html": [
       "<div>\n",
       "<style scoped>\n",
       "    .dataframe tbody tr th:only-of-type {\n",
       "        vertical-align: middle;\n",
       "    }\n",
       "\n",
       "    .dataframe tbody tr th {\n",
       "        vertical-align: top;\n",
       "    }\n",
       "\n",
       "    .dataframe thead th {\n",
       "        text-align: right;\n",
       "    }\n",
       "</style>\n",
       "<table border=\"1\" class=\"dataframe\">\n",
       "  <thead>\n",
       "    <tr style=\"text-align: right;\">\n",
       "      <th></th>\n",
       "      <th>listing_id</th>\n",
       "      <th>date</th>\n",
       "      <th>available</th>\n",
       "      <th>price</th>\n",
       "    </tr>\n",
       "  </thead>\n",
       "  <tbody>\n",
       "    <tr>\n",
       "      <th>0</th>\n",
       "      <td>12147973</td>\n",
       "      <td>2017-09-05</td>\n",
       "      <td>f</td>\n",
       "      <td>NaN</td>\n",
       "    </tr>\n",
       "    <tr>\n",
       "      <th>1</th>\n",
       "      <td>12147973</td>\n",
       "      <td>2017-09-04</td>\n",
       "      <td>f</td>\n",
       "      <td>NaN</td>\n",
       "    </tr>\n",
       "    <tr>\n",
       "      <th>2</th>\n",
       "      <td>12147973</td>\n",
       "      <td>2017-09-03</td>\n",
       "      <td>f</td>\n",
       "      <td>NaN</td>\n",
       "    </tr>\n",
       "    <tr>\n",
       "      <th>3</th>\n",
       "      <td>12147973</td>\n",
       "      <td>2017-09-02</td>\n",
       "      <td>f</td>\n",
       "      <td>NaN</td>\n",
       "    </tr>\n",
       "    <tr>\n",
       "      <th>4</th>\n",
       "      <td>12147973</td>\n",
       "      <td>2017-09-01</td>\n",
       "      <td>f</td>\n",
       "      <td>NaN</td>\n",
       "    </tr>\n",
       "  </tbody>\n",
       "</table>\n",
       "</div>"
      ],
      "text/plain": [
       "   listing_id        date available price\n",
       "0    12147973  2017-09-05         f   NaN\n",
       "1    12147973  2017-09-04         f   NaN\n",
       "2    12147973  2017-09-03         f   NaN\n",
       "3    12147973  2017-09-02         f   NaN\n",
       "4    12147973  2017-09-01         f   NaN"
      ]
     },
     "execution_count": 8,
     "metadata": {},
     "output_type": "execute_result"
    }
   ],
   "source": [
    "df_calendar = pd.read_csv('calendar.csv')\n",
    "dfc_calendar = df_calendar.copy()\n",
    "dfc_calendar.head()"
   ]
  },
  {
   "cell_type": "code",
   "execution_count": 9,
   "metadata": {
    "scrolled": false
   },
   "outputs": [
    {
     "name": "stdout",
     "output_type": "stream",
     "text": [
      "<class 'pandas.core.frame.DataFrame'>\n",
      "RangeIndex: 1308890 entries, 0 to 1308889\n",
      "Data columns (total 4 columns):\n",
      " #   Column      Non-Null Count    Dtype \n",
      "---  ------      --------------    ----- \n",
      " 0   listing_id  1308890 non-null  int64 \n",
      " 1   date        1308890 non-null  object\n",
      " 2   available   1308890 non-null  object\n",
      " 3   price       643037 non-null   object\n",
      "dtypes: int64(1), object(3)\n",
      "memory usage: 39.9+ MB\n"
     ]
    }
   ],
   "source": [
    "dfc_calendar.info()"
   ]
  },
  {
   "cell_type": "markdown",
   "metadata": {},
   "source": [
    "#### How many ids?"
   ]
  },
  {
   "cell_type": "code",
   "execution_count": 10,
   "metadata": {
    "scrolled": true
   },
   "outputs": [
    {
     "data": {
      "text/plain": [
       "3585"
      ]
     },
     "execution_count": 10,
     "metadata": {},
     "output_type": "execute_result"
    }
   ],
   "source": [
    "len(dfc_calendar['listing_id'].unique())"
   ]
  },
  {
   "cell_type": "markdown",
   "metadata": {},
   "source": [
    "#### What's the interval of time"
   ]
  },
  {
   "cell_type": "code",
   "execution_count": 11,
   "metadata": {},
   "outputs": [
    {
     "data": {
      "text/plain": [
       "Timedelta('364 days 00:00:00')"
      ]
     },
     "execution_count": 11,
     "metadata": {},
     "output_type": "execute_result"
    }
   ],
   "source": [
    "pd.to_datetime(dfc_calendar['date'].max())-pd.to_datetime(dfc_calendar['date'].min())"
   ]
  },
  {
   "cell_type": "markdown",
   "metadata": {},
   "source": [
    "#### Available column distribution"
   ]
  },
  {
   "cell_type": "code",
   "execution_count": 12,
   "metadata": {
    "scrolled": true
   },
   "outputs": [
    {
     "data": {
      "text/plain": [
       "<matplotlib.axes._subplots.AxesSubplot at 0x18c361c2828>"
      ]
     },
     "execution_count": 12,
     "metadata": {},
     "output_type": "execute_result"
    },
    {
     "data": {
      "image/png": "[encoded data removed]",
      "text/plain": [
       "<Figure size 432x288 with 1 Axes>"
      ]
     },
     "metadata": {
      "needs_background": "light"
     },
     "output_type": "display_data"
    }
   ],
   "source": [
    "dfc_calendar['available'].value_counts().plot.bar()"
   ]
  },
  {
   "cell_type": "markdown",
   "metadata": {},
   "source": [
    "#### Price missing values"
   ]
  },
  {
   "cell_type": "markdown",
   "metadata": {},
   "source": [
    "> The prices missing are because the available value."
   ]
  },
  {
   "cell_type": "markdown",
   "metadata": {},
   "source": [
    "#### Converting values"
   ]
  },
  {
   "cell_type": "code",
   "execution_count": 13,
   "metadata": {},
   "outputs": [],
   "source": [
    "convert_monetary(dfc_calendar,'price')\n",
    "convert_binary_column(dfc_calendar,'available')"
   ]
  },
  {
   "cell_type": "code",
   "execution_count": 14,
   "metadata": {
    "scrolled": true
   },
   "outputs": [
    {
     "data": {
      "text/html": [
       "<div>\n",
       "<style scoped>\n",
       "    .dataframe tbody tr th:only-of-type {\n",
       "        vertical-align: middle;\n",
       "    }\n",
       "\n",
       "    .dataframe tbody tr th {\n",
       "        vertical-align: top;\n",
       "    }\n",
       "\n",
       "    .dataframe thead th {\n",
       "        text-align: right;\n",
       "    }\n",
       "</style>\n",
       "<table border=\"1\" class=\"dataframe\">\n",
       "  <thead>\n",
       "    <tr style=\"text-align: right;\">\n",
       "      <th></th>\n",
       "      <th>listing_id</th>\n",
       "      <th>date</th>\n",
       "      <th>available</th>\n",
       "      <th>price</th>\n",
       "    </tr>\n",
       "  </thead>\n",
       "  <tbody>\n",
       "    <tr>\n",
       "      <th>0</th>\n",
       "      <td>12147973</td>\n",
       "      <td>2017-09-05</td>\n",
       "      <td>False</td>\n",
       "      <td>0.0</td>\n",
       "    </tr>\n",
       "    <tr>\n",
       "      <th>1</th>\n",
       "      <td>12147973</td>\n",
       "      <td>2017-09-04</td>\n",
       "      <td>False</td>\n",
       "      <td>0.0</td>\n",
       "    </tr>\n",
       "    <tr>\n",
       "      <th>2</th>\n",
       "      <td>12147973</td>\n",
       "      <td>2017-09-03</td>\n",
       "      <td>False</td>\n",
       "      <td>0.0</td>\n",
       "    </tr>\n",
       "    <tr>\n",
       "      <th>3</th>\n",
       "      <td>12147973</td>\n",
       "      <td>2017-09-02</td>\n",
       "      <td>False</td>\n",
       "      <td>0.0</td>\n",
       "    </tr>\n",
       "    <tr>\n",
       "      <th>4</th>\n",
       "      <td>12147973</td>\n",
       "      <td>2017-09-01</td>\n",
       "      <td>False</td>\n",
       "      <td>0.0</td>\n",
       "    </tr>\n",
       "  </tbody>\n",
       "</table>\n",
       "</div>"
      ],
      "text/plain": [
       "   listing_id        date available  price\n",
       "0    12147973  2017-09-05     False    0.0\n",
       "1    12147973  2017-09-04     False    0.0\n",
       "2    12147973  2017-09-03     False    0.0\n",
       "3    12147973  2017-09-02     False    0.0\n",
       "4    12147973  2017-09-01     False    0.0"
      ]
     },
     "execution_count": 14,
     "metadata": {},
     "output_type": "execute_result"
    }
   ],
   "source": [
    "dfc_calendar.head()"
   ]
  },
  {
   "cell_type": "markdown",
   "metadata": {},
   "source": [
    "#### Question 1: Is there a difference in the price of accommodation during the year?\n"
   ]
  },
  {
   "cell_type": "markdown",
   "metadata": {},
   "source": [
    "To answer this question, it is necessary to calculate the average price of accommodation. We must ignore accommodations with a value of zero, as they are accommodations that are not available and these accommodations are also unavailable."
   ]
  },
  {
   "cell_type": "markdown",
   "metadata": {},
   "source": [
    "#### Calculating the mean price for each month desconsidering the homestays with price equal zero"
   ]
  },
  {
   "cell_type": "code",
   "execution_count": 34,
   "metadata": {},
   "outputs": [],
   "source": [
    "dfc_calendar['year'] = pd.to_datetime(dfc_calendar['date']).dt.year\n",
    "dfc_calendar['month'] = pd.to_datetime(dfc_calendar['date']).dt.month"
   ]
  },
  {
   "cell_type": "code",
   "execution_count": 35,
   "metadata": {},
   "outputs": [
    {
     "data": {
      "text/plain": [
       "year  month\n",
       "2016  9        252.677307\n",
       "      10       233.416245\n",
       "      11       202.924423\n",
       "      12       192.601913\n",
       "2017  1        182.799667\n",
       "      2        180.961029\n",
       "      3        181.818741\n",
       "      4        197.252884\n",
       "      5        193.712296\n",
       "      6        196.535309\n",
       "      7        202.486313\n",
       "      8        203.330139\n",
       "      9        194.658325\n",
       "Name: price, dtype: float32"
      ]
     },
     "execution_count": 35,
     "metadata": {},
     "output_type": "execute_result"
    }
   ],
   "source": [
    "mp = dfc_calendar[dfc_calendar['price'] > 0].groupby(['year','month'])['price'].mean()\n",
    "mp"
   ]
  },
  {
   "cell_type": "markdown",
   "metadata": {},
   "source": [
    "#### Plotting the mean price considering all homestays price in each month"
   ]
  },
  {
   "cell_type": "code",
   "execution_count": 36,
   "metadata": {},
   "outputs": [
    {
     "data": {
      "image/png": "[encoded data removed]",
      "text/plain": [
       "<Figure size 640x480 with 1 Axes>"
      ]
     },
     "metadata": {},
     "output_type": "display_data"
    }
   ],
   "source": [
    "plt.figure(num=None, figsize=(8, 6), dpi=80, facecolor='w', edgecolor='k')\n",
    "price_mean = sns.barplot(x=mp.index,y=mp.values,color=\"blue\")\n",
    "price_mean.set(xlabel='Month', ylabel='Price')\n",
    "price_mean.set_title('Mean price')\n",
    "plt.xticks(rotation=21)\n",
    "figure = price_mean.get_figure()    \n",
    "plt.savefig('mean_price.png', dpi=1024)"
   ]
  },
  {
   "cell_type": "code",
   "execution_count": 37,
   "metadata": {},
   "outputs": [
    {
     "data": {
      "text/plain": [
       "Index(['listing_id', 'date', 'available', 'price', 'year', 'month'], dtype='object')"
      ]
     },
     "execution_count": 37,
     "metadata": {},
     "output_type": "execute_result"
    }
   ],
   "source": [
    "dfc_calendar.columns"
   ]
  },
  {
   "cell_type": "markdown",
   "metadata": {},
   "source": [
    "> The average price of accommodation with values greater than 0 (that is, those available) was calculated. The result is shown in figure. So the answer to the first is yes, there is a difference in the price of accommodation each month. But wait! The average price presented in the first month is due to the number of registered accommodations, the average is a measure that is influenced by extreme values, however, as the number of accommodations increases, the extreme prices will have less impact on the average. January 2017 is the month with the highest number of accommodations available, so the average decreases until January 2017 and remains stable in the other months.\n",
    "\n",
    "> Through in this figure, it is not possible to draw so many conclusions. So, let's check the number of accommodations that reach the lowest and highest price in the period of 13 months."
   ]
  },
  {
   "cell_type": "markdown",
   "metadata": {},
   "source": [
    "#### Checking and analyzing the result table"
   ]
  },
  {
   "cell_type": "code",
   "execution_count": 23,
   "metadata": {},
   "outputs": [
    {
     "data": {
      "text/plain": [
       "1873"
      ]
     },
     "execution_count": 23,
     "metadata": {},
     "output_type": "execute_result"
    }
   ],
   "source": [
    "sum(dfg['price']['min'] < dfg['price']['max'])"
   ]
  },
  {
   "cell_type": "code",
   "execution_count": 24,
   "metadata": {},
   "outputs": [
    {
     "data": {
      "text/plain": [
       "1033"
      ]
     },
     "execution_count": 24,
     "metadata": {},
     "output_type": "execute_result"
    }
   ],
   "source": [
    "sum(dfg['price']['min'] == dfg['price']['max'])"
   ]
  },
  {
   "cell_type": "markdown",
   "metadata": {},
   "source": [
    "#### Calculating the proportion of the homestays that doesn't change the price anytime"
   ]
  },
  {
   "cell_type": "code",
   "execution_count": 25,
   "metadata": {
    "scrolled": true
   },
   "outputs": [
    {
     "data": {
      "text/plain": [
       "(0.6445285615966965, 0.35547143840330353)"
      ]
     },
     "execution_count": 25,
     "metadata": {},
     "output_type": "execute_result"
    }
   ],
   "source": [
    "1873/(1873+1033),1033/(1873+1033),"
   ]
  },
  {
   "cell_type": "markdown",
   "metadata": {},
   "source": [
    "> It is important to highlight that 36% of the accommodations did not change the price during the 13 months, while 64% increased or decreased the price. "
   ]
  },
  {
   "cell_type": "markdown",
   "metadata": {},
   "source": [
    "#### Analyzing the price for rows with available value equal True"
   ]
  },
  {
   "cell_type": "code",
   "execution_count": 15,
   "metadata": {},
   "outputs": [],
   "source": [
    "dfg = dfc_calendar[(dfc_calendar['available'] == True)].groupby('listing_id').agg({'price':['count','mean', 'std','min','max']})"
   ]
  },
  {
   "cell_type": "code",
   "execution_count": 16,
   "metadata": {},
   "outputs": [
    {
     "data": {
      "text/html": [
       "<div>\n",
       "<style scoped>\n",
       "    .dataframe tbody tr th:only-of-type {\n",
       "        vertical-align: middle;\n",
       "    }\n",
       "\n",
       "    .dataframe tbody tr th {\n",
       "        vertical-align: top;\n",
       "    }\n",
       "\n",
       "    .dataframe thead tr th {\n",
       "        text-align: left;\n",
       "    }\n",
       "\n",
       "    .dataframe thead tr:last-of-type th {\n",
       "        text-align: right;\n",
       "    }\n",
       "</style>\n",
       "<table border=\"1\" class=\"dataframe\">\n",
       "  <thead>\n",
       "    <tr>\n",
       "      <th></th>\n",
       "      <th colspan=\"5\" halign=\"left\">price</th>\n",
       "    </tr>\n",
       "    <tr>\n",
       "      <th></th>\n",
       "      <th>count</th>\n",
       "      <th>mean</th>\n",
       "      <th>std</th>\n",
       "      <th>min</th>\n",
       "      <th>max</th>\n",
       "    </tr>\n",
       "    <tr>\n",
       "      <th>listing_id</th>\n",
       "      <th></th>\n",
       "      <th></th>\n",
       "      <th></th>\n",
       "      <th></th>\n",
       "      <th></th>\n",
       "    </tr>\n",
       "  </thead>\n",
       "  <tbody>\n",
       "    <tr>\n",
       "      <th>3353</th>\n",
       "      <td>249</td>\n",
       "      <td>35.204819</td>\n",
       "      <td>1.302222</td>\n",
       "      <td>32.0</td>\n",
       "      <td>36.0</td>\n",
       "    </tr>\n",
       "    <tr>\n",
       "      <th>5506</th>\n",
       "      <td>344</td>\n",
       "      <td>147.267441</td>\n",
       "      <td>17.043196</td>\n",
       "      <td>145.0</td>\n",
       "      <td>275.0</td>\n",
       "    </tr>\n",
       "    <tr>\n",
       "      <th>6695</th>\n",
       "      <td>324</td>\n",
       "      <td>197.407410</td>\n",
       "      <td>17.553301</td>\n",
       "      <td>195.0</td>\n",
       "      <td>325.0</td>\n",
       "    </tr>\n",
       "    <tr>\n",
       "      <th>6976</th>\n",
       "      <td>319</td>\n",
       "      <td>65.000000</td>\n",
       "      <td>0.000000</td>\n",
       "      <td>65.0</td>\n",
       "      <td>65.0</td>\n",
       "    </tr>\n",
       "    <tr>\n",
       "      <th>8792</th>\n",
       "      <td>248</td>\n",
       "      <td>154.000000</td>\n",
       "      <td>0.000000</td>\n",
       "      <td>154.0</td>\n",
       "      <td>154.0</td>\n",
       "    </tr>\n",
       "  </tbody>\n",
       "</table>\n",
       "</div>"
      ],
      "text/plain": [
       "           price                                     \n",
       "           count        mean        std    min    max\n",
       "listing_id                                           \n",
       "3353         249   35.204819   1.302222   32.0   36.0\n",
       "5506         344  147.267441  17.043196  145.0  275.0\n",
       "6695         324  197.407410  17.553301  195.0  325.0\n",
       "6976         319   65.000000   0.000000   65.0   65.0\n",
       "8792         248  154.000000   0.000000  154.0  154.0"
      ]
     },
     "execution_count": 16,
     "metadata": {},
     "output_type": "execute_result"
    }
   ],
   "source": [
    "dfg.head()"
   ]
  },
  {
   "cell_type": "markdown",
   "metadata": {},
   "source": [
    "#### Separating rows with price more than zero"
   ]
  },
  {
   "cell_type": "code",
   "execution_count": 17,
   "metadata": {},
   "outputs": [],
   "source": [
    "t = dfc_calendar[(dfc_calendar['price'] > 0.0)]"
   ]
  },
  {
   "cell_type": "markdown",
   "metadata": {},
   "source": [
    "#### Getting the rows that have minimum values for each id"
   ]
  },
  {
   "cell_type": "code",
   "execution_count": 18,
   "metadata": {},
   "outputs": [],
   "source": [
    "tt = t.loc[t.groupby('listing_id')['price'].idxmin()] "
   ]
  },
  {
   "cell_type": "markdown",
   "metadata": {},
   "source": [
    "#### Creating two new columns to save the year and month, the date with minimum price"
   ]
  },
  {
   "cell_type": "code",
   "execution_count": 19,
   "metadata": {},
   "outputs": [],
   "source": [
    "tt['year'] = pd.to_datetime(tt['date']).dt.year\n",
    "tt['month'] = pd.to_datetime(tt['date']).dt.month"
   ]
  },
  {
   "cell_type": "code",
   "execution_count": 20,
   "metadata": {
    "scrolled": true
   },
   "outputs": [
    {
     "data": {
      "text/html": [
       "<div>\n",
       "<style scoped>\n",
       "    .dataframe tbody tr th:only-of-type {\n",
       "        vertical-align: middle;\n",
       "    }\n",
       "\n",
       "    .dataframe tbody tr th {\n",
       "        vertical-align: top;\n",
       "    }\n",
       "\n",
       "    .dataframe thead th {\n",
       "        text-align: right;\n",
       "    }\n",
       "</style>\n",
       "<table border=\"1\" class=\"dataframe\">\n",
       "  <thead>\n",
       "    <tr style=\"text-align: right;\">\n",
       "      <th></th>\n",
       "      <th>listing_id</th>\n",
       "      <th>date</th>\n",
       "      <th>available</th>\n",
       "      <th>price</th>\n",
       "      <th>year</th>\n",
       "      <th>month</th>\n",
       "    </tr>\n",
       "  </thead>\n",
       "  <tbody>\n",
       "    <tr>\n",
       "      <th>1207578</th>\n",
       "      <td>3353</td>\n",
       "      <td>2017-01-14</td>\n",
       "      <td>True</td>\n",
       "      <td>32.0</td>\n",
       "      <td>2017</td>\n",
       "      <td>1</td>\n",
       "    </tr>\n",
       "    <tr>\n",
       "      <th>284700</th>\n",
       "      <td>5506</td>\n",
       "      <td>2017-09-05</td>\n",
       "      <td>True</td>\n",
       "      <td>145.0</td>\n",
       "      <td>2017</td>\n",
       "      <td>9</td>\n",
       "    </tr>\n",
       "    <tr>\n",
       "      <th>312075</th>\n",
       "      <td>6695</td>\n",
       "      <td>2017-09-05</td>\n",
       "      <td>True</td>\n",
       "      <td>195.0</td>\n",
       "      <td>2017</td>\n",
       "      <td>9</td>\n",
       "    </tr>\n",
       "    <tr>\n",
       "      <th>730</th>\n",
       "      <td>6976</td>\n",
       "      <td>2017-05-12</td>\n",
       "      <td>True</td>\n",
       "      <td>65.0</td>\n",
       "      <td>2017</td>\n",
       "      <td>5</td>\n",
       "    </tr>\n",
       "    <tr>\n",
       "      <th>770150</th>\n",
       "      <td>8792</td>\n",
       "      <td>2017-09-05</td>\n",
       "      <td>True</td>\n",
       "      <td>154.0</td>\n",
       "      <td>2017</td>\n",
       "      <td>9</td>\n",
       "    </tr>\n",
       "  </tbody>\n",
       "</table>\n",
       "</div>"
      ],
      "text/plain": [
       "         listing_id        date available  price  year  month\n",
       "1207578        3353  2017-01-14      True   32.0  2017      1\n",
       "284700         5506  2017-09-05      True  145.0  2017      9\n",
       "312075         6695  2017-09-05      True  195.0  2017      9\n",
       "730            6976  2017-05-12      True   65.0  2017      5\n",
       "770150         8792  2017-09-05      True  154.0  2017      9"
      ]
     },
     "execution_count": 20,
     "metadata": {},
     "output_type": "execute_result"
    }
   ],
   "source": [
    "tt.head()"
   ]
  },
  {
   "cell_type": "markdown",
   "metadata": {},
   "source": [
    "#### Counting ids in each month"
   ]
  },
  {
   "cell_type": "code",
   "execution_count": 21,
   "metadata": {},
   "outputs": [
    {
     "data": {
      "text/plain": [
       "9     1051\n",
       "12     488\n",
       "3      232\n",
       "2      218\n",
       "1      142\n",
       "6      142\n",
       "11     138\n",
       "7      121\n",
       "10     118\n",
       "8      107\n",
       "5       82\n",
       "4       67\n",
       "Name: month, dtype: int64"
      ]
     },
     "execution_count": 21,
     "metadata": {},
     "output_type": "execute_result"
    }
   ],
   "source": [
    "tt['month'].value_counts()"
   ]
  },
  {
   "cell_type": "markdown",
   "metadata": {},
   "source": [
    "#### Getting and date of the rows that have maximum values for each id"
   ]
  },
  {
   "cell_type": "code",
   "execution_count": 22,
   "metadata": {
    "scrolled": false
   },
   "outputs": [
    {
     "data": {
      "text/plain": [
       "9     917\n",
       "10    396\n",
       "12    327\n",
       "4     290\n",
       "8     172\n",
       "11    170\n",
       "6     157\n",
       "3     136\n",
       "7     133\n",
       "5     112\n",
       "1      75\n",
       "2      21\n",
       "Name: month, dtype: int64"
      ]
     },
     "execution_count": 22,
     "metadata": {},
     "output_type": "execute_result"
    }
   ],
   "source": [
    "ttt = t.loc[t.groupby('listing_id')['price'].idxmax()] \n",
    "ttt['year'] = pd.to_datetime(ttt['date']).dt.year\n",
    "ttt['month'] = pd.to_datetime(ttt['date']).dt.month\n",
    "ttt['month'].value_counts()"
   ]
  },
  {
   "cell_type": "markdown",
   "metadata": {},
   "source": [
    "#### Showing the homestays that change the price "
   ]
  },
  {
   "cell_type": "code",
   "execution_count": 26,
   "metadata": {},
   "outputs": [
    {
     "data": {
      "text/html": [
       "<div>\n",
       "<style scoped>\n",
       "    .dataframe tbody tr th:only-of-type {\n",
       "        vertical-align: middle;\n",
       "    }\n",
       "\n",
       "    .dataframe tbody tr th {\n",
       "        vertical-align: top;\n",
       "    }\n",
       "\n",
       "    .dataframe thead tr th {\n",
       "        text-align: left;\n",
       "    }\n",
       "\n",
       "    .dataframe thead tr:last-of-type th {\n",
       "        text-align: right;\n",
       "    }\n",
       "</style>\n",
       "<table border=\"1\" class=\"dataframe\">\n",
       "  <thead>\n",
       "    <tr>\n",
       "      <th></th>\n",
       "      <th colspan=\"5\" halign=\"left\">price</th>\n",
       "    </tr>\n",
       "    <tr>\n",
       "      <th></th>\n",
       "      <th>count</th>\n",
       "      <th>mean</th>\n",
       "      <th>std</th>\n",
       "      <th>min</th>\n",
       "      <th>max</th>\n",
       "    </tr>\n",
       "    <tr>\n",
       "      <th>listing_id</th>\n",
       "      <th></th>\n",
       "      <th></th>\n",
       "      <th></th>\n",
       "      <th></th>\n",
       "      <th></th>\n",
       "    </tr>\n",
       "  </thead>\n",
       "  <tbody>\n",
       "    <tr>\n",
       "      <th>3353</th>\n",
       "      <td>249</td>\n",
       "      <td>35.204819</td>\n",
       "      <td>1.302222</td>\n",
       "      <td>32.0</td>\n",
       "      <td>36.0</td>\n",
       "    </tr>\n",
       "    <tr>\n",
       "      <th>5506</th>\n",
       "      <td>344</td>\n",
       "      <td>147.267441</td>\n",
       "      <td>17.043196</td>\n",
       "      <td>145.0</td>\n",
       "      <td>275.0</td>\n",
       "    </tr>\n",
       "    <tr>\n",
       "      <th>6695</th>\n",
       "      <td>324</td>\n",
       "      <td>197.407410</td>\n",
       "      <td>17.553301</td>\n",
       "      <td>195.0</td>\n",
       "      <td>325.0</td>\n",
       "    </tr>\n",
       "    <tr>\n",
       "      <th>9765</th>\n",
       "      <td>362</td>\n",
       "      <td>236.856354</td>\n",
       "      <td>41.440693</td>\n",
       "      <td>192.0</td>\n",
       "      <td>490.0</td>\n",
       "    </tr>\n",
       "    <tr>\n",
       "      <th>9824</th>\n",
       "      <td>323</td>\n",
       "      <td>222.321976</td>\n",
       "      <td>46.645836</td>\n",
       "      <td>209.0</td>\n",
       "      <td>490.0</td>\n",
       "    </tr>\n",
       "  </tbody>\n",
       "</table>\n",
       "</div>"
      ],
      "text/plain": [
       "           price                                     \n",
       "           count        mean        std    min    max\n",
       "listing_id                                           \n",
       "3353         249   35.204819   1.302222   32.0   36.0\n",
       "5506         344  147.267441  17.043196  145.0  275.0\n",
       "6695         324  197.407410  17.553301  195.0  325.0\n",
       "9765         362  236.856354  41.440693  192.0  490.0\n",
       "9824         323  222.321976  46.645836  209.0  490.0"
      ]
     },
     "execution_count": 26,
     "metadata": {},
     "output_type": "execute_result"
    }
   ],
   "source": [
    "dfg[dfg['price']['min'] < dfg['price']['max']].head()"
   ]
  },
  {
   "cell_type": "markdown",
   "metadata": {},
   "source": [
    "#### Selecting the index with the minimum and maximum price of each homestay"
   ]
  },
  {
   "cell_type": "code",
   "execution_count": 27,
   "metadata": {},
   "outputs": [],
   "source": [
    "dfg = dfc_calendar[(dfc_calendar['available'] == True)].groupby('listing_id').agg({'price':['count','mean', 'std','min','max','idxmax','idxmin']})"
   ]
  },
  {
   "cell_type": "code",
   "execution_count": 28,
   "metadata": {
    "scrolled": false
   },
   "outputs": [
    {
     "data": {
      "text/html": [
       "<div>\n",
       "<style scoped>\n",
       "    .dataframe tbody tr th:only-of-type {\n",
       "        vertical-align: middle;\n",
       "    }\n",
       "\n",
       "    .dataframe tbody tr th {\n",
       "        vertical-align: top;\n",
       "    }\n",
       "\n",
       "    .dataframe thead tr th {\n",
       "        text-align: left;\n",
       "    }\n",
       "\n",
       "    .dataframe thead tr:last-of-type th {\n",
       "        text-align: right;\n",
       "    }\n",
       "</style>\n",
       "<table border=\"1\" class=\"dataframe\">\n",
       "  <thead>\n",
       "    <tr>\n",
       "      <th></th>\n",
       "      <th colspan=\"7\" halign=\"left\">price</th>\n",
       "    </tr>\n",
       "    <tr>\n",
       "      <th></th>\n",
       "      <th>count</th>\n",
       "      <th>mean</th>\n",
       "      <th>std</th>\n",
       "      <th>min</th>\n",
       "      <th>max</th>\n",
       "      <th>idxmax</th>\n",
       "      <th>idxmin</th>\n",
       "    </tr>\n",
       "    <tr>\n",
       "      <th>listing_id</th>\n",
       "      <th></th>\n",
       "      <th></th>\n",
       "      <th></th>\n",
       "      <th></th>\n",
       "      <th></th>\n",
       "      <th></th>\n",
       "      <th></th>\n",
       "    </tr>\n",
       "  </thead>\n",
       "  <tbody>\n",
       "    <tr>\n",
       "      <th>3353</th>\n",
       "      <td>249</td>\n",
       "      <td>35.204819</td>\n",
       "      <td>1.302222</td>\n",
       "      <td>32.0</td>\n",
       "      <td>36.0</td>\n",
       "      <td>1207420</td>\n",
       "      <td>1207578</td>\n",
       "    </tr>\n",
       "    <tr>\n",
       "      <th>5506</th>\n",
       "      <td>344</td>\n",
       "      <td>147.267441</td>\n",
       "      <td>17.043196</td>\n",
       "      <td>145.0</td>\n",
       "      <td>275.0</td>\n",
       "      <td>284838</td>\n",
       "      <td>284700</td>\n",
       "    </tr>\n",
       "    <tr>\n",
       "      <th>6695</th>\n",
       "      <td>324</td>\n",
       "      <td>197.407410</td>\n",
       "      <td>17.553301</td>\n",
       "      <td>195.0</td>\n",
       "      <td>325.0</td>\n",
       "      <td>312215</td>\n",
       "      <td>312075</td>\n",
       "    </tr>\n",
       "    <tr>\n",
       "      <th>6976</th>\n",
       "      <td>319</td>\n",
       "      <td>65.000000</td>\n",
       "      <td>0.000000</td>\n",
       "      <td>65.0</td>\n",
       "      <td>65.0</td>\n",
       "      <td>730</td>\n",
       "      <td>730</td>\n",
       "    </tr>\n",
       "    <tr>\n",
       "      <th>8792</th>\n",
       "      <td>248</td>\n",
       "      <td>154.000000</td>\n",
       "      <td>0.000000</td>\n",
       "      <td>154.0</td>\n",
       "      <td>154.0</td>\n",
       "      <td>770150</td>\n",
       "      <td>770150</td>\n",
       "    </tr>\n",
       "  </tbody>\n",
       "</table>\n",
       "</div>"
      ],
      "text/plain": [
       "           price                                                       \n",
       "           count        mean        std    min    max   idxmax   idxmin\n",
       "listing_id                                                             \n",
       "3353         249   35.204819   1.302222   32.0   36.0  1207420  1207578\n",
       "5506         344  147.267441  17.043196  145.0  275.0   284838   284700\n",
       "6695         324  197.407410  17.553301  195.0  325.0   312215   312075\n",
       "6976         319   65.000000   0.000000   65.0   65.0      730      730\n",
       "8792         248  154.000000   0.000000  154.0  154.0   770150   770150"
      ]
     },
     "execution_count": 28,
     "metadata": {},
     "output_type": "execute_result"
    }
   ],
   "source": [
    "dfg.head()"
   ]
  },
  {
   "cell_type": "markdown",
   "metadata": {},
   "source": [
    "#### Analyzing the date of homestays wirh lowest and highest price "
   ]
  },
  {
   "cell_type": "code",
   "execution_count": 29,
   "metadata": {},
   "outputs": [],
   "source": [
    "dfg['date_min'] = dfc_calendar.reindex(dfg['price']['idxmin'])['date'].values\n",
    "dfg['date_max'] = dfc_calendar.reindex(dfg['price']['idxmax'])['date'].values"
   ]
  },
  {
   "cell_type": "code",
   "execution_count": 30,
   "metadata": {
    "scrolled": true
   },
   "outputs": [
    {
     "data": {
      "text/html": [
       "<div>\n",
       "<style scoped>\n",
       "    .dataframe tbody tr th:only-of-type {\n",
       "        vertical-align: middle;\n",
       "    }\n",
       "\n",
       "    .dataframe tbody tr th {\n",
       "        vertical-align: top;\n",
       "    }\n",
       "\n",
       "    .dataframe thead tr th {\n",
       "        text-align: left;\n",
       "    }\n",
       "\n",
       "    .dataframe thead tr:last-of-type th {\n",
       "        text-align: right;\n",
       "    }\n",
       "</style>\n",
       "<table border=\"1\" class=\"dataframe\">\n",
       "  <thead>\n",
       "    <tr>\n",
       "      <th></th>\n",
       "      <th colspan=\"7\" halign=\"left\">price</th>\n",
       "      <th>date_min</th>\n",
       "      <th>date_max</th>\n",
       "    </tr>\n",
       "    <tr>\n",
       "      <th></th>\n",
       "      <th>count</th>\n",
       "      <th>mean</th>\n",
       "      <th>std</th>\n",
       "      <th>min</th>\n",
       "      <th>max</th>\n",
       "      <th>idxmax</th>\n",
       "      <th>idxmin</th>\n",
       "      <th></th>\n",
       "      <th></th>\n",
       "    </tr>\n",
       "    <tr>\n",
       "      <th>listing_id</th>\n",
       "      <th></th>\n",
       "      <th></th>\n",
       "      <th></th>\n",
       "      <th></th>\n",
       "      <th></th>\n",
       "      <th></th>\n",
       "      <th></th>\n",
       "      <th></th>\n",
       "      <th></th>\n",
       "    </tr>\n",
       "  </thead>\n",
       "  <tbody>\n",
       "    <tr>\n",
       "      <th>3353</th>\n",
       "      <td>249</td>\n",
       "      <td>35.204819</td>\n",
       "      <td>1.302222</td>\n",
       "      <td>32.0</td>\n",
       "      <td>36.0</td>\n",
       "      <td>1207420</td>\n",
       "      <td>1207578</td>\n",
       "      <td>2017-01-14</td>\n",
       "      <td>2017-09-05</td>\n",
       "    </tr>\n",
       "    <tr>\n",
       "      <th>5506</th>\n",
       "      <td>344</td>\n",
       "      <td>147.267441</td>\n",
       "      <td>17.043196</td>\n",
       "      <td>145.0</td>\n",
       "      <td>275.0</td>\n",
       "      <td>284838</td>\n",
       "      <td>284700</td>\n",
       "      <td>2017-09-05</td>\n",
       "      <td>2017-04-18</td>\n",
       "    </tr>\n",
       "    <tr>\n",
       "      <th>6695</th>\n",
       "      <td>324</td>\n",
       "      <td>197.407410</td>\n",
       "      <td>17.553301</td>\n",
       "      <td>195.0</td>\n",
       "      <td>325.0</td>\n",
       "      <td>312215</td>\n",
       "      <td>312075</td>\n",
       "      <td>2017-09-05</td>\n",
       "      <td>2017-04-18</td>\n",
       "    </tr>\n",
       "    <tr>\n",
       "      <th>6976</th>\n",
       "      <td>319</td>\n",
       "      <td>65.000000</td>\n",
       "      <td>0.000000</td>\n",
       "      <td>65.0</td>\n",
       "      <td>65.0</td>\n",
       "      <td>730</td>\n",
       "      <td>730</td>\n",
       "      <td>2017-05-12</td>\n",
       "      <td>2017-05-12</td>\n",
       "    </tr>\n",
       "    <tr>\n",
       "      <th>8792</th>\n",
       "      <td>248</td>\n",
       "      <td>154.000000</td>\n",
       "      <td>0.000000</td>\n",
       "      <td>154.0</td>\n",
       "      <td>154.0</td>\n",
       "      <td>770150</td>\n",
       "      <td>770150</td>\n",
       "      <td>2017-09-05</td>\n",
       "      <td>2017-09-05</td>\n",
       "    </tr>\n",
       "  </tbody>\n",
       "</table>\n",
       "</div>"
      ],
      "text/plain": [
       "           price                                                         \\\n",
       "           count        mean        std    min    max   idxmax   idxmin   \n",
       "listing_id                                                                \n",
       "3353         249   35.204819   1.302222   32.0   36.0  1207420  1207578   \n",
       "5506         344  147.267441  17.043196  145.0  275.0   284838   284700   \n",
       "6695         324  197.407410  17.553301  195.0  325.0   312215   312075   \n",
       "6976         319   65.000000   0.000000   65.0   65.0      730      730   \n",
       "8792         248  154.000000   0.000000  154.0  154.0   770150   770150   \n",
       "\n",
       "              date_min    date_max  \n",
       "                                    \n",
       "listing_id                          \n",
       "3353        2017-01-14  2017-09-05  \n",
       "5506        2017-09-05  2017-04-18  \n",
       "6695        2017-09-05  2017-04-18  \n",
       "6976        2017-05-12  2017-05-12  \n",
       "8792        2017-09-05  2017-09-05  "
      ]
     },
     "execution_count": 30,
     "metadata": {},
     "output_type": "execute_result"
    }
   ],
   "source": [
    "dfg.head()"
   ]
  },
  {
   "cell_type": "markdown",
   "metadata": {},
   "source": [
    "#### Separating the month and the year of dates of homestays wirh lowest and highest price"
   ]
  },
  {
   "cell_type": "code",
   "execution_count": 31,
   "metadata": {},
   "outputs": [
    {
     "data": {
      "text/html": [
       "<div>\n",
       "<style scoped>\n",
       "    .dataframe tbody tr th:only-of-type {\n",
       "        vertical-align: middle;\n",
       "    }\n",
       "\n",
       "    .dataframe tbody tr th {\n",
       "        vertical-align: top;\n",
       "    }\n",
       "\n",
       "    .dataframe thead tr th {\n",
       "        text-align: left;\n",
       "    }\n",
       "\n",
       "    .dataframe thead tr:last-of-type th {\n",
       "        text-align: right;\n",
       "    }\n",
       "</style>\n",
       "<table border=\"1\" class=\"dataframe\">\n",
       "  <thead>\n",
       "    <tr>\n",
       "      <th></th>\n",
       "      <th colspan=\"7\" halign=\"left\">price</th>\n",
       "      <th>date_min</th>\n",
       "      <th>date_max</th>\n",
       "      <th>year_min</th>\n",
       "      <th>month_min</th>\n",
       "      <th>year_max</th>\n",
       "      <th>month_max</th>\n",
       "    </tr>\n",
       "    <tr>\n",
       "      <th></th>\n",
       "      <th>count</th>\n",
       "      <th>mean</th>\n",
       "      <th>std</th>\n",
       "      <th>min</th>\n",
       "      <th>max</th>\n",
       "      <th>idxmax</th>\n",
       "      <th>idxmin</th>\n",
       "      <th></th>\n",
       "      <th></th>\n",
       "      <th></th>\n",
       "      <th></th>\n",
       "      <th></th>\n",
       "      <th></th>\n",
       "    </tr>\n",
       "    <tr>\n",
       "      <th>listing_id</th>\n",
       "      <th></th>\n",
       "      <th></th>\n",
       "      <th></th>\n",
       "      <th></th>\n",
       "      <th></th>\n",
       "      <th></th>\n",
       "      <th></th>\n",
       "      <th></th>\n",
       "      <th></th>\n",
       "      <th></th>\n",
       "      <th></th>\n",
       "      <th></th>\n",
       "      <th></th>\n",
       "    </tr>\n",
       "  </thead>\n",
       "  <tbody>\n",
       "    <tr>\n",
       "      <th>3353</th>\n",
       "      <td>249</td>\n",
       "      <td>35.204819</td>\n",
       "      <td>1.302222</td>\n",
       "      <td>32.0</td>\n",
       "      <td>36.0</td>\n",
       "      <td>1207420</td>\n",
       "      <td>1207578</td>\n",
       "      <td>2017-01-14</td>\n",
       "      <td>2017-09-05</td>\n",
       "      <td>2017</td>\n",
       "      <td>1</td>\n",
       "      <td>2017</td>\n",
       "      <td>9</td>\n",
       "    </tr>\n",
       "    <tr>\n",
       "      <th>5506</th>\n",
       "      <td>344</td>\n",
       "      <td>147.267441</td>\n",
       "      <td>17.043196</td>\n",
       "      <td>145.0</td>\n",
       "      <td>275.0</td>\n",
       "      <td>284838</td>\n",
       "      <td>284700</td>\n",
       "      <td>2017-09-05</td>\n",
       "      <td>2017-04-18</td>\n",
       "      <td>2017</td>\n",
       "      <td>9</td>\n",
       "      <td>2017</td>\n",
       "      <td>4</td>\n",
       "    </tr>\n",
       "    <tr>\n",
       "      <th>6695</th>\n",
       "      <td>324</td>\n",
       "      <td>197.407410</td>\n",
       "      <td>17.553301</td>\n",
       "      <td>195.0</td>\n",
       "      <td>325.0</td>\n",
       "      <td>312215</td>\n",
       "      <td>312075</td>\n",
       "      <td>2017-09-05</td>\n",
       "      <td>2017-04-18</td>\n",
       "      <td>2017</td>\n",
       "      <td>9</td>\n",
       "      <td>2017</td>\n",
       "      <td>4</td>\n",
       "    </tr>\n",
       "    <tr>\n",
       "      <th>6976</th>\n",
       "      <td>319</td>\n",
       "      <td>65.000000</td>\n",
       "      <td>0.000000</td>\n",
       "      <td>65.0</td>\n",
       "      <td>65.0</td>\n",
       "      <td>730</td>\n",
       "      <td>730</td>\n",
       "      <td>2017-05-12</td>\n",
       "      <td>2017-05-12</td>\n",
       "      <td>2017</td>\n",
       "      <td>5</td>\n",
       "      <td>2017</td>\n",
       "      <td>5</td>\n",
       "    </tr>\n",
       "    <tr>\n",
       "      <th>8792</th>\n",
       "      <td>248</td>\n",
       "      <td>154.000000</td>\n",
       "      <td>0.000000</td>\n",
       "      <td>154.0</td>\n",
       "      <td>154.0</td>\n",
       "      <td>770150</td>\n",
       "      <td>770150</td>\n",
       "      <td>2017-09-05</td>\n",
       "      <td>2017-09-05</td>\n",
       "      <td>2017</td>\n",
       "      <td>9</td>\n",
       "      <td>2017</td>\n",
       "      <td>9</td>\n",
       "    </tr>\n",
       "  </tbody>\n",
       "</table>\n",
       "</div>"
      ],
      "text/plain": [
       "           price                                                         \\\n",
       "           count        mean        std    min    max   idxmax   idxmin   \n",
       "listing_id                                                                \n",
       "3353         249   35.204819   1.302222   32.0   36.0  1207420  1207578   \n",
       "5506         344  147.267441  17.043196  145.0  275.0   284838   284700   \n",
       "6695         324  197.407410  17.553301  195.0  325.0   312215   312075   \n",
       "6976         319   65.000000   0.000000   65.0   65.0      730      730   \n",
       "8792         248  154.000000   0.000000  154.0  154.0   770150   770150   \n",
       "\n",
       "              date_min    date_max year_min month_min year_max month_max  \n",
       "                                                                          \n",
       "listing_id                                                                \n",
       "3353        2017-01-14  2017-09-05     2017         1     2017         9  \n",
       "5506        2017-09-05  2017-04-18     2017         9     2017         4  \n",
       "6695        2017-09-05  2017-04-18     2017         9     2017         4  \n",
       "6976        2017-05-12  2017-05-12     2017         5     2017         5  \n",
       "8792        2017-09-05  2017-09-05     2017         9     2017         9  "
      ]
     },
     "execution_count": 31,
     "metadata": {},
     "output_type": "execute_result"
    }
   ],
   "source": [
    "dfg['year_min'] = pd.to_datetime(dfg['date_min']).dt.year\n",
    "dfg['month_min'] = pd.to_datetime(dfg['date_min']).dt.month\n",
    "dfg['year_max'] = pd.to_datetime(dfg['date_max']).dt.year\n",
    "dfg['month_max'] = pd.to_datetime(dfg['date_max']).dt.month\n",
    "dfg.head()"
   ]
  },
  {
   "cell_type": "markdown",
   "metadata": {},
   "source": [
    "#### Plotting the count of homestays that reach the minimum price in that month"
   ]
  },
  {
   "cell_type": "code",
   "execution_count": 32,
   "metadata": {},
   "outputs": [
    {
     "data": {
      "image/png": "[encoded data removed]",
      "text/plain": [
       "<Figure size 640x480 with 1 Axes>"
      ]
     },
     "metadata": {},
     "output_type": "display_data"
    }
   ],
   "source": [
    "plt.figure(num=None, figsize=(8, 6), dpi=80, facecolor='w', edgecolor='k')\n",
    "t1 = dfg[dfg['price']['std'] != 0]['month_min'].value_counts().sort_index()\n",
    "ax_max = sns.barplot(x=t1.index,y=t1.values,color=\"blue\")\n",
    "ax_max.set_title('Count of homestays that reach the lowest price each month')\n",
    "ax_max.set(xlabel='Month', ylabel='Count')\n",
    "figure = ax_max.get_figure()    \n",
    "plt.savefig('count_min.png', dpi=1024)\n",
    "plt.show()"
   ]
  },
  {
   "cell_type": "markdown",
   "metadata": {},
   "source": [
    "#### Plotting the count of homestays that reach the maximo price in that month"
   ]
  },
  {
   "cell_type": "code",
   "execution_count": 33,
   "metadata": {
    "scrolled": true
   },
   "outputs": [
    {
     "data": {
      "image/png": "[encoded data removed]",
      "text/plain": [
       "<Figure size 640x480 with 1 Axes>"
      ]
     },
     "metadata": {},
     "output_type": "display_data"
    }
   ],
   "source": [
    "plt.figure(num=None, figsize=(8, 6), dpi=80, facecolor='w', edgecolor='k')\n",
    "t1 = dfg[dfg['price']['std'] != 0]['month_max'].value_counts().sort_index()\n",
    "ax_max = sns.barplot(x=t1.index,y=t1.values,color=\"blue\")\n",
    "ax_max.set_title('Count of homestays that reach the highest price each month')\n",
    "ax_max.set(xlabel='Month', ylabel='Count')\n",
    "figure = ax_max.get_figure()    \n",
    "plt.savefig('count_max.png', dpi=1024)\n",
    "plt.show()"
   ]
  },
  {
   "cell_type": "markdown",
   "metadata": {},
   "source": [
    "> Number of accommodations that reached the highest / lowest price each month.\n",
    "> The number of higher priced accommodations in April and September are explained by the marathon and carnival that take place in the respective months.\n",
    "\n",
    "> These are major annual events that move the city a lot and contribute to this behavior in the price of accommodation.\n",
    "\n",
    "> Despite the increase in the number of accommodations that reach the maximum price in the months of April, September and October, there are accommodations that have not changed the price, in addition to accommodations that are cheaper in these periods.\n",
    "\n",
    "> Considering that the desire is to travel to the Boston marathon in April, so let's focus on a more restricted analysis for this period."
   ]
  },
  {
   "cell_type": "markdown",
   "metadata": {},
   "source": [
    "#### Counting and plotting the available homestays in all months"
   ]
  },
  {
   "cell_type": "code",
   "execution_count": 38,
   "metadata": {},
   "outputs": [
    {
     "data": {
      "text/plain": [
       "(array([ 0,  1,  2,  3,  4,  5,  6,  7,  8,  9, 10, 11, 12]),\n",
       " <a list of 13 Text xticklabel objects>)"
      ]
     },
     "execution_count": 38,
     "metadata": {},
     "output_type": "execute_result"
    },
    {
     "data": {
      "image/png": "[encoded data removed]",
      "text/plain": [
       "<Figure size 432x288 with 1 Axes>"
      ]
     },
     "metadata": {
      "needs_background": "light"
     },
     "output_type": "display_data"
    }
   ],
   "source": [
    "coutns = dfc_calendar[dfc_calendar['available'] == True].groupby(['year','month'])['price'].count()\n",
    "counts_fig = sns.barplot(x=coutns.index,y=coutns.values,color=\"blue\")\n",
    "counts_fig.set(xlabel='Month', ylabel='Count')\n",
    "counts_fig.set_title('Count hosts')\n",
    "plt.xticks(rotation=70)"
   ]
  },
  {
   "cell_type": "markdown",
   "metadata": {},
   "source": [
    "#### Plotting boxplot of mean price in all months"
   ]
  },
  {
   "cell_type": "code",
   "execution_count": 39,
   "metadata": {
    "scrolled": false
   },
   "outputs": [
    {
     "data": {
      "text/plain": [
       "<matplotlib.axes._subplots.AxesSubplot at 0x18c3b8bb5f8>"
      ]
     },
     "execution_count": 39,
     "metadata": {},
     "output_type": "execute_result"
    },
    {
     "data": {
      "image/png": "[encoded data removed]",
      "text/plain": [
       "<Figure size 432x288 with 1 Axes>"
      ]
     },
     "metadata": {
      "needs_background": "light"
     },
     "output_type": "display_data"
    }
   ],
   "source": [
    "sns.boxplot(data=dfc_calendar[(dfc_calendar['price'] > 0) & (dfc_calendar['price'] < 2000)],x='month',y='price')"
   ]
  },
  {
   "cell_type": "markdown",
   "metadata": {},
   "source": [
    "#### Just a view"
   ]
  },
  {
   "cell_type": "code",
   "execution_count": 40,
   "metadata": {},
   "outputs": [
    {
     "data": {
      "text/html": [
       "<div>\n",
       "<style scoped>\n",
       "    .dataframe tbody tr th:only-of-type {\n",
       "        vertical-align: middle;\n",
       "    }\n",
       "\n",
       "    .dataframe tbody tr th {\n",
       "        vertical-align: top;\n",
       "    }\n",
       "\n",
       "    .dataframe thead th {\n",
       "        text-align: right;\n",
       "    }\n",
       "</style>\n",
       "<table border=\"1\" class=\"dataframe\">\n",
       "  <thead>\n",
       "    <tr style=\"text-align: right;\">\n",
       "      <th></th>\n",
       "      <th>listing_id</th>\n",
       "      <th>date</th>\n",
       "      <th>available</th>\n",
       "      <th>price</th>\n",
       "      <th>year</th>\n",
       "      <th>month</th>\n",
       "    </tr>\n",
       "  </thead>\n",
       "  <tbody>\n",
       "    <tr>\n",
       "      <th>0</th>\n",
       "      <td>12147973</td>\n",
       "      <td>2017-09-05</td>\n",
       "      <td>False</td>\n",
       "      <td>0.0</td>\n",
       "      <td>2017</td>\n",
       "      <td>9</td>\n",
       "    </tr>\n",
       "    <tr>\n",
       "      <th>1</th>\n",
       "      <td>12147973</td>\n",
       "      <td>2017-09-04</td>\n",
       "      <td>False</td>\n",
       "      <td>0.0</td>\n",
       "      <td>2017</td>\n",
       "      <td>9</td>\n",
       "    </tr>\n",
       "    <tr>\n",
       "      <th>2</th>\n",
       "      <td>12147973</td>\n",
       "      <td>2017-09-03</td>\n",
       "      <td>False</td>\n",
       "      <td>0.0</td>\n",
       "      <td>2017</td>\n",
       "      <td>9</td>\n",
       "    </tr>\n",
       "    <tr>\n",
       "      <th>3</th>\n",
       "      <td>12147973</td>\n",
       "      <td>2017-09-02</td>\n",
       "      <td>False</td>\n",
       "      <td>0.0</td>\n",
       "      <td>2017</td>\n",
       "      <td>9</td>\n",
       "    </tr>\n",
       "    <tr>\n",
       "      <th>4</th>\n",
       "      <td>12147973</td>\n",
       "      <td>2017-09-01</td>\n",
       "      <td>False</td>\n",
       "      <td>0.0</td>\n",
       "      <td>2017</td>\n",
       "      <td>9</td>\n",
       "    </tr>\n",
       "  </tbody>\n",
       "</table>\n",
       "</div>"
      ],
      "text/plain": [
       "   listing_id        date available  price  year  month\n",
       "0    12147973  2017-09-05     False    0.0  2017      9\n",
       "1    12147973  2017-09-04     False    0.0  2017      9\n",
       "2    12147973  2017-09-03     False    0.0  2017      9\n",
       "3    12147973  2017-09-02     False    0.0  2017      9\n",
       "4    12147973  2017-09-01     False    0.0  2017      9"
      ]
     },
     "execution_count": 40,
     "metadata": {},
     "output_type": "execute_result"
    }
   ],
   "source": [
    "dfc_calendar.head()"
   ]
  },
  {
   "cell_type": "markdown",
   "metadata": {},
   "source": [
    "#### Question 2: What is the cheapest neighborhood? And which is the most expensive?"
   ]
  },
  {
   "cell_type": "markdown",
   "metadata": {},
   "source": [
    "To answer this question, it will be necessary to extract the price and neighborhood information, which are in different files, and then combine these data."
   ]
  },
  {
   "cell_type": "markdown",
   "metadata": {},
   "source": [
    "#### Calculating mean price of each homestay"
   ]
  },
  {
   "cell_type": "code",
   "execution_count": 41,
   "metadata": {},
   "outputs": [],
   "source": [
    "prices = dfc_calendar[dfc_calendar['price'] > 0].groupby(['listing_id'])['price'].mean()"
   ]
  },
  {
   "cell_type": "code",
   "execution_count": 42,
   "metadata": {},
   "outputs": [],
   "source": [
    "prices = prices.reset_index()"
   ]
  },
  {
   "cell_type": "code",
   "execution_count": 43,
   "metadata": {},
   "outputs": [
    {
     "data": {
      "text/html": [
       "<div>\n",
       "<style scoped>\n",
       "    .dataframe tbody tr th:only-of-type {\n",
       "        vertical-align: middle;\n",
       "    }\n",
       "\n",
       "    .dataframe tbody tr th {\n",
       "        vertical-align: top;\n",
       "    }\n",
       "\n",
       "    .dataframe thead th {\n",
       "        text-align: right;\n",
       "    }\n",
       "</style>\n",
       "<table border=\"1\" class=\"dataframe\">\n",
       "  <thead>\n",
       "    <tr style=\"text-align: right;\">\n",
       "      <th></th>\n",
       "      <th>listing_id</th>\n",
       "      <th>price</th>\n",
       "    </tr>\n",
       "  </thead>\n",
       "  <tbody>\n",
       "    <tr>\n",
       "      <th>0</th>\n",
       "      <td>3353</td>\n",
       "      <td>35.204819</td>\n",
       "    </tr>\n",
       "    <tr>\n",
       "      <th>1</th>\n",
       "      <td>5506</td>\n",
       "      <td>147.267441</td>\n",
       "    </tr>\n",
       "    <tr>\n",
       "      <th>2</th>\n",
       "      <td>6695</td>\n",
       "      <td>197.407410</td>\n",
       "    </tr>\n",
       "    <tr>\n",
       "      <th>3</th>\n",
       "      <td>6976</td>\n",
       "      <td>65.000000</td>\n",
       "    </tr>\n",
       "    <tr>\n",
       "      <th>4</th>\n",
       "      <td>8792</td>\n",
       "      <td>154.000000</td>\n",
       "    </tr>\n",
       "  </tbody>\n",
       "</table>\n",
       "</div>"
      ],
      "text/plain": [
       "   listing_id       price\n",
       "0        3353   35.204819\n",
       "1        5506  147.267441\n",
       "2        6695  197.407410\n",
       "3        6976   65.000000\n",
       "4        8792  154.000000"
      ]
     },
     "execution_count": 43,
     "metadata": {},
     "output_type": "execute_result"
    }
   ],
   "source": [
    "prices.head()"
   ]
  },
  {
   "cell_type": "markdown",
   "metadata": {},
   "source": [
    "#### Reading the listings.csv and viewing few rows to have a look at the dataframe"
   ]
  },
  {
   "cell_type": "code",
   "execution_count": 44,
   "metadata": {},
   "outputs": [],
   "source": [
    "df_listings = pd.read_csv('listings.csv')\n",
    "dfc_listings = df_listings.copy()"
   ]
  },
  {
   "cell_type": "code",
   "execution_count": 45,
   "metadata": {},
   "outputs": [
    {
     "data": {
      "text/html": [
       "<div>\n",
       "<style scoped>\n",
       "    .dataframe tbody tr th:only-of-type {\n",
       "        vertical-align: middle;\n",
       "    }\n",
       "\n",
       "    .dataframe tbody tr th {\n",
       "        vertical-align: top;\n",
       "    }\n",
       "\n",
       "    .dataframe thead th {\n",
       "        text-align: right;\n",
       "    }\n",
       "</style>\n",
       "<table border=\"1\" class=\"dataframe\">\n",
       "  <thead>\n",
       "    <tr style=\"text-align: right;\">\n",
       "      <th></th>\n",
       "      <th>id</th>\n",
       "      <th>listing_url</th>\n",
       "      <th>scrape_id</th>\n",
       "      <th>last_scraped</th>\n",
       "      <th>name</th>\n",
       "      <th>summary</th>\n",
       "      <th>space</th>\n",
       "      <th>description</th>\n",
       "      <th>experiences_offered</th>\n",
       "      <th>neighborhood_overview</th>\n",
       "      <th>notes</th>\n",
       "      <th>transit</th>\n",
       "      <th>access</th>\n",
       "      <th>interaction</th>\n",
       "      <th>house_rules</th>\n",
       "      <th>thumbnail_url</th>\n",
       "      <th>medium_url</th>\n",
       "      <th>picture_url</th>\n",
       "      <th>xl_picture_url</th>\n",
       "      <th>host_id</th>\n",
       "      <th>host_url</th>\n",
       "      <th>host_name</th>\n",
       "      <th>host_since</th>\n",
       "      <th>host_location</th>\n",
       "      <th>host_about</th>\n",
       "      <th>host_response_time</th>\n",
       "      <th>host_response_rate</th>\n",
       "      <th>host_acceptance_rate</th>\n",
       "      <th>host_is_superhost</th>\n",
       "      <th>host_thumbnail_url</th>\n",
       "      <th>host_picture_url</th>\n",
       "      <th>host_neighbourhood</th>\n",
       "      <th>host_listings_count</th>\n",
       "      <th>host_total_listings_count</th>\n",
       "      <th>host_verifications</th>\n",
       "      <th>host_has_profile_pic</th>\n",
       "      <th>host_identity_verified</th>\n",
       "      <th>street</th>\n",
       "      <th>neighbourhood</th>\n",
       "      <th>neighbourhood_cleansed</th>\n",
       "      <th>neighbourhood_group_cleansed</th>\n",
       "      <th>city</th>\n",
       "      <th>state</th>\n",
       "      <th>zipcode</th>\n",
       "      <th>market</th>\n",
       "      <th>smart_location</th>\n",
       "      <th>country_code</th>\n",
       "      <th>country</th>\n",
       "      <th>latitude</th>\n",
       "      <th>longitude</th>\n",
       "      <th>is_location_exact</th>\n",
       "      <th>property_type</th>\n",
       "      <th>room_type</th>\n",
       "      <th>accommodates</th>\n",
       "      <th>bathrooms</th>\n",
       "      <th>bedrooms</th>\n",
       "      <th>beds</th>\n",
       "      <th>bed_type</th>\n",
       "      <th>amenities</th>\n",
       "      <th>square_feet</th>\n",
       "      <th>price</th>\n",
       "      <th>weekly_price</th>\n",
       "      <th>monthly_price</th>\n",
       "      <th>security_deposit</th>\n",
       "      <th>cleaning_fee</th>\n",
       "      <th>guests_included</th>\n",
       "      <th>extra_people</th>\n",
       "      <th>minimum_nights</th>\n",
       "      <th>maximum_nights</th>\n",
       "      <th>calendar_updated</th>\n",
       "      <th>has_availability</th>\n",
       "      <th>availability_30</th>\n",
       "      <th>availability_60</th>\n",
       "      <th>availability_90</th>\n",
       "      <th>availability_365</th>\n",
       "      <th>calendar_last_scraped</th>\n",
       "      <th>number_of_reviews</th>\n",
       "      <th>first_review</th>\n",
       "      <th>last_review</th>\n",
       "      <th>review_scores_rating</th>\n",
       "      <th>review_scores_accuracy</th>\n",
       "      <th>review_scores_cleanliness</th>\n",
       "      <th>review_scores_checkin</th>\n",
       "      <th>review_scores_communication</th>\n",
       "      <th>review_scores_location</th>\n",
       "      <th>review_scores_value</th>\n",
       "      <th>requires_license</th>\n",
       "      <th>license</th>\n",
       "      <th>jurisdiction_names</th>\n",
       "      <th>instant_bookable</th>\n",
       "      <th>cancellation_policy</th>\n",
       "      <th>require_guest_profile_picture</th>\n",
       "      <th>require_guest_phone_verification</th>\n",
       "      <th>calculated_host_listings_count</th>\n",
       "      <th>reviews_per_month</th>\n",
       "    </tr>\n",
       "  </thead>\n",
       "  <tbody>\n",
       "    <tr>\n",
       "      <th>0</th>\n",
       "      <td>12147973</td>\n",
       "      <td>https://www.airbnb.com/rooms/12147973</td>\n",
       "      <td>20160906204935</td>\n",
       "      <td>2016-09-07</td>\n",
       "      <td>Sunny Bungalow in the City</td>\n",
       "      <td>Cozy, sunny, family home.  Master bedroom high ceilings. Deck, garden with hens, beehives &amp; play structure.   Short walk to charming village with  attractive stores, groceries &amp; local restaurants. Friendly neighborhood. Access public transportation.</td>\n",
       "      <td>The house has an open and cozy feel at the same time.  The living room has a flat screen TV.  The kitchen has all you need for cooking.  We prefer you buy your food but can use the organic oils, herbs, etc.   The yard can be seen from sitting room and when the weather allows, the yard is a place children can lose themselves in a safe way.  We have 2 bee hives, 6 hens fenced in (sometimes they get out of their coop area &amp; into the yard), 2 rabbits in a hutch and play structure.</td>\n",
       "      <td>Cozy, sunny, family home.  Master bedroom high ceilings. Deck, garden with hens, beehives &amp; play structure.   Short walk to charming village with  attractive stores, groceries &amp; local restaurants. Friendly neighborhood. Access public transportation. The house has an open and cozy feel at the same time.  The living room has a flat screen TV.  The kitchen has all you need for cooking.  We prefer you buy your food but can use the organic oils, herbs, etc.   The yard can be seen from sitting room and when the weather allows, the yard is a place children can lose themselves in a safe way.  We have 2 bee hives, 6 hens fenced in (sometimes they get out of their coop area &amp; into the yard), 2 rabbits in a hutch and play structure. You will have access to 2 bedrooms, a living room, kitchen, bathrooms, and yard. Roslindale is quiet, convenient and friendly.  For Southern food try Redd's in Rozzie.  Italian Delfino's or Sophia's Grotto are great. Birch St Bistro has nice atmostphere--a little pric</td>\n",
       "      <td>none</td>\n",
       "      <td>Roslindale is quiet, convenient and friendly.  For Southern food try Redd's in Rozzie.  Italian Delfino's or Sophia's Grotto are great. Birch St Bistro has nice atmostphere--a little pricier.   If you are cooking the Fish Market has fresh fish daily; Tony's makes his own sausages and has Italian foods;  for  a wide variety of delicious cheeses and chocolates go to the Cheese Cellar on Birch St.</td>\n",
       "      <td>NaN</td>\n",
       "      <td>The bus stop is 2 blocks away, and frequent. Bus is about a 10 minute ride to the Orange line, forest hills. The commuter rail into down town is a 6 minute walk from our home.  Walking is pleasant and restaurants, shops and grocery store are all a 6 minute walk away.</td>\n",
       "      <td>You will have access to 2 bedrooms, a living room, kitchen, bathrooms, and yard.</td>\n",
       "      <td>NaN</td>\n",
       "      <td>Clean up and treat the home the way you'd like your home to be treated.  No smoking.</td>\n",
       "      <td>https://a2.muscache.com/im/pictures/c0842db1-ee98-4fe8-870b-d1e2af33855d.jpg?aki_policy=small</td>\n",
       "      <td>https://a2.muscache.com/im/pictures/c0842db1-ee98-4fe8-870b-d1e2af33855d.jpg?aki_policy=medium</td>\n",
       "      <td>https://a2.muscache.com/im/pictures/c0842db1-ee98-4fe8-870b-d1e2af33855d.jpg?aki_policy=large</td>\n",
       "      <td>https://a2.muscache.com/im/pictures/c0842db1-ee98-4fe8-870b-d1e2af33855d.jpg?aki_policy=x_large</td>\n",
       "      <td>31303940</td>\n",
       "      <td>https://www.airbnb.com/users/show/31303940</td>\n",
       "      <td>Virginia</td>\n",
       "      <td>2015-04-15</td>\n",
       "      <td>Boston, Massachusetts, United States</td>\n",
       "      <td>We are country and city connecting in our deck and garden. Enjoy our music room, books and flat screen TV with the pastoral backyard of hens, bees, rabbits and an organic garden.</td>\n",
       "      <td>NaN</td>\n",
       "      <td>NaN</td>\n",
       "      <td>NaN</td>\n",
       "      <td>f</td>\n",
       "      <td>https://a2.muscache.com/im/pictures/5936fef0-ba16-45bd-ac33-9226137d0763.jpg?aki_policy=profile_small</td>\n",
       "      <td>https://a2.muscache.com/im/pictures/5936fef0-ba16-45bd-ac33-9226137d0763.jpg?aki_policy=profile_x_medium</td>\n",
       "      <td>Roslindale</td>\n",
       "      <td>1</td>\n",
       "      <td>1</td>\n",
       "      <td>['email', 'phone', 'facebook', 'reviews']</td>\n",
       "      <td>t</td>\n",
       "      <td>f</td>\n",
       "      <td>Birch Street, Boston, MA 02131, United States</td>\n",
       "      <td>Roslindale</td>\n",
       "      <td>Roslindale</td>\n",
       "      <td>NaN</td>\n",
       "      <td>Boston</td>\n",
       "      <td>MA</td>\n",
       "      <td>02131</td>\n",
       "      <td>Boston</td>\n",
       "      <td>Boston, MA</td>\n",
       "      <td>US</td>\n",
       "      <td>United States</td>\n",
       "      <td>42.282619</td>\n",
       "      <td>-71.133068</td>\n",
       "      <td>t</td>\n",
       "      <td>House</td>\n",
       "      <td>Entire home/apt</td>\n",
       "      <td>4</td>\n",
       "      <td>1.5</td>\n",
       "      <td>2.0</td>\n",
       "      <td>3.0</td>\n",
       "      <td>Real Bed</td>\n",
       "      <td>{TV,\"Wireless Internet\",Kitchen,\"Free Parking on Premises\",\"Pets live on this property\",Dog(s),Heating,\"Family/Kid Friendly\",Washer,Dryer,\"Smoke Detector\",\"Fire Extinguisher\",Essentials,Shampoo,\"Laptop Friendly Workspace\"}</td>\n",
       "      <td>NaN</td>\n",
       "      <td>$250.00</td>\n",
       "      <td>NaN</td>\n",
       "      <td>NaN</td>\n",
       "      <td>NaN</td>\n",
       "      <td>$35.00</td>\n",
       "      <td>1</td>\n",
       "      <td>$0.00</td>\n",
       "      <td>2</td>\n",
       "      <td>1125</td>\n",
       "      <td>2 weeks ago</td>\n",
       "      <td>NaN</td>\n",
       "      <td>0</td>\n",
       "      <td>0</td>\n",
       "      <td>0</td>\n",
       "      <td>0</td>\n",
       "      <td>2016-09-06</td>\n",
       "      <td>0</td>\n",
       "      <td>NaN</td>\n",
       "      <td>NaN</td>\n",
       "      <td>NaN</td>\n",
       "      <td>NaN</td>\n",
       "      <td>NaN</td>\n",
       "      <td>NaN</td>\n",
       "      <td>NaN</td>\n",
       "      <td>NaN</td>\n",
       "      <td>NaN</td>\n",
       "      <td>f</td>\n",
       "      <td>NaN</td>\n",
       "      <td>NaN</td>\n",
       "      <td>f</td>\n",
       "      <td>moderate</td>\n",
       "      <td>f</td>\n",
       "      <td>f</td>\n",
       "      <td>1</td>\n",
       "      <td>NaN</td>\n",
       "    </tr>\n",
       "    <tr>\n",
       "      <th>1</th>\n",
       "      <td>3075044</td>\n",
       "      <td>https://www.airbnb.com/rooms/3075044</td>\n",
       "      <td>20160906204935</td>\n",
       "      <td>2016-09-07</td>\n",
       "      <td>Charming room in pet friendly apt</td>\n",
       "      <td>Charming and quiet room in a second floor 1910 condo building. The room has a full size bed, darkening curtains, window A/C unit. It's quiet because it's in the back of the house. Shared bathroom. Guests can use kitchen, living room. Pet friendly.</td>\n",
       "      <td>Small but cozy and quite room with a full size bed. Ample street parking.</td>\n",
       "      <td>Charming and quiet room in a second floor 1910 condo building. The room has a full size bed, darkening curtains, window A/C unit. It's quiet because it's in the back of the house. Shared bathroom. Guests can use kitchen, living room. Pet friendly. Small but cozy and quite room with a full size bed. Ample street parking. Apt has one more bedroom (which I use) and large living space and kitchen that you can use.  Possibility to do laundry. Two porches. If I am at home, I am likely working in my home office, which is a separate room. I can help you settle in and give you tips and directions on the neighborhood and Boston.  The room is in Roslindale, a diverse and primarily residential neighborhood of Boston. It's well connected via public transportation to other neighborhoods and easy to access by car. Roslindale Square is a nice business district with supermarkets. banks, a bakery, etc. (See my Guidebook for some recommendations). The Arnold Arboretum is just steps away. Plenty of safe s</td>\n",
       "      <td>none</td>\n",
       "      <td>The room is in Roslindale, a diverse and primarily residential neighborhood of Boston. It's well connected via public transportation to other neighborhoods and easy to access by car. Roslindale Square is a nice business district with supermarkets. banks, a bakery, etc. (See my Guidebook for some recommendations). The Arnold Arboretum is just steps away.</td>\n",
       "      <td>If you don't have a US cell phone, you can text me using (SENSITIVE CONTENTS HIDDEN).</td>\n",
       "      <td>Plenty of safe street parking. Bus stops a few hundred feet from home. Buses 35, 36, or 37 will take you to the Forest Hills subway station is approximately 10 minutes. The buses are frequent during the week, less frequent during the weekend. However, many more buses leave Roslindale Sq., which is just 5 minutes away. Commuter rail is also down the road: more expensive but will take you downtown (Copley and South Station) in less than 20 minutes. Does not run on Sundays. The station is Roslindale Village on the Needham Heights line.</td>\n",
       "      <td>Apt has one more bedroom (which I use) and large living space and kitchen that you can use.  Possibility to do laundry. Two porches.</td>\n",
       "      <td>If I am at home, I am likely working in my home office, which is a separate room. I can help you settle in and give you tips and directions on the neighborhood and Boston.</td>\n",
       "      <td>Pet friendly but please confirm with me if the pet you are planning on bringing with you is OK. I have a cute and quiet mixed chihuahua. I could accept more guests (for an extra fee) but this also needs to be confirmed beforehand. Also friends traveling together could sleep in separate beds for an extra fee (the second bed is either a sofa bed or inflatable bed). Smoking is only allowed on the porch.</td>\n",
       "      <td>https://a1.muscache.com/im/pictures/39327812/df0f1aab_original.jpg?aki_policy=small</td>\n",
       "      <td>https://a1.muscache.com/im/pictures/39327812/df0f1aab_original.jpg?aki_policy=medium</td>\n",
       "      <td>https://a1.muscache.com/im/pictures/39327812/df0f1aab_original.jpg?aki_policy=large</td>\n",
       "      <td>https://a1.muscache.com/im/pictures/39327812/df0f1aab_original.jpg?aki_policy=x_large</td>\n",
       "      <td>2572247</td>\n",
       "      <td>https://www.airbnb.com/users/show/2572247</td>\n",
       "      <td>Andrea</td>\n",
       "      <td>2012-06-07</td>\n",
       "      <td>Boston, Massachusetts, United States</td>\n",
       "      <td>I live in Boston and I like to travel and have travelers staying at my place.</td>\n",
       "      <td>within an hour</td>\n",
       "      <td>100%</td>\n",
       "      <td>100%</td>\n",
       "      <td>f</td>\n",
       "      <td>https://a2.muscache.com/im/users/2572247/profile_pic/1442235897/original.jpg?aki_policy=profile_small</td>\n",
       "      <td>https://a2.muscache.com/im/users/2572247/profile_pic/1442235897/original.jpg?aki_policy=profile_x_medium</td>\n",
       "      <td>Roslindale</td>\n",
       "      <td>1</td>\n",
       "      <td>1</td>\n",
       "      <td>['email', 'phone', 'facebook', 'linkedin', 'amex', 'reviews', 'jumio']</td>\n",
       "      <td>t</td>\n",
       "      <td>t</td>\n",
       "      <td>Pinehurst Street, Boston, MA 02131, United States</td>\n",
       "      <td>Roslindale</td>\n",
       "      <td>Roslindale</td>\n",
       "      <td>NaN</td>\n",
       "      <td>Boston</td>\n",
       "      <td>MA</td>\n",
       "      <td>02131</td>\n",
       "      <td>Boston</td>\n",
       "      <td>Boston, MA</td>\n",
       "      <td>US</td>\n",
       "      <td>United States</td>\n",
       "      <td>42.286241</td>\n",
       "      <td>-71.134374</td>\n",
       "      <td>t</td>\n",
       "      <td>Apartment</td>\n",
       "      <td>Private room</td>\n",
       "      <td>2</td>\n",
       "      <td>1.0</td>\n",
       "      <td>1.0</td>\n",
       "      <td>1.0</td>\n",
       "      <td>Real Bed</td>\n",
       "      <td>{TV,Internet,\"Wireless Internet\",\"Air Conditioning\",Kitchen,\"Pets Allowed\",\"Pets live on this property\",Dog(s),Heating,\"Family/Kid Friendly\",Washer,Dryer,\"Smoke Detector\",\"Carbon Monoxide Detector\",\"Fire Extinguisher\",Essentials,Shampoo,\"Lock on Bedroom Door\",Hangers,\"Hair Dryer\",Iron}</td>\n",
       "      <td>NaN</td>\n",
       "      <td>$65.00</td>\n",
       "      <td>$400.00</td>\n",
       "      <td>NaN</td>\n",
       "      <td>$95.00</td>\n",
       "      <td>$10.00</td>\n",
       "      <td>0</td>\n",
       "      <td>$0.00</td>\n",
       "      <td>2</td>\n",
       "      <td>15</td>\n",
       "      <td>a week ago</td>\n",
       "      <td>NaN</td>\n",
       "      <td>26</td>\n",
       "      <td>54</td>\n",
       "      <td>84</td>\n",
       "      <td>359</td>\n",
       "      <td>2016-09-06</td>\n",
       "      <td>36</td>\n",
       "      <td>2014-06-01</td>\n",
       "      <td>2016-08-13</td>\n",
       "      <td>94.0</td>\n",
       "      <td>10.0</td>\n",
       "      <td>9.0</td>\n",
       "      <td>10.0</td>\n",
       "      <td>10.0</td>\n",
       "      <td>9.0</td>\n",
       "      <td>9.0</td>\n",
       "      <td>f</td>\n",
       "      <td>NaN</td>\n",
       "      <td>NaN</td>\n",
       "      <td>t</td>\n",
       "      <td>moderate</td>\n",
       "      <td>f</td>\n",
       "      <td>f</td>\n",
       "      <td>1</td>\n",
       "      <td>1.30</td>\n",
       "    </tr>\n",
       "    <tr>\n",
       "      <th>2</th>\n",
       "      <td>6976</td>\n",
       "      <td>https://www.airbnb.com/rooms/6976</td>\n",
       "      <td>20160906204935</td>\n",
       "      <td>2016-09-07</td>\n",
       "      <td>Mexican Folk Art Haven in Boston</td>\n",
       "      <td>Come stay with a friendly, middle-aged guy in the safe and quiet Roslindale neighborhood of Boston. You will have you own clean, furnished room (with cable TV, Wi-Fi, and a desk to work at) in an apartment that is filled with Mexican folk art.</td>\n",
       "      <td>Come stay with a friendly, middle-aged guy in the safe and quiet Roslindale neighborhood of Boston. You will have you own clean, furnished room (with cable TV, Wi-Fi, and a desk to work at) in an apartment that is filled with Mexican folk art. This is a well-maintained two-family house built in the 1940s. My apartment is on the second floor. This is a pet and smoke-free apartment.   PRICE: Price includes ALL utilities (heat, electricity, Wi-Fi, cable TV, air conditioner), parking in street, and use of back yard. NO SMOKING indoors or outside. Note that the bed is a size \"Full\" mattress, not a Queen or a King. This is ideal for one guest, but if it is two people traveling together, you can fit two in the bed, or the second person can sleep in the living room, on the long couch. (Not a fold-out couch, but comfortable). Additional fee for the second person is $20. The price listed is for one person.  I offer discounted rates for stays of one week or longer.   Guests get free coffee and a</td>\n",
       "      <td>Come stay with a friendly, middle-aged guy in the safe and quiet Roslindale neighborhood of Boston. You will have you own clean, furnished room (with cable TV, Wi-Fi, and a desk to work at) in an apartment that is filled with Mexican folk art. This is a well-maintained two-family house built in the 1940s. My apartment is on the second floor. This is a pet and smoke-free apartment.   PRICE: Price includes ALL utilities (heat, electricity, Wi-Fi, cable TV, air conditioner), parking in street, and use of back yard. NO SMOKING indoors or outside. Note that the bed is a size \"Full\" mattress, not a Queen or a King. This is ideal for one guest, but if it is two people traveling together, you can fit two in the bed, or the second person can sleep in the living room, on the long couch. (Not a fold-out couch, but comfortable). Additional fee for the second person is $20. The price listed is for one person.  I offer discounted rates for stays of one week or longer.   Guests get free coffee and a</td>\n",
       "      <td>none</td>\n",
       "      <td>The LOCATION: Roslindale is a safe and diverse Boston neighborhood located between Jamaica Plain and West Roxbury. This apartment is on Ardale Street, a quiet side street off Centre Street.  This is about one-half mile from Faulkner Hospital, walking distance to the renowned Arnold Arboretum park (look for it on (SENSITIVE CONTENTS HIDDEN)), and about 20-minute drive to the Longwood Medical Center area. I have easy, restriction-free, on-street parking here, and a back yard. Just one block from the house, there is a 7-11 convenience store, a dry-cleaner, a Mexican restaurant, a pizza parlor, a popular sports bar and grill (similar to an Irish Pub), and another restaurant for breakfast and lunch.  The house is located 1/2 mile from Roslindale Square where you will find more restaurants, 4 bakeries, the public library and the post office. There is a superb farmers market here every Saturday. The fast-train to downtown Boston stops there, too.</td>\n",
       "      <td>I am in a scenic part of Boston with a couple big parks nearby, and Jamaica Pond, where you can rent a sail boat or jog the paved perimeter path, within a mile away. Here is a clue to my personality:  Favorite singers are Judy Collins, Ari Hest, Miguel Bose and the British rock band, James. My top favorite places to travel to are Oaxaca, Mexico and Budapest, Hungary. In years gone by, I have had repeated trips to Paris and to Tunisia, also. These days I am mostly home, spending a lot of time in front of my iMac, writing copy, filling orders or coding for websites.</td>\n",
       "      <td>PUBLIC TRANSPORTATION: From the house, quick public transportation to Forest Hills station (Orange Line and Commuter Rail) is via two nearby MBTA bus lines. The #38 bus stops one-half block away, and takes you past the Faulkner, then to Jamaica Plain and Forest Hills.  The #51 bus stops one block away, and goes a more direct route to Forest Hills. (The bus also goes to Cleveland Circle in Brookline.) Between the two bus lines, there is a bus that stops here every 15 minutes or so on weekdays; but no service on Sunday. ALSO, the apartment is just 1/2 mile walk to the Roslindale Village MBTA commuter rail stop, Needham Line. The train takes you to Ruggles Station at Northeastern Univ., to Back Bay station and to South Station in downtown Boston, in about 15 minutes time.  There are more city busses, running 7 days a week, from this MBTA rail station. You can also pick up ZIP Cars there.  GETTING HERE FROM LOGAN AIRPORT: By public transportation: You take the free shuttle bus at the airpo</td>\n",
       "      <td>I am living in the apartment during your stay, and I work from home, so I'm there most of the time.  Guests are welcome to use the kitchen and all cooking utensils, refrigerator, etc. I have a gas stove, toaster oven, microwave, convection oven and a pressure cooker! I have a backyard garden, so if you are here during August and September, be prepared for tomatoes and cucumbers! In addition to your personal room, you can also use the living room which includes a 32-inch HDTV with an Apple TV connection.  The bathroom, adjacent to your room, is shared.  The only room that is off limits is my bedroom on the opposite side of the apartment. I have a clothes washer and dryer in the basement for your use.</td>\n",
       "      <td>ABOUT ME: I'm a laid-back, friendly, unmarried guy. I work from home, spending a lot of time on the computer. I have an website that sells handmade things from Mexico. It is called \"Viva Oaxaca Folk Art.\" You will see lots of folk art in the apartment. I also run websites for other small companies. I don’t smoke, don’t have overnight guests. I keep regular hours, am friendly, considerate and quiet. I am one of the original Boston AIRBNB hosts, having signed-up with them in 2008.   I am a big traveler myself, and I love hearing stories of where guests have been or where they are heading to next.</td>\n",
       "      <td>I encourage you to use my kitchen, cooking and laundry facilities. There is no additional charge to use the washer/dryer in the basement.  No smoking, inside or outside. Come home as late as you want.  If you come home stumbling drunk, it's OK the first time. If you do it again, and you wake up me or the neighbors downstairs, we will be annoyed.  (Just so you know . . . )</td>\n",
       "      <td>https://a2.muscache.com/im/pictures/6ae8335d-91e6-4598-b380-3129db624df3.jpg?aki_policy=small</td>\n",
       "      <td>https://a2.muscache.com/im/pictures/6ae8335d-91e6-4598-b380-3129db624df3.jpg?aki_policy=medium</td>\n",
       "      <td>https://a2.muscache.com/im/pictures/6ae8335d-91e6-4598-b380-3129db624df3.jpg?aki_policy=large</td>\n",
       "      <td>https://a2.muscache.com/im/pictures/6ae8335d-91e6-4598-b380-3129db624df3.jpg?aki_policy=x_large</td>\n",
       "      <td>16701</td>\n",
       "      <td>https://www.airbnb.com/users/show/16701</td>\n",
       "      <td>Phil</td>\n",
       "      <td>2009-05-11</td>\n",
       "      <td>Boston, Massachusetts, United States</td>\n",
       "      <td>I am a middle-aged, single male with a wide range of interests and creative outlets.  I have traveled frequently, in much of the world, especially central Europe, including Hungary and Slovakia. In recent years I have had many trips to Mexico, where I buy folk art for my online business, called Viva Oaxaca Folk Art. I love meeting new people, especially travelers with stories to tell.  \\r\\n\\r\\nIn addition to the above, I run web sites for small companies, including a physical therapy practice, a cancer treatment center and a colonial era historic house and museum. \\r\\n\\r\\nIn the 1980s, I was a publicist and concert producer, and have presented many concerts with Judy Collins, as well as with Ella Fitzgerald, Laura Nyro, Tom Rush, Barbara Cook and Karen Akers. Now I run a channel on YouTube called \"beta.hifi.archive\" that is a collection of 50 years of video clips from the career of Judy Collins. \\r\\n\\r\\nSo come to Boston, and stay with me. Enjoy some tomatoes and cucumbers from my garden, explore my world of Mexican folk art, and let's talk about our travel adventures.\\r\\n</td>\n",
       "      <td>within a few hours</td>\n",
       "      <td>100%</td>\n",
       "      <td>88%</td>\n",
       "      <td>t</td>\n",
       "      <td>https://a2.muscache.com/im/users/16701/profile_pic/1393434148/original.jpg?aki_policy=profile_small</td>\n",
       "      <td>https://a2.muscache.com/im/users/16701/profile_pic/1393434148/original.jpg?aki_policy=profile_x_medium</td>\n",
       "      <td>Roslindale</td>\n",
       "      <td>1</td>\n",
       "      <td>1</td>\n",
       "      <td>['email', 'phone', 'reviews', 'jumio']</td>\n",
       "      <td>t</td>\n",
       "      <td>t</td>\n",
       "      <td>Ardale St., Boston, MA 02131, United States</td>\n",
       "      <td>Roslindale</td>\n",
       "      <td>Roslindale</td>\n",
       "      <td>NaN</td>\n",
       "      <td>Boston</td>\n",
       "      <td>MA</td>\n",
       "      <td>02131</td>\n",
       "      <td>Boston</td>\n",
       "      <td>Boston, MA</td>\n",
       "      <td>US</td>\n",
       "      <td>United States</td>\n",
       "      <td>42.292438</td>\n",
       "      <td>-71.135765</td>\n",
       "      <td>t</td>\n",
       "      <td>Apartment</td>\n",
       "      <td>Private room</td>\n",
       "      <td>2</td>\n",
       "      <td>1.0</td>\n",
       "      <td>1.0</td>\n",
       "      <td>1.0</td>\n",
       "      <td>Real Bed</td>\n",
       "      <td>{TV,\"Cable TV\",\"Wireless Internet\",\"Air Conditioning\",Kitchen,\"Free Parking on Premises\",Heating,Washer,Dryer,\"Smoke Detector\",\"Carbon Monoxide Detector\",\"First Aid Kit\",\"Safety Card\",Essentials,Shampoo,\"Lock on Bedroom Door\",\"translation missing: en.hosting_amenity_49\",\"translation missing: en.hosting_amenity_50\"}</td>\n",
       "      <td>NaN</td>\n",
       "      <td>$65.00</td>\n",
       "      <td>$395.00</td>\n",
       "      <td>$1,350.00</td>\n",
       "      <td>NaN</td>\n",
       "      <td>NaN</td>\n",
       "      <td>1</td>\n",
       "      <td>$20.00</td>\n",
       "      <td>3</td>\n",
       "      <td>45</td>\n",
       "      <td>5 days ago</td>\n",
       "      <td>NaN</td>\n",
       "      <td>19</td>\n",
       "      <td>46</td>\n",
       "      <td>61</td>\n",
       "      <td>319</td>\n",
       "      <td>2016-09-06</td>\n",
       "      <td>41</td>\n",
       "      <td>2009-07-19</td>\n",
       "      <td>2016-08-05</td>\n",
       "      <td>98.0</td>\n",
       "      <td>10.0</td>\n",
       "      <td>9.0</td>\n",
       "      <td>10.0</td>\n",
       "      <td>10.0</td>\n",
       "      <td>9.0</td>\n",
       "      <td>10.0</td>\n",
       "      <td>f</td>\n",
       "      <td>NaN</td>\n",
       "      <td>NaN</td>\n",
       "      <td>f</td>\n",
       "      <td>moderate</td>\n",
       "      <td>t</td>\n",
       "      <td>f</td>\n",
       "      <td>1</td>\n",
       "      <td>0.47</td>\n",
       "    </tr>\n",
       "    <tr>\n",
       "      <th>3</th>\n",
       "      <td>1436513</td>\n",
       "      <td>https://www.airbnb.com/rooms/1436513</td>\n",
       "      <td>20160906204935</td>\n",
       "      <td>2016-09-07</td>\n",
       "      <td>Spacious Sunny Bedroom Suite in Historic Home</td>\n",
       "      <td>Come experience the comforts of home away from home in our fabulous bedroom suite available in Roslindale, a neighborhood in Boston.  Enjoy sleeping on a large king sized bed with plush down bedding, access to a dishwasher, washer dryer and home gym. The house is incredibly accessible to public transportation and the center of Boston. Free street parking is available right in front of the house. Weekend farmers markets, restaurants and grocery stores are a 10 min walk away from the house.</td>\n",
       "      <td>Most places you find in Boston are small however our bedroom suite is large. The bedroom has plush down pillows and a down comforter. The mattress is fitted with a memory foam topper that gives each guest the best sleep. The leather couches are cozy.  The large leather couch can be converted to a bed. The television has been updated to a smart tv therefore you can access most tv programs through there including, HBO, Showtime and Cinemax. If you want to enjoy cable television, there is a tv in the kitchen. The kitchen has a gas burner, dishwasher, garbage disposal, music system, and a space in the fridge to keep your items.</td>\n",
       "      <td>Come experience the comforts of home away from home in our fabulous bedroom suite available in Roslindale, a neighborhood in Boston.  Enjoy sleeping on a large king sized bed with plush down bedding, access to a dishwasher, washer dryer and home gym. The house is incredibly accessible to public transportation and the center of Boston. Free street parking is available right in front of the house. Weekend farmers markets, restaurants and grocery stores are a 10 min walk away from the house. Most places you find in Boston are small however our bedroom suite is large. The bedroom has plush down pillows and a down comforter. The mattress is fitted with a memory foam topper that gives each guest the best sleep. The leather couches are cozy.  The large leather couch can be converted to a bed. The television has been updated to a smart tv therefore you can access most tv programs through there including, HBO, Showtime and Cinemax. If you want to enjoy cable television, there is a tv in the kit</td>\n",
       "      <td>none</td>\n",
       "      <td>Roslindale is a lovely little neighborhood located right in the city of Boston.  Though a part of the actual city, once you enter it, you feel as though you have escaped to a suburb with friendly neighbors.  The area is conveniently located with access to the city’s bus and subway system.  The Orange Line and Commuter Rail services connect the area to the heart of Boston and the neighboring towns.  It is situated close to shops, restaurants, grocery stores, parks and neighboring towns.  The farmer’s market held in the neighborhood’s center, Roslindale Village, and goes on all summer on Saturday morning.  Vendors of all different types of arts, crafts, and foods come to the neighborhood.  The Arnold Arboretum is a 265 acre park constructed as part of Frederick Law Olmsted’s Emerald Necklace project to provide Boston a connection through neighborhoods through it’s parks.  Jamaica Pond is also part of the emerald necklace which sits at the confluence of Jamaica Plain (a neighboring neighb</td>\n",
       "      <td>Please be mindful of the property as it is old and needs to be treated with the love and care you would give to your own home.  We really hope you enjoy your stay!</td>\n",
       "      <td>There are buses that stop right in front of the house and down the street. We are a convenient bus ride away from the forest hills MBTA stop which is the subway system in Boston. There's free street parking all around the house should you have a car.</td>\n",
       "      <td>The basement has a washer dryer and gym area. There is a smart TV you can use while in the gym.  Your iPhone can be hooked up to the speakers in the treadmill.  Also, there's a weight bench, weights, and a boxing bag.  On the ground floor, you will have access to the kitchen and sunroom.  There is a designated drawer with pots and pans, utensils and dishes you can use.  The formal living room and dining room are permissible for light usage only. Please do not take any food or drink into these areas other than water. On the 2nd floor, you will have access to your bedroom, attached living room and detached bathroom which is shared.  The trash is located in the kitchen and the recycling bins are located to the left of the dishwasher. Additional trash liners are provided under the sink should you need them. The trash barrels are located in front of the garage should the trash bins get full and you need to throw your garbage out. The blue bin is for recycling.</td>\n",
       "      <td>We do live in the house therefore might be some interaction.  The house is large so it allows the people within it to interact as little or as much as is preferred.  During the weekends, we are less likely to be at home especially during the day.  Some weekends, we may not even be there at all.  Upon your booking we will be able to tell you whether or not we will be there so that you will know what to expect.  We respect the privacy of our guests so we will interact as much or as little with you as you would like.  It is all based on your preference.</td>\n",
       "      <td>- The bathroom and house are shared so please respect the privacy of others living in the home.  The sunroom and the patio in the yard are available for you to use.  There is a Keurig in the Kitchen is free for you to use.  There is a washer and dryer in the basement which you can use.  The formal living or dining areas are available for light use only.  You may only take water into these areas.  Please do not take food into any part of the house other than the kitchen, sunroom or back patio.  Additional guests to the ones already committed to staying on the premises is not permitted.</td>\n",
       "      <td>https://a2.muscache.com/im/pictures/39764190-16f9-4726-bf6a-2027ff35865c.jpg?aki_policy=small</td>\n",
       "      <td>https://a2.muscache.com/im/pictures/39764190-16f9-4726-bf6a-2027ff35865c.jpg?aki_policy=medium</td>\n",
       "      <td>https://a2.muscache.com/im/pictures/39764190-16f9-4726-bf6a-2027ff35865c.jpg?aki_policy=large</td>\n",
       "      <td>https://a2.muscache.com/im/pictures/39764190-16f9-4726-bf6a-2027ff35865c.jpg?aki_policy=x_large</td>\n",
       "      <td>6031442</td>\n",
       "      <td>https://www.airbnb.com/users/show/6031442</td>\n",
       "      <td>Meghna</td>\n",
       "      <td>2013-04-21</td>\n",
       "      <td>Boston, Massachusetts, United States</td>\n",
       "      <td>My husband and I live on the property.  He’s a lawyer and I work as an hospital administration.  We have an additional housemate who lives there during the week but is usually away on the weekends.  We absolutely love having guests over because it makes our big house feel full.  We love reading, watching movies, listening to music, going to concerts, traveling, eating new and different kinds of food and exploring in general.  In addition, I enjoy singing as my hobby.  \\r\\n\\r\\nWe want you too feel at home while you are staying with us.  If we are at the house during your visit, we will provide you with breakfast treats and be there to assist you with any of your needs.  The house if often empty on weekends as we all enjoy spending time outside doing activities, meeting friends/family or traveling.  If we are present, we can provide a hot breakfast but if not, cereal, bread, butter, jam, eggs and milk along with pancake mix will be available.  We will provide a list of contacts you can contact if we are not at home.  Our house is incredibly comfortable and we hope you enjoy the experience of sleeping on the beautiful king sized bed with plush down bedding.  We also hope you enjoy access to the movie channels on the Smart TV which is in the living area attached to your bedroom.</td>\n",
       "      <td>within a few hours</td>\n",
       "      <td>100%</td>\n",
       "      <td>50%</td>\n",
       "      <td>f</td>\n",
       "      <td>https://a2.muscache.com/im/pictures/5d430cde-7eb2-4ab7-980a-ef07781cd38c.jpg?aki_policy=profile_small</td>\n",
       "      <td>https://a2.muscache.com/im/pictures/5d430cde-7eb2-4ab7-980a-ef07781cd38c.jpg?aki_policy=profile_x_medium</td>\n",
       "      <td>NaN</td>\n",
       "      <td>1</td>\n",
       "      <td>1</td>\n",
       "      <td>['email', 'phone', 'reviews']</td>\n",
       "      <td>t</td>\n",
       "      <td>f</td>\n",
       "      <td>Boston, MA, United States</td>\n",
       "      <td>NaN</td>\n",
       "      <td>Roslindale</td>\n",
       "      <td>NaN</td>\n",
       "      <td>Boston</td>\n",
       "      <td>MA</td>\n",
       "      <td>NaN</td>\n",
       "      <td>Boston</td>\n",
       "      <td>Boston, MA</td>\n",
       "      <td>US</td>\n",
       "      <td>United States</td>\n",
       "      <td>42.281106</td>\n",
       "      <td>-71.121021</td>\n",
       "      <td>f</td>\n",
       "      <td>House</td>\n",
       "      <td>Private room</td>\n",
       "      <td>4</td>\n",
       "      <td>1.0</td>\n",
       "      <td>1.0</td>\n",
       "      <td>2.0</td>\n",
       "      <td>Real Bed</td>\n",
       "      <td>{TV,Internet,\"Wireless Internet\",\"Air Conditioning\",Kitchen,\"Free Parking on Premises\",Gym,Breakfast,\"Indoor Fireplace\",Heating,Washer,Dryer,\"Smoke Detector\",\"Carbon Monoxide Detector\",\"First Aid Kit\",\"Safety Card\",\"Fire Extinguisher\",Essentials,Shampoo,Hangers,\"Hair Dryer\",Iron,\"Laptop Friendly Workspace\"}</td>\n",
       "      <td>NaN</td>\n",
       "      <td>$75.00</td>\n",
       "      <td>NaN</td>\n",
       "      <td>NaN</td>\n",
       "      <td>$100.00</td>\n",
       "      <td>$50.00</td>\n",
       "      <td>2</td>\n",
       "      <td>$25.00</td>\n",
       "      <td>1</td>\n",
       "      <td>1125</td>\n",
       "      <td>a week ago</td>\n",
       "      <td>NaN</td>\n",
       "      <td>6</td>\n",
       "      <td>16</td>\n",
       "      <td>26</td>\n",
       "      <td>98</td>\n",
       "      <td>2016-09-06</td>\n",
       "      <td>1</td>\n",
       "      <td>2016-08-28</td>\n",
       "      <td>2016-08-28</td>\n",
       "      <td>100.0</td>\n",
       "      <td>10.0</td>\n",
       "      <td>10.0</td>\n",
       "      <td>10.0</td>\n",
       "      <td>10.0</td>\n",
       "      <td>10.0</td>\n",
       "      <td>10.0</td>\n",
       "      <td>f</td>\n",
       "      <td>NaN</td>\n",
       "      <td>NaN</td>\n",
       "      <td>f</td>\n",
       "      <td>moderate</td>\n",
       "      <td>f</td>\n",
       "      <td>f</td>\n",
       "      <td>1</td>\n",
       "      <td>1.00</td>\n",
       "    </tr>\n",
       "    <tr>\n",
       "      <th>4</th>\n",
       "      <td>7651065</td>\n",
       "      <td>https://www.airbnb.com/rooms/7651065</td>\n",
       "      <td>20160906204935</td>\n",
       "      <td>2016-09-07</td>\n",
       "      <td>Come Home to Boston</td>\n",
       "      <td>My comfy, clean and relaxing home is one block away from the bus line, on a quiet residential street.  Private room includes two comfortable single beds.  Full bath and half bath may be shared with 1-2 other guests.  Light breakfast included. AC</td>\n",
       "      <td>Clean, attractive, private room, one block from the bus line, on a quiet, safe street. Two comfy single beds. Full bath and one half bath shared with 1-2 others. Kitchen privileges and breakfast included. Air Conditioned. Five minute walk to shops.</td>\n",
       "      <td>My comfy, clean and relaxing home is one block away from the bus line, on a quiet residential street.  Private room includes two comfortable single beds.  Full bath and half bath may be shared with 1-2 other guests.  Light breakfast included. AC Clean, attractive, private room, one block from the bus line, on a quiet, safe street. Two comfy single beds. Full bath and one half bath shared with 1-2 others. Kitchen privileges and breakfast included. Air Conditioned. Five minute walk to shops. You will have access to the front and side porches, the living room with TV, and the kitchen/dining area. I love my city and really enjoy sharing it with guests!  I live in the home and  share the kitchen and common spaces; my room is on the third floor.  I work full-time, and am out a lot.    I will be happy to provide you any information that would be helpful in navigating Boston.  It's a wonderful city and I hope to help make your visit here enjoyable. I suggest you get the \"What's App?\" phone app</td>\n",
       "      <td>none</td>\n",
       "      <td>I love the proximity to downtown, the neighborhood pride, safety, nice shops and restaurants within a 8-minute walk.  Roslindale is welcoming to all types of people.  The City website describes it:  \"Once considered a \"garden suburb\" of Boston, today's residents of Roslindale are still attracted to the neighborhood's natural beauty. Locals walk and bike in the Arnold Arboretum, a 265-acre oasis that is part of Frederick Law Olmsted's Emerald Necklace.....Roslindale Village is the city's original Main Street district and now one of the city's most vibrant, featuring several bistros, unique shops, and wireless Internet access. The MBTA Orange Line and Commuter Rail provide commuters with easy access to downtown.\"</td>\n",
       "      <td>I have one roommate who lives on the lower level.  She is a nurse and is usually working. Another roommate resides on the same floor as your room - she works a lot too. Please note that - since I work full time - my check-in window is 3 pm to 11 pm.</td>\n",
       "      <td>From Logan Airport  and South Station you have 3 options to get to my home: 1. Take the airport shuttle to the MBTA. (If you're at South Station, the MBTA is right at the bus station)  Take the MBTA subway to the \"Orange line\" train stop at Forest Hills station (it involves a switch that doesn't cost money).  From there, go to the Washington Street side of the station (not the Hyde Park Avenue side) and get bus #35, 36 or 37.  Get off at the Belgrade Avenue &amp; Walworth Street stop (by 165 Belgrade Avenue).  My home is a 3-minute walk from there.   The MBTA website has a tab \"Rider Tools\" which will give you excellent, detailed routes and times to get anywhere in the city.   2. Take a cab - which usually $35 to 40 from Logan and much less from South Station, unless there is terrible traffic.  3. Or you could follow step #1 to Forest Hills Station, then take a cab from there (they are lined up) to my home (about $5-7). 4. The Silver Line is also an option - you can get their schedule on t</td>\n",
       "      <td>You will have access to the front and side porches, the living room with TV, and the kitchen/dining area.</td>\n",
       "      <td>I love my city and really enjoy sharing it with guests!  I live in the home and  share the kitchen and common spaces; my room is on the third floor.  I work full-time, and am out a lot.    I will be happy to provide you any information that would be helpful in navigating Boston.  It's a wonderful city and I hope to help make your visit here enjoyable. I suggest you get the \"What's App?\" phone app if you are traveling internationally; we can text for free with it.</td>\n",
       "      <td>Please no smoking in the house, porch or on the property (you can go to the nearby corner).  Reasonable quiet after 10:30 pm.  Please remove shoes in the house.</td>\n",
       "      <td>https://a1.muscache.com/im/pictures/97154760/85d71c5c_original.jpg?aki_policy=small</td>\n",
       "      <td>https://a1.muscache.com/im/pictures/97154760/85d71c5c_original.jpg?aki_policy=medium</td>\n",
       "      <td>https://a1.muscache.com/im/pictures/97154760/85d71c5c_original.jpg?aki_policy=large</td>\n",
       "      <td>https://a1.muscache.com/im/pictures/97154760/85d71c5c_original.jpg?aki_policy=x_large</td>\n",
       "      <td>15396970</td>\n",
       "      <td>https://www.airbnb.com/users/show/15396970</td>\n",
       "      <td>Linda</td>\n",
       "      <td>2014-05-11</td>\n",
       "      <td>Boston, Massachusetts, United States</td>\n",
       "      <td>I work full time for a public school district.   My two wonderful adult sons live in their own homes in Boston.  Camping, bicycling, music, reading, and quiet time with friends and family are what I enjoy.  I love going to church and being part of the church community. Boston is a great place to live and every day I am happy to be here!\\r\\n\\r\\nMy hosting style is \"available\" but not \"hovering\"!  Some people want to be completely on their own and others like a little connection and appreciate the host being available.  I am happy to accommodate your style.</td>\n",
       "      <td>within an hour</td>\n",
       "      <td>100%</td>\n",
       "      <td>100%</td>\n",
       "      <td>t</td>\n",
       "      <td>https://a0.muscache.com/im/users/15396970/profile_pic/1399856223/original.jpg?aki_policy=profile_small</td>\n",
       "      <td>https://a0.muscache.com/im/users/15396970/profile_pic/1399856223/original.jpg?aki_policy=profile_x_medium</td>\n",
       "      <td>Roslindale</td>\n",
       "      <td>1</td>\n",
       "      <td>1</td>\n",
       "      <td>['email', 'phone', 'reviews', 'kba']</td>\n",
       "      <td>t</td>\n",
       "      <td>t</td>\n",
       "      <td>Durnell Avenue, Boston, MA 02131, United States</td>\n",
       "      <td>Roslindale</td>\n",
       "      <td>Roslindale</td>\n",
       "      <td>NaN</td>\n",
       "      <td>Boston</td>\n",
       "      <td>MA</td>\n",
       "      <td>02131</td>\n",
       "      <td>Boston</td>\n",
       "      <td>Boston, MA</td>\n",
       "      <td>US</td>\n",
       "      <td>United States</td>\n",
       "      <td>42.284512</td>\n",
       "      <td>-71.136258</td>\n",
       "      <td>t</td>\n",
       "      <td>House</td>\n",
       "      <td>Private room</td>\n",
       "      <td>2</td>\n",
       "      <td>1.5</td>\n",
       "      <td>1.0</td>\n",
       "      <td>2.0</td>\n",
       "      <td>Real Bed</td>\n",
       "      <td>{Internet,\"Wireless Internet\",\"Air Conditioning\",Kitchen,Breakfast,Heating,\"Smoke Detector\",\"Carbon Monoxide Detector\",\"First Aid Kit\",Essentials,Shampoo,Hangers,\"Hair Dryer\",Iron}</td>\n",
       "      <td>NaN</td>\n",
       "      <td>$79.00</td>\n",
       "      <td>NaN</td>\n",
       "      <td>NaN</td>\n",
       "      <td>NaN</td>\n",
       "      <td>$15.00</td>\n",
       "      <td>1</td>\n",
       "      <td>$0.00</td>\n",
       "      <td>2</td>\n",
       "      <td>31</td>\n",
       "      <td>2 weeks ago</td>\n",
       "      <td>NaN</td>\n",
       "      <td>13</td>\n",
       "      <td>34</td>\n",
       "      <td>59</td>\n",
       "      <td>334</td>\n",
       "      <td>2016-09-06</td>\n",
       "      <td>29</td>\n",
       "      <td>2015-08-18</td>\n",
       "      <td>2016-09-01</td>\n",
       "      <td>99.0</td>\n",
       "      <td>10.0</td>\n",
       "      <td>10.0</td>\n",
       "      <td>10.0</td>\n",
       "      <td>10.0</td>\n",
       "      <td>9.0</td>\n",
       "      <td>10.0</td>\n",
       "      <td>f</td>\n",
       "      <td>NaN</td>\n",
       "      <td>NaN</td>\n",
       "      <td>f</td>\n",
       "      <td>flexible</td>\n",
       "      <td>f</td>\n",
       "      <td>f</td>\n",
       "      <td>1</td>\n",
       "      <td>2.25</td>\n",
       "    </tr>\n",
       "  </tbody>\n",
       "</table>\n",
       "</div>"
      ],
      "text/plain": [
       "         id                            listing_url       scrape_id  \\\n",
       "0  12147973  https://www.airbnb.com/rooms/12147973  20160906204935   \n",
       "1   3075044   https://www.airbnb.com/rooms/3075044  20160906204935   \n",
       "2      6976      https://www.airbnb.com/rooms/6976  20160906204935   \n",
       "3   1436513   https://www.airbnb.com/rooms/1436513  20160906204935   \n",
       "4   7651065   https://www.airbnb.com/rooms/7651065  20160906204935   \n",
       "\n",
       "  last_scraped                                           name  \\\n",
       "0   2016-09-07                     Sunny Bungalow in the City   \n",
       "1   2016-09-07              Charming room in pet friendly apt   \n",
       "2   2016-09-07               Mexican Folk Art Haven in Boston   \n",
       "3   2016-09-07  Spacious Sunny Bedroom Suite in Historic Home   \n",
       "4   2016-09-07                            Come Home to Boston   \n",
       "\n",
       "                                                                                                                                                                                                                                                                                                                                                                                                                                                                                                         summary  \\\n",
       "0                                                                                                                                                                                                                                                      Cozy, sunny, family home.  Master bedroom high ceilings. Deck, garden with hens, beehives & play structure.   Short walk to charming village with  attractive stores, groceries & local restaurants. Friendly neighborhood. Access public transportation.   \n",
       "1                                                                                                                                                                                                                                                        Charming and quiet room in a second floor 1910 condo building. The room has a full size bed, darkening curtains, window A/C unit. It's quiet because it's in the back of the house. Shared bathroom. Guests can use kitchen, living room. Pet friendly.   \n",
       "2                                                                                                                                                                                                                                                           Come stay with a friendly, middle-aged guy in the safe and quiet Roslindale neighborhood of Boston. You will have you own clean, furnished room (with cable TV, Wi-Fi, and a desk to work at) in an apartment that is filled with Mexican folk art.    \n",
       "3  Come experience the comforts of home away from home in our fabulous bedroom suite available in Roslindale, a neighborhood in Boston.  Enjoy sleeping on a large king sized bed with plush down bedding, access to a dishwasher, washer dryer and home gym. The house is incredibly accessible to public transportation and the center of Boston. Free street parking is available right in front of the house. Weekend farmers markets, restaurants and grocery stores are a 10 min walk away from the house.   \n",
       "4                                                                                                                                                                                                                                                          My comfy, clean and relaxing home is one block away from the bus line, on a quiet residential street.  Private room includes two comfortable single beds.  Full bath and half bath may be shared with 1-2 other guests.  Light breakfast included. AC   \n",
       "\n",
       "                                                                                                                                                                                                                                                                                                                                                                                                                                                                                                                                                                                                                                                                                                                                                                                                                                                                                                                                                                                                                                      space  \\\n",
       "0                                                                                                                                                                                                                                                                                                                                                                                                                                                                                                                                         The house has an open and cozy feel at the same time.  The living room has a flat screen TV.  The kitchen has all you need for cooking.  We prefer you buy your food but can use the organic oils, herbs, etc.   The yard can be seen from sitting room and when the weather allows, the yard is a place children can lose themselves in a safe way.  We have 2 bee hives, 6 hens fenced in (sometimes they get out of their coop area & into the yard), 2 rabbits in a hutch and play structure.   \n",
       "1                                                                                                                                                                                                                                                                                                                                                                                                                                                                                                                                                                                                                                                                                                                                                                                                                                                                                                                                                                 Small but cozy and quite room with a full size bed. Ample street parking.   \n",
       "2  Come stay with a friendly, middle-aged guy in the safe and quiet Roslindale neighborhood of Boston. You will have you own clean, furnished room (with cable TV, Wi-Fi, and a desk to work at) in an apartment that is filled with Mexican folk art. This is a well-maintained two-family house built in the 1940s. My apartment is on the second floor. This is a pet and smoke-free apartment.   PRICE: Price includes ALL utilities (heat, electricity, Wi-Fi, cable TV, air conditioner), parking in street, and use of back yard. NO SMOKING indoors or outside. Note that the bed is a size \"Full\" mattress, not a Queen or a King. This is ideal for one guest, but if it is two people traveling together, you can fit two in the bed, or the second person can sleep in the living room, on the long couch. (Not a fold-out couch, but comfortable). Additional fee for the second person is $20. The price listed is for one person.  I offer discounted rates for stays of one week or longer.   Guests get free coffee and a    \n",
       "3                                                                                                                                                                                                                                                                                                                                                                                   Most places you find in Boston are small however our bedroom suite is large. The bedroom has plush down pillows and a down comforter. The mattress is fitted with a memory foam topper that gives each guest the best sleep. The leather couches are cozy.  The large leather couch can be converted to a bed. The television has been updated to a smart tv therefore you can access most tv programs through there including, HBO, Showtime and Cinemax. If you want to enjoy cable television, there is a tv in the kitchen. The kitchen has a gas burner, dishwasher, garbage disposal, music system, and a space in the fridge to keep your items.   \n",
       "4                                                                                                                                                                                                                                                                                                                                                                                                                                                                                                                                                                                                                                                                                                                                                                                  Clean, attractive, private room, one block from the bus line, on a quiet, safe street. Two comfy single beds. Full bath and one half bath shared with 1-2 others. Kitchen privileges and breakfast included. Air Conditioned. Five minute walk to shops.   \n",
       "\n",
       "                                                                                                                                                                                                                                                                                                                                                                                                                                                                                                                                                                                                                                                                                                                                                                                                                                                                                                                                                                                                                                description  \\\n",
       "0  Cozy, sunny, family home.  Master bedroom high ceilings. Deck, garden with hens, beehives & play structure.   Short walk to charming village with  attractive stores, groceries & local restaurants. Friendly neighborhood. Access public transportation. The house has an open and cozy feel at the same time.  The living room has a flat screen TV.  The kitchen has all you need for cooking.  We prefer you buy your food but can use the organic oils, herbs, etc.   The yard can be seen from sitting room and when the weather allows, the yard is a place children can lose themselves in a safe way.  We have 2 bee hives, 6 hens fenced in (sometimes they get out of their coop area & into the yard), 2 rabbits in a hutch and play structure. You will have access to 2 bedrooms, a living room, kitchen, bathrooms, and yard. Roslindale is quiet, convenient and friendly.  For Southern food try Redd's in Rozzie.  Italian Delfino's or Sophia's Grotto are great. Birch St Bistro has nice atmostphere--a little pric   \n",
       "1  Charming and quiet room in a second floor 1910 condo building. The room has a full size bed, darkening curtains, window A/C unit. It's quiet because it's in the back of the house. Shared bathroom. Guests can use kitchen, living room. Pet friendly. Small but cozy and quite room with a full size bed. Ample street parking. Apt has one more bedroom (which I use) and large living space and kitchen that you can use.  Possibility to do laundry. Two porches. If I am at home, I am likely working in my home office, which is a separate room. I can help you settle in and give you tips and directions on the neighborhood and Boston.  The room is in Roslindale, a diverse and primarily residential neighborhood of Boston. It's well connected via public transportation to other neighborhoods and easy to access by car. Roslindale Square is a nice business district with supermarkets. banks, a bakery, etc. (See my Guidebook for some recommendations). The Arnold Arboretum is just steps away. Plenty of safe s   \n",
       "2  Come stay with a friendly, middle-aged guy in the safe and quiet Roslindale neighborhood of Boston. You will have you own clean, furnished room (with cable TV, Wi-Fi, and a desk to work at) in an apartment that is filled with Mexican folk art. This is a well-maintained two-family house built in the 1940s. My apartment is on the second floor. This is a pet and smoke-free apartment.   PRICE: Price includes ALL utilities (heat, electricity, Wi-Fi, cable TV, air conditioner), parking in street, and use of back yard. NO SMOKING indoors or outside. Note that the bed is a size \"Full\" mattress, not a Queen or a King. This is ideal for one guest, but if it is two people traveling together, you can fit two in the bed, or the second person can sleep in the living room, on the long couch. (Not a fold-out couch, but comfortable). Additional fee for the second person is $20. The price listed is for one person.  I offer discounted rates for stays of one week or longer.   Guests get free coffee and a    \n",
       "3  Come experience the comforts of home away from home in our fabulous bedroom suite available in Roslindale, a neighborhood in Boston.  Enjoy sleeping on a large king sized bed with plush down bedding, access to a dishwasher, washer dryer and home gym. The house is incredibly accessible to public transportation and the center of Boston. Free street parking is available right in front of the house. Weekend farmers markets, restaurants and grocery stores are a 10 min walk away from the house. Most places you find in Boston are small however our bedroom suite is large. The bedroom has plush down pillows and a down comforter. The mattress is fitted with a memory foam topper that gives each guest the best sleep. The leather couches are cozy.  The large leather couch can be converted to a bed. The television has been updated to a smart tv therefore you can access most tv programs through there including, HBO, Showtime and Cinemax. If you want to enjoy cable television, there is a tv in the kit   \n",
       "4  My comfy, clean and relaxing home is one block away from the bus line, on a quiet residential street.  Private room includes two comfortable single beds.  Full bath and half bath may be shared with 1-2 other guests.  Light breakfast included. AC Clean, attractive, private room, one block from the bus line, on a quiet, safe street. Two comfy single beds. Full bath and one half bath shared with 1-2 others. Kitchen privileges and breakfast included. Air Conditioned. Five minute walk to shops. You will have access to the front and side porches, the living room with TV, and the kitchen/dining area. I love my city and really enjoy sharing it with guests!  I live in the home and  share the kitchen and common spaces; my room is on the third floor.  I work full-time, and am out a lot.    I will be happy to provide you any information that would be helpful in navigating Boston.  It's a wonderful city and I hope to help make your visit here enjoyable. I suggest you get the \"What's App?\" phone app   \n",
       "\n",
       "  experiences_offered  \\\n",
       "0                none   \n",
       "1                none   \n",
       "2                none   \n",
       "3                none   \n",
       "4                none   \n",
       "\n",
       "                                                                                                                                                                                                                                                                                                                                                                                                                                                                                                                                                                                                                                                                                                                                                                                                                                                                                                                                                                                                                      neighborhood_overview  \\\n",
       "0                                                                                                                                                                                                                                                                                                                                                                                                                                                                                                                                                                                                                             Roslindale is quiet, convenient and friendly.  For Southern food try Redd's in Rozzie.  Italian Delfino's or Sophia's Grotto are great. Birch St Bistro has nice atmostphere--a little pricier.   If you are cooking the Fish Market has fresh fish daily; Tony's makes his own sausages and has Italian foods;  for  a wide variety of delicious cheeses and chocolates go to the Cheese Cellar on Birch St.   \n",
       "1                                                                                                                                                                                                                                                                                                                                                                                                                                                                                                                                                                                                                                                                       The room is in Roslindale, a diverse and primarily residential neighborhood of Boston. It's well connected via public transportation to other neighborhoods and easy to access by car. Roslindale Square is a nice business district with supermarkets. banks, a bakery, etc. (See my Guidebook for some recommendations). The Arnold Arboretum is just steps away.   \n",
       "2                                                 The LOCATION: Roslindale is a safe and diverse Boston neighborhood located between Jamaica Plain and West Roxbury. This apartment is on Ardale Street, a quiet side street off Centre Street.  This is about one-half mile from Faulkner Hospital, walking distance to the renowned Arnold Arboretum park (look for it on (SENSITIVE CONTENTS HIDDEN)), and about 20-minute drive to the Longwood Medical Center area. I have easy, restriction-free, on-street parking here, and a back yard. Just one block from the house, there is a 7-11 convenience store, a dry-cleaner, a Mexican restaurant, a pizza parlor, a popular sports bar and grill (similar to an Irish Pub), and another restaurant for breakfast and lunch.  The house is located 1/2 mile from Roslindale Square where you will find more restaurants, 4 bakeries, the public library and the post office. There is a superb farmers market here every Saturday. The fast-train to downtown Boston stops there, too.   \n",
       "3  Roslindale is a lovely little neighborhood located right in the city of Boston.  Though a part of the actual city, once you enter it, you feel as though you have escaped to a suburb with friendly neighbors.  The area is conveniently located with access to the city’s bus and subway system.  The Orange Line and Commuter Rail services connect the area to the heart of Boston and the neighboring towns.  It is situated close to shops, restaurants, grocery stores, parks and neighboring towns.  The farmer’s market held in the neighborhood’s center, Roslindale Village, and goes on all summer on Saturday morning.  Vendors of all different types of arts, crafts, and foods come to the neighborhood.  The Arnold Arboretum is a 265 acre park constructed as part of Frederick Law Olmsted’s Emerald Necklace project to provide Boston a connection through neighborhoods through it’s parks.  Jamaica Pond is also part of the emerald necklace which sits at the confluence of Jamaica Plain (a neighboring neighb   \n",
       "4                                                                                                                                                                                                                                                                                          I love the proximity to downtown, the neighborhood pride, safety, nice shops and restaurants within a 8-minute walk.  Roslindale is welcoming to all types of people.  The City website describes it:  \"Once considered a \"garden suburb\" of Boston, today's residents of Roslindale are still attracted to the neighborhood's natural beauty. Locals walk and bike in the Arnold Arboretum, a 265-acre oasis that is part of Frederick Law Olmsted's Emerald Necklace.....Roslindale Village is the city's original Main Street district and now one of the city's most vibrant, featuring several bistros, unique shops, and wireless Internet access. The MBTA Orange Line and Commuter Rail provide commuters with easy access to downtown.\"   \n",
       "\n",
       "                                                                                                                                                                                                                                                                                                                                                                                                                                                                                                                                                                                        notes  \\\n",
       "0                                                                                                                                                                                                                                                                                                                                                                                                                                                                                                                                                                                         NaN   \n",
       "1                                                                                                                                                                                                                                                                                                                                                                                                                                                                                                       If you don't have a US cell phone, you can text me using (SENSITIVE CONTENTS HIDDEN).   \n",
       "2  I am in a scenic part of Boston with a couple big parks nearby, and Jamaica Pond, where you can rent a sail boat or jog the paved perimeter path, within a mile away. Here is a clue to my personality:  Favorite singers are Judy Collins, Ari Hest, Miguel Bose and the British rock band, James. My top favorite places to travel to are Oaxaca, Mexico and Budapest, Hungary. In years gone by, I have had repeated trips to Paris and to Tunisia, also. These days I am mostly home, spending a lot of time in front of my iMac, writing copy, filling orders or coding for websites.   \n",
       "3                                                                                                                                                                                                                                                                                                                                                                                                                         Please be mindful of the property as it is old and needs to be treated with the love and care you would give to your own home.  We really hope you enjoy your stay!   \n",
       "4                                                                                                                                                                                                                                                                                                                                   I have one roommate who lives on the lower level.  She is a nurse and is usually working. Another roommate resides on the same floor as your room - she works a lot too. Please note that - since I work full time - my check-in window is 3 pm to 11 pm.   \n",
       "\n",
       "                                                                                                                                                                                                                                                                                                                                                                                                                                                                                                                                                                                                                                                                                                                                                                                                                                                                                                                                                                                                                                    transit  \\\n",
       "0                                                                                                                                                                                                                                                                                                                                                                                                                                                                                                                                                                                                                                                                                                                                                               The bus stop is 2 blocks away, and frequent. Bus is about a 10 minute ride to the Orange line, forest hills. The commuter rail into down town is a 6 minute walk from our home.  Walking is pleasant and restaurants, shops and grocery store are all a 6 minute walk away.   \n",
       "1                                                                                                                                                                                                                                                                                                                                                                                                                                                                                Plenty of safe street parking. Bus stops a few hundred feet from home. Buses 35, 36, or 37 will take you to the Forest Hills subway station is approximately 10 minutes. The buses are frequent during the week, less frequent during the weekend. However, many more buses leave Roslindale Sq., which is just 5 minutes away. Commuter rail is also down the road: more expensive but will take you downtown (Copley and South Station) in less than 20 minutes. Does not run on Sundays. The station is Roslindale Village on the Needham Heights line.   \n",
       "2  PUBLIC TRANSPORTATION: From the house, quick public transportation to Forest Hills station (Orange Line and Commuter Rail) is via two nearby MBTA bus lines. The #38 bus stops one-half block away, and takes you past the Faulkner, then to Jamaica Plain and Forest Hills.  The #51 bus stops one block away, and goes a more direct route to Forest Hills. (The bus also goes to Cleveland Circle in Brookline.) Between the two bus lines, there is a bus that stops here every 15 minutes or so on weekdays; but no service on Sunday. ALSO, the apartment is just 1/2 mile walk to the Roslindale Village MBTA commuter rail stop, Needham Line. The train takes you to Ruggles Station at Northeastern Univ., to Back Bay station and to South Station in downtown Boston, in about 15 minutes time.  There are more city busses, running 7 days a week, from this MBTA rail station. You can also pick up ZIP Cars there.  GETTING HERE FROM LOGAN AIRPORT: By public transportation: You take the free shuttle bus at the airpo   \n",
       "3                                                                                                                                                                                                                                                                                                                                                                                                                                                                                                                                                                                                                                                                                                                                                                                There are buses that stop right in front of the house and down the street. We are a convenient bus ride away from the forest hills MBTA stop which is the subway system in Boston. There's free street parking all around the house should you have a car.   \n",
       "4  From Logan Airport  and South Station you have 3 options to get to my home: 1. Take the airport shuttle to the MBTA. (If you're at South Station, the MBTA is right at the bus station)  Take the MBTA subway to the \"Orange line\" train stop at Forest Hills station (it involves a switch that doesn't cost money).  From there, go to the Washington Street side of the station (not the Hyde Park Avenue side) and get bus #35, 36 or 37.  Get off at the Belgrade Avenue & Walworth Street stop (by 165 Belgrade Avenue).  My home is a 3-minute walk from there.   The MBTA website has a tab \"Rider Tools\" which will give you excellent, detailed routes and times to get anywhere in the city.   2. Take a cab - which usually $35 to 40 from Logan and much less from South Station, unless there is terrible traffic.  3. Or you could follow step #1 to Forest Hills Station, then take a cab from there (they are lined up) to my home (about $5-7). 4. The Silver Line is also an option - you can get their schedule on t   \n",
       "\n",
       "                                                                                                                                                                                                                                                                                                                                                                                                                                                                                                                                                                                                                                                                                                                                                                                                                                                                                                                                                                                                      access  \\\n",
       "0                                                                                                                                                                                                                                                                                                                                                                                                                                                                                                                                                                                                                                                                                                                                                                                                                                                                                                                           You will have access to 2 bedrooms, a living room, kitchen, bathrooms, and yard.   \n",
       "1                                                                                                                                                                                                                                                                                                                                                                                                                                                                                                                                                                                                                                                                                                                                                                                                                                                                       Apt has one more bedroom (which I use) and large living space and kitchen that you can use.  Possibility to do laundry. Two porches.   \n",
       "2                                                                                                                                                                                                                                                                      I am living in the apartment during your stay, and I work from home, so I'm there most of the time.  Guests are welcome to use the kitchen and all cooking utensils, refrigerator, etc. I have a gas stove, toaster oven, microwave, convection oven and a pressure cooker! I have a backyard garden, so if you are here during August and September, be prepared for tomatoes and cucumbers! In addition to your personal room, you can also use the living room which includes a 32-inch HDTV with an Apple TV connection.  The bathroom, adjacent to your room, is shared.  The only room that is off limits is my bedroom on the opposite side of the apartment. I have a clothes washer and dryer in the basement for your use.    \n",
       "3  The basement has a washer dryer and gym area. There is a smart TV you can use while in the gym.  Your iPhone can be hooked up to the speakers in the treadmill.  Also, there's a weight bench, weights, and a boxing bag.  On the ground floor, you will have access to the kitchen and sunroom.  There is a designated drawer with pots and pans, utensils and dishes you can use.  The formal living room and dining room are permissible for light usage only. Please do not take any food or drink into these areas other than water. On the 2nd floor, you will have access to your bedroom, attached living room and detached bathroom which is shared.  The trash is located in the kitchen and the recycling bins are located to the left of the dishwasher. Additional trash liners are provided under the sink should you need them. The trash barrels are located in front of the garage should the trash bins get full and you need to throw your garbage out. The blue bin is for recycling.   \n",
       "4                                                                                                                                                                                                                                                                                                                                                                                                                                                                                                                                                                                                                                                                                                                                                                                                                                                                                                  You will have access to the front and side porches, the living room with TV, and the kitchen/dining area.   \n",
       "\n",
       "                                                                                                                                                                                                                                                                                                                                                                                                                                                                                                                                                                                                                  interaction  \\\n",
       "0                                                                                                                                                                                                                                                                                                                                                                                                                                                                                                                                                                                                                         NaN   \n",
       "1                                                                                                                                                                                                                                                                                                                                                                                                                                                If I am at home, I am likely working in my home office, which is a separate room. I can help you settle in and give you tips and directions on the neighborhood and Boston.    \n",
       "2  ABOUT ME: I'm a laid-back, friendly, unmarried guy. I work from home, spending a lot of time on the computer. I have an website that sells handmade things from Mexico. It is called \"Viva Oaxaca Folk Art.\" You will see lots of folk art in the apartment. I also run websites for other small companies. I don’t smoke, don’t have overnight guests. I keep regular hours, am friendly, considerate and quiet. I am one of the original Boston AIRBNB hosts, having signed-up with them in 2008.   I am a big traveler myself, and I love hearing stories of where guests have been or where they are heading to next.    \n",
       "3                                                We do live in the house therefore might be some interaction.  The house is large so it allows the people within it to interact as little or as much as is preferred.  During the weekends, we are less likely to be at home especially during the day.  Some weekends, we may not even be there at all.  Upon your booking we will be able to tell you whether or not we will be there so that you will know what to expect.  We respect the privacy of our guests so we will interact as much or as little with you as you would like.  It is all based on your preference.   \n",
       "4                                                                                                                                         I love my city and really enjoy sharing it with guests!  I live in the home and  share the kitchen and common spaces; my room is on the third floor.  I work full-time, and am out a lot.    I will be happy to provide you any information that would be helpful in navigating Boston.  It's a wonderful city and I hope to help make your visit here enjoyable. I suggest you get the \"What's App?\" phone app if you are traveling internationally; we can text for free with it.   \n",
       "\n",
       "                                                                                                                                                                                                                                                                                                                                                                                                                                                                                                                                                                                                       house_rules  \\\n",
       "0                                                                                                                                                                                                                                                                                                                                                                                                                                                                                                                             Clean up and treat the home the way you'd like your home to be treated.  No smoking.   \n",
       "1                                                                                                                                                                                              Pet friendly but please confirm with me if the pet you are planning on bringing with you is OK. I have a cute and quiet mixed chihuahua. I could accept more guests (for an extra fee) but this also needs to be confirmed beforehand. Also friends traveling together could sleep in separate beds for an extra fee (the second bed is either a sofa bed or inflatable bed). Smoking is only allowed on the porch.   \n",
       "2                                                                                                                                                                                                                           I encourage you to use my kitchen, cooking and laundry facilities. There is no additional charge to use the washer/dryer in the basement.  No smoking, inside or outside. Come home as late as you want.  If you come home stumbling drunk, it's OK the first time. If you do it again, and you wake up me or the neighbors downstairs, we will be annoyed.  (Just so you know . . . )   \n",
       "3  - The bathroom and house are shared so please respect the privacy of others living in the home.  The sunroom and the patio in the yard are available for you to use.  There is a Keurig in the Kitchen is free for you to use.  There is a washer and dryer in the basement which you can use.  The formal living or dining areas are available for light use only.  You may only take water into these areas.  Please do not take food into any part of the house other than the kitchen, sunroom or back patio.  Additional guests to the ones already committed to staying on the premises is not permitted.   \n",
       "4                                                                                                                                                                                                                                                                                                                                                                                                                                                 Please no smoking in the house, porch or on the property (you can go to the nearby corner).  Reasonable quiet after 10:30 pm.  Please remove shoes in the house.   \n",
       "\n",
       "                                                                                   thumbnail_url  \\\n",
       "0  https://a2.muscache.com/im/pictures/c0842db1-ee98-4fe8-870b-d1e2af33855d.jpg?aki_policy=small   \n",
       "1            https://a1.muscache.com/im/pictures/39327812/df0f1aab_original.jpg?aki_policy=small   \n",
       "2  https://a2.muscache.com/im/pictures/6ae8335d-91e6-4598-b380-3129db624df3.jpg?aki_policy=small   \n",
       "3  https://a2.muscache.com/im/pictures/39764190-16f9-4726-bf6a-2027ff35865c.jpg?aki_policy=small   \n",
       "4            https://a1.muscache.com/im/pictures/97154760/85d71c5c_original.jpg?aki_policy=small   \n",
       "\n",
       "                                                                                       medium_url  \\\n",
       "0  https://a2.muscache.com/im/pictures/c0842db1-ee98-4fe8-870b-d1e2af33855d.jpg?aki_policy=medium   \n",
       "1            https://a1.muscache.com/im/pictures/39327812/df0f1aab_original.jpg?aki_policy=medium   \n",
       "2  https://a2.muscache.com/im/pictures/6ae8335d-91e6-4598-b380-3129db624df3.jpg?aki_policy=medium   \n",
       "3  https://a2.muscache.com/im/pictures/39764190-16f9-4726-bf6a-2027ff35865c.jpg?aki_policy=medium   \n",
       "4            https://a1.muscache.com/im/pictures/97154760/85d71c5c_original.jpg?aki_policy=medium   \n",
       "\n",
       "                                                                                     picture_url  \\\n",
       "0  https://a2.muscache.com/im/pictures/c0842db1-ee98-4fe8-870b-d1e2af33855d.jpg?aki_policy=large   \n",
       "1            https://a1.muscache.com/im/pictures/39327812/df0f1aab_original.jpg?aki_policy=large   \n",
       "2  https://a2.muscache.com/im/pictures/6ae8335d-91e6-4598-b380-3129db624df3.jpg?aki_policy=large   \n",
       "3  https://a2.muscache.com/im/pictures/39764190-16f9-4726-bf6a-2027ff35865c.jpg?aki_policy=large   \n",
       "4            https://a1.muscache.com/im/pictures/97154760/85d71c5c_original.jpg?aki_policy=large   \n",
       "\n",
       "                                                                                    xl_picture_url  \\\n",
       "0  https://a2.muscache.com/im/pictures/c0842db1-ee98-4fe8-870b-d1e2af33855d.jpg?aki_policy=x_large   \n",
       "1            https://a1.muscache.com/im/pictures/39327812/df0f1aab_original.jpg?aki_policy=x_large   \n",
       "2  https://a2.muscache.com/im/pictures/6ae8335d-91e6-4598-b380-3129db624df3.jpg?aki_policy=x_large   \n",
       "3  https://a2.muscache.com/im/pictures/39764190-16f9-4726-bf6a-2027ff35865c.jpg?aki_policy=x_large   \n",
       "4            https://a1.muscache.com/im/pictures/97154760/85d71c5c_original.jpg?aki_policy=x_large   \n",
       "\n",
       "    host_id                                    host_url host_name  host_since  \\\n",
       "0  31303940  https://www.airbnb.com/users/show/31303940  Virginia  2015-04-15   \n",
       "1   2572247   https://www.airbnb.com/users/show/2572247    Andrea  2012-06-07   \n",
       "2     16701     https://www.airbnb.com/users/show/16701      Phil  2009-05-11   \n",
       "3   6031442   https://www.airbnb.com/users/show/6031442    Meghna  2013-04-21   \n",
       "4  15396970  https://www.airbnb.com/users/show/15396970     Linda  2014-05-11   \n",
       "\n",
       "                          host_location  \\\n",
       "0  Boston, Massachusetts, United States   \n",
       "1  Boston, Massachusetts, United States   \n",
       "2  Boston, Massachusetts, United States   \n",
       "3  Boston, Massachusetts, United States   \n",
       "4  Boston, Massachusetts, United States   \n",
       "\n",
       "                                                                                                                                                                                                                                                                                                                                                                                                                                                                                                                                                                                                                                                                                                                                                                                                                                                                                                                                                                                                                                                                                                                                                                                                                                                                                                                                          host_about  \\\n",
       "0                                                                                                                                                                                                                                                                                                                                                                                                                                                                                                                                                                                                                                                                                                                                                                                                                                                                                                                                                                                                                                                                                                                                                               We are country and city connecting in our deck and garden. Enjoy our music room, books and flat screen TV with the pastoral backyard of hens, bees, rabbits and an organic garden.     \n",
       "1                                                                                                                                                                                                                                                                                                                                                                                                                                                                                                                                                                                                                                                                                                                                                                                                                                                                                                                                                                                                                                                                                                                                                                                                                                                                      I live in Boston and I like to travel and have travelers staying at my place.   \n",
       "2                                                                                                                                                                                                                  I am a middle-aged, single male with a wide range of interests and creative outlets.  I have traveled frequently, in much of the world, especially central Europe, including Hungary and Slovakia. In recent years I have had many trips to Mexico, where I buy folk art for my online business, called Viva Oaxaca Folk Art. I love meeting new people, especially travelers with stories to tell.  \\r\\n\\r\\nIn addition to the above, I run web sites for small companies, including a physical therapy practice, a cancer treatment center and a colonial era historic house and museum. \\r\\n\\r\\nIn the 1980s, I was a publicist and concert producer, and have presented many concerts with Judy Collins, as well as with Ella Fitzgerald, Laura Nyro, Tom Rush, Barbara Cook and Karen Akers. Now I run a channel on YouTube called \"beta.hifi.archive\" that is a collection of 50 years of video clips from the career of Judy Collins. \\r\\n\\r\\nSo come to Boston, and stay with me. Enjoy some tomatoes and cucumbers from my garden, explore my world of Mexican folk art, and let's talk about our travel adventures.\\r\\n   \n",
       "3  My husband and I live on the property.  He’s a lawyer and I work as an hospital administration.  We have an additional housemate who lives there during the week but is usually away on the weekends.  We absolutely love having guests over because it makes our big house feel full.  We love reading, watching movies, listening to music, going to concerts, traveling, eating new and different kinds of food and exploring in general.  In addition, I enjoy singing as my hobby.  \\r\\n\\r\\nWe want you too feel at home while you are staying with us.  If we are at the house during your visit, we will provide you with breakfast treats and be there to assist you with any of your needs.  The house if often empty on weekends as we all enjoy spending time outside doing activities, meeting friends/family or traveling.  If we are present, we can provide a hot breakfast but if not, cereal, bread, butter, jam, eggs and milk along with pancake mix will be available.  We will provide a list of contacts you can contact if we are not at home.  Our house is incredibly comfortable and we hope you enjoy the experience of sleeping on the beautiful king sized bed with plush down bedding.  We also hope you enjoy access to the movie channels on the Smart TV which is in the living area attached to your bedroom.     \n",
       "4                                                                                                                                                                                                                                                                                                                                                                                                                                                                                                                                                                                                                                                                                                                                                                  I work full time for a public school district.   My two wonderful adult sons live in their own homes in Boston.  Camping, bicycling, music, reading, and quiet time with friends and family are what I enjoy.  I love going to church and being part of the church community. Boston is a great place to live and every day I am happy to be here!\\r\\n\\r\\nMy hosting style is \"available\" but not \"hovering\"!  Some people want to be completely on their own and others like a little connection and appreciate the host being available.  I am happy to accommodate your style.   \n",
       "\n",
       "   host_response_time host_response_rate host_acceptance_rate  \\\n",
       "0                 NaN                NaN                  NaN   \n",
       "1      within an hour               100%                 100%   \n",
       "2  within a few hours               100%                  88%   \n",
       "3  within a few hours               100%                  50%   \n",
       "4      within an hour               100%                 100%   \n",
       "\n",
       "  host_is_superhost  \\\n",
       "0                 f   \n",
       "1                 f   \n",
       "2                 t   \n",
       "3                 f   \n",
       "4                 t   \n",
       "\n",
       "                                                                                       host_thumbnail_url  \\\n",
       "0   https://a2.muscache.com/im/pictures/5936fef0-ba16-45bd-ac33-9226137d0763.jpg?aki_policy=profile_small   \n",
       "1   https://a2.muscache.com/im/users/2572247/profile_pic/1442235897/original.jpg?aki_policy=profile_small   \n",
       "2     https://a2.muscache.com/im/users/16701/profile_pic/1393434148/original.jpg?aki_policy=profile_small   \n",
       "3   https://a2.muscache.com/im/pictures/5d430cde-7eb2-4ab7-980a-ef07781cd38c.jpg?aki_policy=profile_small   \n",
       "4  https://a0.muscache.com/im/users/15396970/profile_pic/1399856223/original.jpg?aki_policy=profile_small   \n",
       "\n",
       "                                                                                            host_picture_url  \\\n",
       "0   https://a2.muscache.com/im/pictures/5936fef0-ba16-45bd-ac33-9226137d0763.jpg?aki_policy=profile_x_medium   \n",
       "1   https://a2.muscache.com/im/users/2572247/profile_pic/1442235897/original.jpg?aki_policy=profile_x_medium   \n",
       "2     https://a2.muscache.com/im/users/16701/profile_pic/1393434148/original.jpg?aki_policy=profile_x_medium   \n",
       "3   https://a2.muscache.com/im/pictures/5d430cde-7eb2-4ab7-980a-ef07781cd38c.jpg?aki_policy=profile_x_medium   \n",
       "4  https://a0.muscache.com/im/users/15396970/profile_pic/1399856223/original.jpg?aki_policy=profile_x_medium   \n",
       "\n",
       "  host_neighbourhood  host_listings_count  host_total_listings_count  \\\n",
       "0         Roslindale                    1                          1   \n",
       "1         Roslindale                    1                          1   \n",
       "2         Roslindale                    1                          1   \n",
       "3                NaN                    1                          1   \n",
       "4         Roslindale                    1                          1   \n",
       "\n",
       "                                                       host_verifications  \\\n",
       "0                               ['email', 'phone', 'facebook', 'reviews']   \n",
       "1  ['email', 'phone', 'facebook', 'linkedin', 'amex', 'reviews', 'jumio']   \n",
       "2                                  ['email', 'phone', 'reviews', 'jumio']   \n",
       "3                                           ['email', 'phone', 'reviews']   \n",
       "4                                    ['email', 'phone', 'reviews', 'kba']   \n",
       "\n",
       "  host_has_profile_pic host_identity_verified  \\\n",
       "0                    t                      f   \n",
       "1                    t                      t   \n",
       "2                    t                      t   \n",
       "3                    t                      f   \n",
       "4                    t                      t   \n",
       "\n",
       "                                              street neighbourhood  \\\n",
       "0      Birch Street, Boston, MA 02131, United States    Roslindale   \n",
       "1  Pinehurst Street, Boston, MA 02131, United States    Roslindale   \n",
       "2        Ardale St., Boston, MA 02131, United States    Roslindale   \n",
       "3                          Boston, MA, United States           NaN   \n",
       "4    Durnell Avenue, Boston, MA 02131, United States    Roslindale   \n",
       "\n",
       "  neighbourhood_cleansed  neighbourhood_group_cleansed    city state zipcode  \\\n",
       "0             Roslindale                           NaN  Boston    MA   02131   \n",
       "1             Roslindale                           NaN  Boston    MA   02131   \n",
       "2             Roslindale                           NaN  Boston    MA   02131   \n",
       "3             Roslindale                           NaN  Boston    MA     NaN   \n",
       "4             Roslindale                           NaN  Boston    MA   02131   \n",
       "\n",
       "   market smart_location country_code        country   latitude  longitude  \\\n",
       "0  Boston     Boston, MA           US  United States  42.282619 -71.133068   \n",
       "1  Boston     Boston, MA           US  United States  42.286241 -71.134374   \n",
       "2  Boston     Boston, MA           US  United States  42.292438 -71.135765   \n",
       "3  Boston     Boston, MA           US  United States  42.281106 -71.121021   \n",
       "4  Boston     Boston, MA           US  United States  42.284512 -71.136258   \n",
       "\n",
       "  is_location_exact property_type        room_type  accommodates  bathrooms  \\\n",
       "0                 t         House  Entire home/apt             4        1.5   \n",
       "1                 t     Apartment     Private room             2        1.0   \n",
       "2                 t     Apartment     Private room             2        1.0   \n",
       "3                 f         House     Private room             4        1.0   \n",
       "4                 t         House     Private room             2        1.5   \n",
       "\n",
       "   bedrooms  beds  bed_type  \\\n",
       "0       2.0   3.0  Real Bed   \n",
       "1       1.0   1.0  Real Bed   \n",
       "2       1.0   1.0  Real Bed   \n",
       "3       1.0   2.0  Real Bed   \n",
       "4       1.0   2.0  Real Bed   \n",
       "\n",
       "                                                                                                                                                                                                                                                                                                                      amenities  \\\n",
       "0                                                                                                {TV,\"Wireless Internet\",Kitchen,\"Free Parking on Premises\",\"Pets live on this property\",Dog(s),Heating,\"Family/Kid Friendly\",Washer,Dryer,\"Smoke Detector\",\"Fire Extinguisher\",Essentials,Shampoo,\"Laptop Friendly Workspace\"}   \n",
       "1                                {TV,Internet,\"Wireless Internet\",\"Air Conditioning\",Kitchen,\"Pets Allowed\",\"Pets live on this property\",Dog(s),Heating,\"Family/Kid Friendly\",Washer,Dryer,\"Smoke Detector\",\"Carbon Monoxide Detector\",\"Fire Extinguisher\",Essentials,Shampoo,\"Lock on Bedroom Door\",Hangers,\"Hair Dryer\",Iron}   \n",
       "2  {TV,\"Cable TV\",\"Wireless Internet\",\"Air Conditioning\",Kitchen,\"Free Parking on Premises\",Heating,Washer,Dryer,\"Smoke Detector\",\"Carbon Monoxide Detector\",\"First Aid Kit\",\"Safety Card\",Essentials,Shampoo,\"Lock on Bedroom Door\",\"translation missing: en.hosting_amenity_49\",\"translation missing: en.hosting_amenity_50\"}   \n",
       "3          {TV,Internet,\"Wireless Internet\",\"Air Conditioning\",Kitchen,\"Free Parking on Premises\",Gym,Breakfast,\"Indoor Fireplace\",Heating,Washer,Dryer,\"Smoke Detector\",\"Carbon Monoxide Detector\",\"First Aid Kit\",\"Safety Card\",\"Fire Extinguisher\",Essentials,Shampoo,Hangers,\"Hair Dryer\",Iron,\"Laptop Friendly Workspace\"}   \n",
       "4                                                                                                                                          {Internet,\"Wireless Internet\",\"Air Conditioning\",Kitchen,Breakfast,Heating,\"Smoke Detector\",\"Carbon Monoxide Detector\",\"First Aid Kit\",Essentials,Shampoo,Hangers,\"Hair Dryer\",Iron}   \n",
       "\n",
       "   square_feet    price weekly_price monthly_price security_deposit  \\\n",
       "0          NaN  $250.00          NaN           NaN              NaN   \n",
       "1          NaN   $65.00      $400.00           NaN           $95.00   \n",
       "2          NaN   $65.00      $395.00     $1,350.00              NaN   \n",
       "3          NaN   $75.00          NaN           NaN          $100.00   \n",
       "4          NaN   $79.00          NaN           NaN              NaN   \n",
       "\n",
       "  cleaning_fee  guests_included extra_people  minimum_nights  maximum_nights  \\\n",
       "0       $35.00                1        $0.00               2            1125   \n",
       "1       $10.00                0        $0.00               2              15   \n",
       "2          NaN                1       $20.00               3              45   \n",
       "3       $50.00                2       $25.00               1            1125   \n",
       "4       $15.00                1        $0.00               2              31   \n",
       "\n",
       "  calendar_updated  has_availability  availability_30  availability_60  \\\n",
       "0      2 weeks ago               NaN                0                0   \n",
       "1       a week ago               NaN               26               54   \n",
       "2       5 days ago               NaN               19               46   \n",
       "3       a week ago               NaN                6               16   \n",
       "4      2 weeks ago               NaN               13               34   \n",
       "\n",
       "   availability_90  availability_365 calendar_last_scraped  number_of_reviews  \\\n",
       "0                0                 0            2016-09-06                  0   \n",
       "1               84               359            2016-09-06                 36   \n",
       "2               61               319            2016-09-06                 41   \n",
       "3               26                98            2016-09-06                  1   \n",
       "4               59               334            2016-09-06                 29   \n",
       "\n",
       "  first_review last_review  review_scores_rating  review_scores_accuracy  \\\n",
       "0          NaN         NaN                   NaN                     NaN   \n",
       "1   2014-06-01  2016-08-13                  94.0                    10.0   \n",
       "2   2009-07-19  2016-08-05                  98.0                    10.0   \n",
       "3   2016-08-28  2016-08-28                 100.0                    10.0   \n",
       "4   2015-08-18  2016-09-01                  99.0                    10.0   \n",
       "\n",
       "   review_scores_cleanliness  review_scores_checkin  \\\n",
       "0                        NaN                    NaN   \n",
       "1                        9.0                   10.0   \n",
       "2                        9.0                   10.0   \n",
       "3                       10.0                   10.0   \n",
       "4                       10.0                   10.0   \n",
       "\n",
       "   review_scores_communication  review_scores_location  review_scores_value  \\\n",
       "0                          NaN                     NaN                  NaN   \n",
       "1                         10.0                     9.0                  9.0   \n",
       "2                         10.0                     9.0                 10.0   \n",
       "3                         10.0                    10.0                 10.0   \n",
       "4                         10.0                     9.0                 10.0   \n",
       "\n",
       "  requires_license  license  jurisdiction_names instant_bookable  \\\n",
       "0                f      NaN                 NaN                f   \n",
       "1                f      NaN                 NaN                t   \n",
       "2                f      NaN                 NaN                f   \n",
       "3                f      NaN                 NaN                f   \n",
       "4                f      NaN                 NaN                f   \n",
       "\n",
       "  cancellation_policy require_guest_profile_picture  \\\n",
       "0            moderate                             f   \n",
       "1            moderate                             f   \n",
       "2            moderate                             t   \n",
       "3            moderate                             f   \n",
       "4            flexible                             f   \n",
       "\n",
       "  require_guest_phone_verification  calculated_host_listings_count  \\\n",
       "0                                f                               1   \n",
       "1                                f                               1   \n",
       "2                                f                               1   \n",
       "3                                f                               1   \n",
       "4                                f                               1   \n",
       "\n",
       "   reviews_per_month  \n",
       "0                NaN  \n",
       "1               1.30  \n",
       "2               0.47  \n",
       "3               1.00  \n",
       "4               2.25  "
      ]
     },
     "execution_count": 45,
     "metadata": {},
     "output_type": "execute_result"
    }
   ],
   "source": [
    "dfc_listings.head()"
   ]
  },
  {
   "cell_type": "markdown",
   "metadata": {},
   "source": [
    "#### Removing columns with no diversity"
   ]
  },
  {
   "cell_type": "code",
   "execution_count": 46,
   "metadata": {},
   "outputs": [],
   "source": [
    "dfc_listings = dfc_listings.drop(columns=['experiences_offered','neighbourhood_group_cleansed','has_availability','requires_license',\n",
    "   'license','jurisdiction_names','square_feet'])"
   ]
  },
  {
   "cell_type": "markdown",
   "metadata": {},
   "source": [
    "#### Fixing columns with binary values"
   ]
  },
  {
   "cell_type": "code",
   "execution_count": 47,
   "metadata": {},
   "outputs": [],
   "source": [
    "temp_columns = ['host_is_superhost','host_has_profile_pic','host_identity_verified','is_location_exact']\n",
    "for tc in temp_columns:\n",
    "    dfc_listings[tc] = dfc_listings[tc].apply(lambda x: True if x == 't' else False)"
   ]
  },
  {
   "cell_type": "markdown",
   "metadata": {},
   "source": [
    "#### Fixing columns with monetary values"
   ]
  },
  {
   "cell_type": "code",
   "execution_count": 48,
   "metadata": {},
   "outputs": [
    {
     "data": {
      "text/plain": [
       "0    35.0\n",
       "1    10.0\n",
       "2     0.0\n",
       "3    50.0\n",
       "4    15.0\n",
       "Name: cleaning_fee, dtype: float32"
      ]
     },
     "execution_count": 48,
     "metadata": {},
     "output_type": "execute_result"
    }
   ],
   "source": [
    "convert_monetary(dfc_listings,'cleaning_fee')\n",
    "dfc_listings['cleaning_fee'].head()"
   ]
  },
  {
   "cell_type": "code",
   "execution_count": 49,
   "metadata": {},
   "outputs": [
    {
     "data": {
      "text/plain": [
       "0      0.0\n",
       "1     95.0\n",
       "2      0.0\n",
       "3    100.0\n",
       "4      0.0\n",
       "Name: security_deposit, dtype: float32"
      ]
     },
     "execution_count": 49,
     "metadata": {},
     "output_type": "execute_result"
    }
   ],
   "source": [
    "convert_monetary(dfc_listings,'security_deposit')\n",
    "dfc_listings['security_deposit'].head()"
   ]
  },
  {
   "cell_type": "markdown",
   "metadata": {},
   "source": [
    "#### Counting the number of homestays in each neighbourhood and visualizing"
   ]
  },
  {
   "cell_type": "code",
   "execution_count": 50,
   "metadata": {
    "scrolled": false
   },
   "outputs": [
    {
     "data": {
      "text/plain": [
       "<matplotlib.axes._subplots.AxesSubplot at 0x18c42a50cf8>"
      ]
     },
     "execution_count": 50,
     "metadata": {},
     "output_type": "execute_result"
    },
    {
     "data": {
      "image/png": "[encoded data removed]",
      "text/plain": [
       "<Figure size 432x288 with 1 Axes>"
      ]
     },
     "metadata": {
      "needs_background": "light"
     },
     "output_type": "display_data"
    }
   ],
   "source": [
    "dfc_listings['neighbourhood'].value_counts().plot(kind='bar')"
   ]
  },
  {
   "cell_type": "code",
   "execution_count": 51,
   "metadata": {},
   "outputs": [],
   "source": [
    "dfc = dfc_listings['neighbourhood'].value_counts()"
   ]
  },
  {
   "cell_type": "code",
   "execution_count": 52,
   "metadata": {
    "scrolled": false
   },
   "outputs": [
    {
     "data": {
      "image/png": "[encoded data removed]",
      "text/plain": [
       "<Figure size 560x400 with 1 Axes>"
      ]
     },
     "metadata": {},
     "output_type": "display_data"
    }
   ],
   "source": [
    "plot_value_counts(dfc,'Count homestay in each neighbourhood','Neighbourhood','Count','count_neigh.png',90,7,5)"
   ]
  },
  {
   "cell_type": "markdown",
   "metadata": {},
   "source": [
    "#### Calculating the mean price in mach, april and may"
   ]
  },
  {
   "cell_type": "code",
   "execution_count": 53,
   "metadata": {},
   "outputs": [],
   "source": [
    "dfc_34 = dfc_calendar[dfc_calendar['month'].isin([3,4,5])].groupby(['listing_id','month'])['price'].mean().reset_index()"
   ]
  },
  {
   "cell_type": "code",
   "execution_count": 54,
   "metadata": {},
   "outputs": [
    {
     "data": {
      "text/html": [
       "<div>\n",
       "<style scoped>\n",
       "    .dataframe tbody tr th:only-of-type {\n",
       "        vertical-align: middle;\n",
       "    }\n",
       "\n",
       "    .dataframe tbody tr th {\n",
       "        vertical-align: top;\n",
       "    }\n",
       "\n",
       "    .dataframe thead th {\n",
       "        text-align: right;\n",
       "    }\n",
       "</style>\n",
       "<table border=\"1\" class=\"dataframe\">\n",
       "  <thead>\n",
       "    <tr style=\"text-align: right;\">\n",
       "      <th></th>\n",
       "      <th>listing_id</th>\n",
       "      <th>month</th>\n",
       "      <th>price</th>\n",
       "    </tr>\n",
       "  </thead>\n",
       "  <tbody>\n",
       "    <tr>\n",
       "      <th>0</th>\n",
       "      <td>3353</td>\n",
       "      <td>3</td>\n",
       "      <td>35.354839</td>\n",
       "    </tr>\n",
       "    <tr>\n",
       "      <th>1</th>\n",
       "      <td>3353</td>\n",
       "      <td>4</td>\n",
       "      <td>36.000000</td>\n",
       "    </tr>\n",
       "    <tr>\n",
       "      <th>2</th>\n",
       "      <td>3353</td>\n",
       "      <td>5</td>\n",
       "      <td>36.000000</td>\n",
       "    </tr>\n",
       "    <tr>\n",
       "      <th>3</th>\n",
       "      <td>5506</td>\n",
       "      <td>3</td>\n",
       "      <td>145.000000</td>\n",
       "    </tr>\n",
       "    <tr>\n",
       "      <th>4</th>\n",
       "      <td>5506</td>\n",
       "      <td>4</td>\n",
       "      <td>171.000000</td>\n",
       "    </tr>\n",
       "  </tbody>\n",
       "</table>\n",
       "</div>"
      ],
      "text/plain": [
       "   listing_id  month       price\n",
       "0        3353      3   35.354839\n",
       "1        3353      4   36.000000\n",
       "2        3353      5   36.000000\n",
       "3        5506      3  145.000000\n",
       "4        5506      4  171.000000"
      ]
     },
     "execution_count": 54,
     "metadata": {},
     "output_type": "execute_result"
    }
   ],
   "source": [
    "dfc_34.head()"
   ]
  },
  {
   "cell_type": "markdown",
   "metadata": {},
   "source": [
    "#### Pivoting the table, became the values into columns"
   ]
  },
  {
   "cell_type": "code",
   "execution_count": 55,
   "metadata": {
    "scrolled": true
   },
   "outputs": [
    {
     "data": {
      "text/html": [
       "<div>\n",
       "<style scoped>\n",
       "    .dataframe tbody tr th:only-of-type {\n",
       "        vertical-align: middle;\n",
       "    }\n",
       "\n",
       "    .dataframe tbody tr th {\n",
       "        vertical-align: top;\n",
       "    }\n",
       "\n",
       "    .dataframe thead th {\n",
       "        text-align: right;\n",
       "    }\n",
       "</style>\n",
       "<table border=\"1\" class=\"dataframe\">\n",
       "  <thead>\n",
       "    <tr style=\"text-align: right;\">\n",
       "      <th>month</th>\n",
       "      <th>listing_id</th>\n",
       "      <th>3</th>\n",
       "      <th>4</th>\n",
       "      <th>5</th>\n",
       "    </tr>\n",
       "  </thead>\n",
       "  <tbody>\n",
       "    <tr>\n",
       "      <th>0</th>\n",
       "      <td>3353</td>\n",
       "      <td>35.354839</td>\n",
       "      <td>36.0</td>\n",
       "      <td>36.0</td>\n",
       "    </tr>\n",
       "    <tr>\n",
       "      <th>1</th>\n",
       "      <td>5506</td>\n",
       "      <td>145.000000</td>\n",
       "      <td>171.0</td>\n",
       "      <td>145.0</td>\n",
       "    </tr>\n",
       "    <tr>\n",
       "      <th>2</th>\n",
       "      <td>6695</td>\n",
       "      <td>195.000000</td>\n",
       "      <td>221.0</td>\n",
       "      <td>195.0</td>\n",
       "    </tr>\n",
       "    <tr>\n",
       "      <th>3</th>\n",
       "      <td>6976</td>\n",
       "      <td>65.000000</td>\n",
       "      <td>65.0</td>\n",
       "      <td>65.0</td>\n",
       "    </tr>\n",
       "    <tr>\n",
       "      <th>4</th>\n",
       "      <td>8792</td>\n",
       "      <td>154.000000</td>\n",
       "      <td>154.0</td>\n",
       "      <td>154.0</td>\n",
       "    </tr>\n",
       "  </tbody>\n",
       "</table>\n",
       "</div>"
      ],
      "text/plain": [
       "month  listing_id           3      4      5\n",
       "0            3353   35.354839   36.0   36.0\n",
       "1            5506  145.000000  171.0  145.0\n",
       "2            6695  195.000000  221.0  195.0\n",
       "3            6976   65.000000   65.0   65.0\n",
       "4            8792  154.000000  154.0  154.0"
      ]
     },
     "execution_count": 55,
     "metadata": {},
     "output_type": "execute_result"
    }
   ],
   "source": [
    "dfc = dfc_34.pivot(index='listing_id', columns='month', values='price').reset_index()\n",
    "dfc.head()"
   ]
  },
  {
   "cell_type": "markdown",
   "metadata": {},
   "source": [
    "#### Renaming the columns"
   ]
  },
  {
   "cell_type": "code",
   "execution_count": 56,
   "metadata": {},
   "outputs": [
    {
     "data": {
      "text/plain": [
       "Index(['listing_id', 'march', 'april', 'may'], dtype='object', name='month')"
      ]
     },
     "execution_count": 56,
     "metadata": {},
     "output_type": "execute_result"
    }
   ],
   "source": [
    "dfc.rename(columns={3:'march',4:'april',5:'may'},inplace=True)\n",
    "dfc.columns"
   ]
  },
  {
   "cell_type": "markdown",
   "metadata": {},
   "source": [
    "#### Calculating the differences between months"
   ]
  },
  {
   "cell_type": "code",
   "execution_count": 57,
   "metadata": {},
   "outputs": [],
   "source": [
    "dfc['diff'] = dfc['march']-dfc['april']\n",
    "dfc['diff2'] = dfc['april']-dfc['may']"
   ]
  },
  {
   "cell_type": "markdown",
   "metadata": {},
   "source": [
    "#### Calculating how many homestays improved/decreased the price in mach, april and may"
   ]
  },
  {
   "cell_type": "code",
   "execution_count": 58,
   "metadata": {},
   "outputs": [
    {
     "data": {
      "text/plain": [
       "((546, 6), (707, 6), (2332, 6))"
      ]
     },
     "execution_count": 58,
     "metadata": {},
     "output_type": "execute_result"
    }
   ],
   "source": [
    "dfc[dfc['diff'] > 0].shape,dfc[dfc['diff'] < 0].shape,dfc[dfc['diff'] == 0].shape"
   ]
  },
  {
   "cell_type": "code",
   "execution_count": 80,
   "metadata": {},
   "outputs": [
    {
     "data": {
      "text/plain": [
       "(0.15230125523012553, 0.19721059972105998, 0.6504881450488145)"
      ]
     },
     "execution_count": 80,
     "metadata": {},
     "output_type": "execute_result"
    }
   ],
   "source": [
    "546/dfc.shape[0],707/dfc.shape[0],2332/dfc.shape[0]"
   ]
  },
  {
   "cell_type": "code",
   "execution_count": 60,
   "metadata": {},
   "outputs": [
    {
     "data": {
      "text/plain": [
       "((565, 6), (396, 6), (2624, 6))"
      ]
     },
     "execution_count": 60,
     "metadata": {},
     "output_type": "execute_result"
    }
   ],
   "source": [
    "dfc[dfc['diff2'] > 0].shape,dfc[dfc['diff2'] < 0].shape,dfc[dfc['diff2'] == 0].shape"
   ]
  },
  {
   "cell_type": "markdown",
   "metadata": {},
   "source": [
    "> 65% of accommodations do not change the price from March to April. 15% decrease and 19% of the accommodation prices increase in April. An interesting behavior is that 3% of the accommodations increase the price in the month of April and return to the previous price in May. And 2% of the accommodations have the opposite behavior, decrease the price in the month of April and return to the previous price in May. They change the price during the marathon period. This behavior may be repeated during the rest of the year in other events."
   ]
  },
  {
   "cell_type": "markdown",
   "metadata": {},
   "source": [
    "#### Analyzing how many homestays decreased"
   ]
  },
  {
   "cell_type": "code",
   "execution_count": 61,
   "metadata": {
    "scrolled": true
   },
   "outputs": [
    {
     "data": {
      "text/html": [
       "<div>\n",
       "<style scoped>\n",
       "    .dataframe tbody tr th:only-of-type {\n",
       "        vertical-align: middle;\n",
       "    }\n",
       "\n",
       "    .dataframe tbody tr th {\n",
       "        vertical-align: top;\n",
       "    }\n",
       "\n",
       "    .dataframe thead th {\n",
       "        text-align: right;\n",
       "    }\n",
       "</style>\n",
       "<table border=\"1\" class=\"dataframe\">\n",
       "  <thead>\n",
       "    <tr style=\"text-align: right;\">\n",
       "      <th>month</th>\n",
       "      <th>listing_id</th>\n",
       "      <th>march</th>\n",
       "      <th>april</th>\n",
       "      <th>may</th>\n",
       "      <th>diff</th>\n",
       "      <th>diff2</th>\n",
       "    </tr>\n",
       "  </thead>\n",
       "  <tbody>\n",
       "    <tr>\n",
       "      <th>21</th>\n",
       "      <td>12441</td>\n",
       "      <td>399.000000</td>\n",
       "      <td>356.833344</td>\n",
       "      <td>399.000000</td>\n",
       "      <td>42.166656</td>\n",
       "      <td>-42.166656</td>\n",
       "    </tr>\n",
       "    <tr>\n",
       "      <th>32</th>\n",
       "      <td>23619</td>\n",
       "      <td>177.903229</td>\n",
       "      <td>145.666672</td>\n",
       "      <td>177.580643</td>\n",
       "      <td>32.236557</td>\n",
       "      <td>-31.913971</td>\n",
       "    </tr>\n",
       "    <tr>\n",
       "      <th>41</th>\n",
       "      <td>29765</td>\n",
       "      <td>295.000000</td>\n",
       "      <td>279.466675</td>\n",
       "      <td>295.000000</td>\n",
       "      <td>15.533325</td>\n",
       "      <td>-15.533325</td>\n",
       "    </tr>\n",
       "    <tr>\n",
       "      <th>77</th>\n",
       "      <td>93505</td>\n",
       "      <td>199.000000</td>\n",
       "      <td>185.733337</td>\n",
       "      <td>199.000000</td>\n",
       "      <td>13.266663</td>\n",
       "      <td>-13.266663</td>\n",
       "    </tr>\n",
       "    <tr>\n",
       "      <th>83</th>\n",
       "      <td>163941</td>\n",
       "      <td>230.806458</td>\n",
       "      <td>192.166672</td>\n",
       "      <td>230.161285</td>\n",
       "      <td>38.639786</td>\n",
       "      <td>-37.994614</td>\n",
       "    </tr>\n",
       "  </tbody>\n",
       "</table>\n",
       "</div>"
      ],
      "text/plain": [
       "month  listing_id       march       april         may       diff      diff2\n",
       "21          12441  399.000000  356.833344  399.000000  42.166656 -42.166656\n",
       "32          23619  177.903229  145.666672  177.580643  32.236557 -31.913971\n",
       "41          29765  295.000000  279.466675  295.000000  15.533325 -15.533325\n",
       "77          93505  199.000000  185.733337  199.000000  13.266663 -13.266663\n",
       "83         163941  230.806458  192.166672  230.161285  38.639786 -37.994614"
      ]
     },
     "execution_count": 61,
     "metadata": {},
     "output_type": "execute_result"
    }
   ],
   "source": [
    "dfc[dfc['diff'] > 0].head()"
   ]
  },
  {
   "cell_type": "code",
   "execution_count": 62,
   "metadata": {
    "scrolled": true
   },
   "outputs": [
    {
     "data": {
      "text/html": [
       "<div>\n",
       "<style scoped>\n",
       "    .dataframe tbody tr th:only-of-type {\n",
       "        vertical-align: middle;\n",
       "    }\n",
       "\n",
       "    .dataframe tbody tr th {\n",
       "        vertical-align: top;\n",
       "    }\n",
       "\n",
       "    .dataframe thead th {\n",
       "        text-align: right;\n",
       "    }\n",
       "</style>\n",
       "<table border=\"1\" class=\"dataframe\">\n",
       "  <thead>\n",
       "    <tr style=\"text-align: right;\">\n",
       "      <th>month</th>\n",
       "      <th>listing_id</th>\n",
       "      <th>march</th>\n",
       "      <th>april</th>\n",
       "      <th>may</th>\n",
       "      <th>diff</th>\n",
       "      <th>diff2</th>\n",
       "    </tr>\n",
       "  </thead>\n",
       "  <tbody>\n",
       "    <tr>\n",
       "      <th>1</th>\n",
       "      <td>5506</td>\n",
       "      <td>145.0</td>\n",
       "      <td>171.000000</td>\n",
       "      <td>145.0</td>\n",
       "      <td>-26.000000</td>\n",
       "      <td>26.000000</td>\n",
       "    </tr>\n",
       "    <tr>\n",
       "      <th>2</th>\n",
       "      <td>6695</td>\n",
       "      <td>195.0</td>\n",
       "      <td>221.000000</td>\n",
       "      <td>195.0</td>\n",
       "      <td>-26.000000</td>\n",
       "      <td>26.000000</td>\n",
       "    </tr>\n",
       "    <tr>\n",
       "      <th>6</th>\n",
       "      <td>9765</td>\n",
       "      <td>229.0</td>\n",
       "      <td>281.200012</td>\n",
       "      <td>229.0</td>\n",
       "      <td>-52.200012</td>\n",
       "      <td>52.200012</td>\n",
       "    </tr>\n",
       "    <tr>\n",
       "      <th>7</th>\n",
       "      <td>9824</td>\n",
       "      <td>209.0</td>\n",
       "      <td>274.566681</td>\n",
       "      <td>209.0</td>\n",
       "      <td>-65.566681</td>\n",
       "      <td>65.566681</td>\n",
       "    </tr>\n",
       "    <tr>\n",
       "      <th>9</th>\n",
       "      <td>9857</td>\n",
       "      <td>342.0</td>\n",
       "      <td>426.000000</td>\n",
       "      <td>342.0</td>\n",
       "      <td>-84.000000</td>\n",
       "      <td>84.000000</td>\n",
       "    </tr>\n",
       "  </tbody>\n",
       "</table>\n",
       "</div>"
      ],
      "text/plain": [
       "month  listing_id  march       april    may       diff      diff2\n",
       "1            5506  145.0  171.000000  145.0 -26.000000  26.000000\n",
       "2            6695  195.0  221.000000  195.0 -26.000000  26.000000\n",
       "6            9765  229.0  281.200012  229.0 -52.200012  52.200012\n",
       "7            9824  209.0  274.566681  209.0 -65.566681  65.566681\n",
       "9            9857  342.0  426.000000  342.0 -84.000000  84.000000"
      ]
     },
     "execution_count": 62,
     "metadata": {},
     "output_type": "execute_result"
    }
   ],
   "source": [
    "dfc[dfc['diff2'] > 0].head()"
   ]
  },
  {
   "cell_type": "markdown",
   "metadata": {},
   "source": [
    "> 3% of hospegens increase the price in April and return to the previous price in May. 2% of hospegens lower the price in April and return to the previous price in May. They change the price during the marathon period. This behavior may be repeated for the rest of the year."
   ]
  },
  {
   "cell_type": "markdown",
   "metadata": {},
   "source": [
    "#### Calculating the homestays proportion with improved price in april"
   ]
  },
  {
   "cell_type": "code",
   "execution_count": 63,
   "metadata": {},
   "outputs": [
    {
     "data": {
      "text/plain": [
       "0.0301255230125523"
      ]
     },
     "execution_count": 63,
     "metadata": {},
     "output_type": "execute_result"
    }
   ],
   "source": [
    "len(dfc[(dfc['march'] == dfc['may']) & (dfc['march'] < dfc['april'])])/dfc.shape[0]"
   ]
  },
  {
   "cell_type": "markdown",
   "metadata": {},
   "source": [
    "#### Calculating the homestays proportion with descreased price in april"
   ]
  },
  {
   "cell_type": "code",
   "execution_count": 64,
   "metadata": {},
   "outputs": [
    {
     "data": {
      "text/plain": [
       "0.02203626220362622"
      ]
     },
     "execution_count": 64,
     "metadata": {},
     "output_type": "execute_result"
    }
   ],
   "source": [
    "len(dfc[(dfc['march'] == dfc['may']) & (dfc['march'] > dfc['april'])])/dfc.shape[0]"
   ]
  },
  {
   "cell_type": "code",
   "execution_count": 65,
   "metadata": {},
   "outputs": [
    {
     "data": {
      "text/plain": [
       "(0.6504881450488145, 0.19721059972105998, 0.15230125523012553)"
      ]
     },
     "execution_count": 65,
     "metadata": {},
     "output_type": "execute_result"
    }
   ],
   "source": [
    "2332/3585,707/3585,546/3585"
   ]
  },
  {
   "cell_type": "code",
   "execution_count": 66,
   "metadata": {},
   "outputs": [
    {
     "data": {
      "text/plain": [
       "3585"
      ]
     },
     "execution_count": 66,
     "metadata": {},
     "output_type": "execute_result"
    }
   ],
   "source": [
    "len(dfc['listing_id'].unique())"
   ]
  },
  {
   "cell_type": "markdown",
   "metadata": {},
   "source": [
    "#### Analyzing how many homestays there are in each neighbourhood and visualizing"
   ]
  },
  {
   "cell_type": "code",
   "execution_count": 67,
   "metadata": {},
   "outputs": [],
   "source": [
    "list_neighbourhood = dfc_listings['neighbourhood'].value_counts().index"
   ]
  },
  {
   "cell_type": "code",
   "execution_count": 68,
   "metadata": {},
   "outputs": [
    {
     "data": {
      "text/plain": [
       "<matplotlib.axes._subplots.AxesSubplot at 0x18c45d6ac88>"
      ]
     },
     "execution_count": 68,
     "metadata": {},
     "output_type": "execute_result"
    },
    {
     "data": {
      "image/png": "[encoded data removed]",
      "text/plain": [
       "<Figure size 432x288 with 1 Axes>"
      ]
     },
     "metadata": {
      "needs_background": "light"
     },
     "output_type": "display_data"
    }
   ],
   "source": [
    "dfc_listings['neighbourhood_cleansed'].value_counts().plot(kind='bar',)"
   ]
  },
  {
   "cell_type": "markdown",
   "metadata": {},
   "source": [
    "#### Join the dataframes to calculate the mean price of each neighbourhood."
   ]
  },
  {
   "cell_type": "code",
   "execution_count": 69,
   "metadata": {},
   "outputs": [
    {
     "data": {
      "text/html": [
       "<div>\n",
       "<style scoped>\n",
       "    .dataframe tbody tr th:only-of-type {\n",
       "        vertical-align: middle;\n",
       "    }\n",
       "\n",
       "    .dataframe tbody tr th {\n",
       "        vertical-align: top;\n",
       "    }\n",
       "\n",
       "    .dataframe thead th {\n",
       "        text-align: right;\n",
       "    }\n",
       "</style>\n",
       "<table border=\"1\" class=\"dataframe\">\n",
       "  <thead>\n",
       "    <tr style=\"text-align: right;\">\n",
       "      <th></th>\n",
       "      <th>id</th>\n",
       "      <th>listing_url</th>\n",
       "      <th>scrape_id</th>\n",
       "      <th>last_scraped</th>\n",
       "      <th>name</th>\n",
       "      <th>summary</th>\n",
       "      <th>space</th>\n",
       "      <th>description</th>\n",
       "      <th>neighborhood_overview</th>\n",
       "      <th>notes</th>\n",
       "      <th>transit</th>\n",
       "      <th>access</th>\n",
       "      <th>interaction</th>\n",
       "      <th>house_rules</th>\n",
       "      <th>thumbnail_url</th>\n",
       "      <th>medium_url</th>\n",
       "      <th>picture_url</th>\n",
       "      <th>xl_picture_url</th>\n",
       "      <th>host_id</th>\n",
       "      <th>host_url</th>\n",
       "      <th>host_name</th>\n",
       "      <th>host_since</th>\n",
       "      <th>host_location</th>\n",
       "      <th>host_about</th>\n",
       "      <th>host_response_time</th>\n",
       "      <th>host_response_rate</th>\n",
       "      <th>host_acceptance_rate</th>\n",
       "      <th>host_is_superhost</th>\n",
       "      <th>host_thumbnail_url</th>\n",
       "      <th>host_picture_url</th>\n",
       "      <th>host_neighbourhood</th>\n",
       "      <th>host_listings_count</th>\n",
       "      <th>host_total_listings_count</th>\n",
       "      <th>host_verifications</th>\n",
       "      <th>host_has_profile_pic</th>\n",
       "      <th>host_identity_verified</th>\n",
       "      <th>street</th>\n",
       "      <th>neighbourhood</th>\n",
       "      <th>neighbourhood_cleansed</th>\n",
       "      <th>city</th>\n",
       "      <th>state</th>\n",
       "      <th>zipcode</th>\n",
       "      <th>market</th>\n",
       "      <th>smart_location</th>\n",
       "      <th>country_code</th>\n",
       "      <th>country</th>\n",
       "      <th>latitude</th>\n",
       "      <th>longitude</th>\n",
       "      <th>is_location_exact</th>\n",
       "      <th>property_type</th>\n",
       "      <th>room_type</th>\n",
       "      <th>accommodates</th>\n",
       "      <th>bathrooms</th>\n",
       "      <th>bedrooms</th>\n",
       "      <th>beds</th>\n",
       "      <th>bed_type</th>\n",
       "      <th>amenities</th>\n",
       "      <th>price</th>\n",
       "      <th>weekly_price</th>\n",
       "      <th>monthly_price</th>\n",
       "      <th>security_deposit</th>\n",
       "      <th>cleaning_fee</th>\n",
       "      <th>guests_included</th>\n",
       "      <th>extra_people</th>\n",
       "      <th>minimum_nights</th>\n",
       "      <th>maximum_nights</th>\n",
       "      <th>calendar_updated</th>\n",
       "      <th>availability_30</th>\n",
       "      <th>availability_60</th>\n",
       "      <th>availability_90</th>\n",
       "      <th>availability_365</th>\n",
       "      <th>calendar_last_scraped</th>\n",
       "      <th>number_of_reviews</th>\n",
       "      <th>first_review</th>\n",
       "      <th>last_review</th>\n",
       "      <th>review_scores_rating</th>\n",
       "      <th>review_scores_accuracy</th>\n",
       "      <th>review_scores_cleanliness</th>\n",
       "      <th>review_scores_checkin</th>\n",
       "      <th>review_scores_communication</th>\n",
       "      <th>review_scores_location</th>\n",
       "      <th>review_scores_value</th>\n",
       "      <th>instant_bookable</th>\n",
       "      <th>cancellation_policy</th>\n",
       "      <th>require_guest_profile_picture</th>\n",
       "      <th>require_guest_phone_verification</th>\n",
       "      <th>calculated_host_listings_count</th>\n",
       "      <th>reviews_per_month</th>\n",
       "      <th>listing_id</th>\n",
       "      <th>march</th>\n",
       "      <th>april</th>\n",
       "      <th>may</th>\n",
       "      <th>diff</th>\n",
       "      <th>diff2</th>\n",
       "    </tr>\n",
       "  </thead>\n",
       "  <tbody>\n",
       "    <tr>\n",
       "      <th>0</th>\n",
       "      <td>12147973</td>\n",
       "      <td>https://www.airbnb.com/rooms/12147973</td>\n",
       "      <td>20160906204935</td>\n",
       "      <td>2016-09-07</td>\n",
       "      <td>Sunny Bungalow in the City</td>\n",
       "      <td>Cozy, sunny, family home.  Master bedroom high ceilings. Deck, garden with hens, beehives &amp; play structure.   Short walk to charming village with  attractive stores, groceries &amp; local restaurants. Friendly neighborhood. Access public transportation.</td>\n",
       "      <td>The house has an open and cozy feel at the same time.  The living room has a flat screen TV.  The kitchen has all you need for cooking.  We prefer you buy your food but can use the organic oils, herbs, etc.   The yard can be seen from sitting room and when the weather allows, the yard is a place children can lose themselves in a safe way.  We have 2 bee hives, 6 hens fenced in (sometimes they get out of their coop area &amp; into the yard), 2 rabbits in a hutch and play structure.</td>\n",
       "      <td>Cozy, sunny, family home.  Master bedroom high ceilings. Deck, garden with hens, beehives &amp; play structure.   Short walk to charming village with  attractive stores, groceries &amp; local restaurants. Friendly neighborhood. Access public transportation. The house has an open and cozy feel at the same time.  The living room has a flat screen TV.  The kitchen has all you need for cooking.  We prefer you buy your food but can use the organic oils, herbs, etc.   The yard can be seen from sitting room and when the weather allows, the yard is a place children can lose themselves in a safe way.  We have 2 bee hives, 6 hens fenced in (sometimes they get out of their coop area &amp; into the yard), 2 rabbits in a hutch and play structure. You will have access to 2 bedrooms, a living room, kitchen, bathrooms, and yard. Roslindale is quiet, convenient and friendly.  For Southern food try Redd's in Rozzie.  Italian Delfino's or Sophia's Grotto are great. Birch St Bistro has nice atmostphere--a little pric</td>\n",
       "      <td>Roslindale is quiet, convenient and friendly.  For Southern food try Redd's in Rozzie.  Italian Delfino's or Sophia's Grotto are great. Birch St Bistro has nice atmostphere--a little pricier.   If you are cooking the Fish Market has fresh fish daily; Tony's makes his own sausages and has Italian foods;  for  a wide variety of delicious cheeses and chocolates go to the Cheese Cellar on Birch St.</td>\n",
       "      <td>NaN</td>\n",
       "      <td>The bus stop is 2 blocks away, and frequent. Bus is about a 10 minute ride to the Orange line, forest hills. The commuter rail into down town is a 6 minute walk from our home.  Walking is pleasant and restaurants, shops and grocery store are all a 6 minute walk away.</td>\n",
       "      <td>You will have access to 2 bedrooms, a living room, kitchen, bathrooms, and yard.</td>\n",
       "      <td>NaN</td>\n",
       "      <td>Clean up and treat the home the way you'd like your home to be treated.  No smoking.</td>\n",
       "      <td>https://a2.muscache.com/im/pictures/c0842db1-ee98-4fe8-870b-d1e2af33855d.jpg?aki_policy=small</td>\n",
       "      <td>https://a2.muscache.com/im/pictures/c0842db1-ee98-4fe8-870b-d1e2af33855d.jpg?aki_policy=medium</td>\n",
       "      <td>https://a2.muscache.com/im/pictures/c0842db1-ee98-4fe8-870b-d1e2af33855d.jpg?aki_policy=large</td>\n",
       "      <td>https://a2.muscache.com/im/pictures/c0842db1-ee98-4fe8-870b-d1e2af33855d.jpg?aki_policy=x_large</td>\n",
       "      <td>31303940</td>\n",
       "      <td>https://www.airbnb.com/users/show/31303940</td>\n",
       "      <td>Virginia</td>\n",
       "      <td>2015-04-15</td>\n",
       "      <td>Boston, Massachusetts, United States</td>\n",
       "      <td>We are country and city connecting in our deck and garden. Enjoy our music room, books and flat screen TV with the pastoral backyard of hens, bees, rabbits and an organic garden.</td>\n",
       "      <td>NaN</td>\n",
       "      <td>NaN</td>\n",
       "      <td>NaN</td>\n",
       "      <td>False</td>\n",
       "      <td>https://a2.muscache.com/im/pictures/5936fef0-ba16-45bd-ac33-9226137d0763.jpg?aki_policy=profile_small</td>\n",
       "      <td>https://a2.muscache.com/im/pictures/5936fef0-ba16-45bd-ac33-9226137d0763.jpg?aki_policy=profile_x_medium</td>\n",
       "      <td>Roslindale</td>\n",
       "      <td>1</td>\n",
       "      <td>1</td>\n",
       "      <td>['email', 'phone', 'facebook', 'reviews']</td>\n",
       "      <td>True</td>\n",
       "      <td>False</td>\n",
       "      <td>Birch Street, Boston, MA 02131, United States</td>\n",
       "      <td>Roslindale</td>\n",
       "      <td>Roslindale</td>\n",
       "      <td>Boston</td>\n",
       "      <td>MA</td>\n",
       "      <td>02131</td>\n",
       "      <td>Boston</td>\n",
       "      <td>Boston, MA</td>\n",
       "      <td>US</td>\n",
       "      <td>United States</td>\n",
       "      <td>42.282619</td>\n",
       "      <td>-71.133068</td>\n",
       "      <td>True</td>\n",
       "      <td>House</td>\n",
       "      <td>Entire home/apt</td>\n",
       "      <td>4</td>\n",
       "      <td>1.5</td>\n",
       "      <td>2.0</td>\n",
       "      <td>3.0</td>\n",
       "      <td>Real Bed</td>\n",
       "      <td>{TV,\"Wireless Internet\",Kitchen,\"Free Parking on Premises\",\"Pets live on this property\",Dog(s),Heating,\"Family/Kid Friendly\",Washer,Dryer,\"Smoke Detector\",\"Fire Extinguisher\",Essentials,Shampoo,\"Laptop Friendly Workspace\"}</td>\n",
       "      <td>$250.00</td>\n",
       "      <td>NaN</td>\n",
       "      <td>NaN</td>\n",
       "      <td>0.0</td>\n",
       "      <td>35.0</td>\n",
       "      <td>1</td>\n",
       "      <td>$0.00</td>\n",
       "      <td>2</td>\n",
       "      <td>1125</td>\n",
       "      <td>2 weeks ago</td>\n",
       "      <td>0</td>\n",
       "      <td>0</td>\n",
       "      <td>0</td>\n",
       "      <td>0</td>\n",
       "      <td>2016-09-06</td>\n",
       "      <td>0</td>\n",
       "      <td>NaN</td>\n",
       "      <td>NaN</td>\n",
       "      <td>NaN</td>\n",
       "      <td>NaN</td>\n",
       "      <td>NaN</td>\n",
       "      <td>NaN</td>\n",
       "      <td>NaN</td>\n",
       "      <td>NaN</td>\n",
       "      <td>NaN</td>\n",
       "      <td>f</td>\n",
       "      <td>moderate</td>\n",
       "      <td>f</td>\n",
       "      <td>f</td>\n",
       "      <td>1</td>\n",
       "      <td>NaN</td>\n",
       "      <td>12147973</td>\n",
       "      <td>0.000000</td>\n",
       "      <td>0.0</td>\n",
       "      <td>0.000000</td>\n",
       "      <td>0.000000</td>\n",
       "      <td>0.000000</td>\n",
       "    </tr>\n",
       "    <tr>\n",
       "      <th>1</th>\n",
       "      <td>3075044</td>\n",
       "      <td>https://www.airbnb.com/rooms/3075044</td>\n",
       "      <td>20160906204935</td>\n",
       "      <td>2016-09-07</td>\n",
       "      <td>Charming room in pet friendly apt</td>\n",
       "      <td>Charming and quiet room in a second floor 1910 condo building. The room has a full size bed, darkening curtains, window A/C unit. It's quiet because it's in the back of the house. Shared bathroom. Guests can use kitchen, living room. Pet friendly.</td>\n",
       "      <td>Small but cozy and quite room with a full size bed. Ample street parking.</td>\n",
       "      <td>Charming and quiet room in a second floor 1910 condo building. The room has a full size bed, darkening curtains, window A/C unit. It's quiet because it's in the back of the house. Shared bathroom. Guests can use kitchen, living room. Pet friendly. Small but cozy and quite room with a full size bed. Ample street parking. Apt has one more bedroom (which I use) and large living space and kitchen that you can use.  Possibility to do laundry. Two porches. If I am at home, I am likely working in my home office, which is a separate room. I can help you settle in and give you tips and directions on the neighborhood and Boston.  The room is in Roslindale, a diverse and primarily residential neighborhood of Boston. It's well connected via public transportation to other neighborhoods and easy to access by car. Roslindale Square is a nice business district with supermarkets. banks, a bakery, etc. (See my Guidebook for some recommendations). The Arnold Arboretum is just steps away. Plenty of safe s</td>\n",
       "      <td>The room is in Roslindale, a diverse and primarily residential neighborhood of Boston. It's well connected via public transportation to other neighborhoods and easy to access by car. Roslindale Square is a nice business district with supermarkets. banks, a bakery, etc. (See my Guidebook for some recommendations). The Arnold Arboretum is just steps away.</td>\n",
       "      <td>If you don't have a US cell phone, you can text me using (SENSITIVE CONTENTS HIDDEN).</td>\n",
       "      <td>Plenty of safe street parking. Bus stops a few hundred feet from home. Buses 35, 36, or 37 will take you to the Forest Hills subway station is approximately 10 minutes. The buses are frequent during the week, less frequent during the weekend. However, many more buses leave Roslindale Sq., which is just 5 minutes away. Commuter rail is also down the road: more expensive but will take you downtown (Copley and South Station) in less than 20 minutes. Does not run on Sundays. The station is Roslindale Village on the Needham Heights line.</td>\n",
       "      <td>Apt has one more bedroom (which I use) and large living space and kitchen that you can use.  Possibility to do laundry. Two porches.</td>\n",
       "      <td>If I am at home, I am likely working in my home office, which is a separate room. I can help you settle in and give you tips and directions on the neighborhood and Boston.</td>\n",
       "      <td>Pet friendly but please confirm with me if the pet you are planning on bringing with you is OK. I have a cute and quiet mixed chihuahua. I could accept more guests (for an extra fee) but this also needs to be confirmed beforehand. Also friends traveling together could sleep in separate beds for an extra fee (the second bed is either a sofa bed or inflatable bed). Smoking is only allowed on the porch.</td>\n",
       "      <td>https://a1.muscache.com/im/pictures/39327812/df0f1aab_original.jpg?aki_policy=small</td>\n",
       "      <td>https://a1.muscache.com/im/pictures/39327812/df0f1aab_original.jpg?aki_policy=medium</td>\n",
       "      <td>https://a1.muscache.com/im/pictures/39327812/df0f1aab_original.jpg?aki_policy=large</td>\n",
       "      <td>https://a1.muscache.com/im/pictures/39327812/df0f1aab_original.jpg?aki_policy=x_large</td>\n",
       "      <td>2572247</td>\n",
       "      <td>https://www.airbnb.com/users/show/2572247</td>\n",
       "      <td>Andrea</td>\n",
       "      <td>2012-06-07</td>\n",
       "      <td>Boston, Massachusetts, United States</td>\n",
       "      <td>I live in Boston and I like to travel and have travelers staying at my place.</td>\n",
       "      <td>within an hour</td>\n",
       "      <td>100%</td>\n",
       "      <td>100%</td>\n",
       "      <td>False</td>\n",
       "      <td>https://a2.muscache.com/im/users/2572247/profile_pic/1442235897/original.jpg?aki_policy=profile_small</td>\n",
       "      <td>https://a2.muscache.com/im/users/2572247/profile_pic/1442235897/original.jpg?aki_policy=profile_x_medium</td>\n",
       "      <td>Roslindale</td>\n",
       "      <td>1</td>\n",
       "      <td>1</td>\n",
       "      <td>['email', 'phone', 'facebook', 'linkedin', 'amex', 'reviews', 'jumio']</td>\n",
       "      <td>True</td>\n",
       "      <td>True</td>\n",
       "      <td>Pinehurst Street, Boston, MA 02131, United States</td>\n",
       "      <td>Roslindale</td>\n",
       "      <td>Roslindale</td>\n",
       "      <td>Boston</td>\n",
       "      <td>MA</td>\n",
       "      <td>02131</td>\n",
       "      <td>Boston</td>\n",
       "      <td>Boston, MA</td>\n",
       "      <td>US</td>\n",
       "      <td>United States</td>\n",
       "      <td>42.286241</td>\n",
       "      <td>-71.134374</td>\n",
       "      <td>True</td>\n",
       "      <td>Apartment</td>\n",
       "      <td>Private room</td>\n",
       "      <td>2</td>\n",
       "      <td>1.0</td>\n",
       "      <td>1.0</td>\n",
       "      <td>1.0</td>\n",
       "      <td>Real Bed</td>\n",
       "      <td>{TV,Internet,\"Wireless Internet\",\"Air Conditioning\",Kitchen,\"Pets Allowed\",\"Pets live on this property\",Dog(s),Heating,\"Family/Kid Friendly\",Washer,Dryer,\"Smoke Detector\",\"Carbon Monoxide Detector\",\"Fire Extinguisher\",Essentials,Shampoo,\"Lock on Bedroom Door\",Hangers,\"Hair Dryer\",Iron}</td>\n",
       "      <td>$65.00</td>\n",
       "      <td>$400.00</td>\n",
       "      <td>NaN</td>\n",
       "      <td>95.0</td>\n",
       "      <td>10.0</td>\n",
       "      <td>0</td>\n",
       "      <td>$0.00</td>\n",
       "      <td>2</td>\n",
       "      <td>15</td>\n",
       "      <td>a week ago</td>\n",
       "      <td>26</td>\n",
       "      <td>54</td>\n",
       "      <td>84</td>\n",
       "      <td>359</td>\n",
       "      <td>2016-09-06</td>\n",
       "      <td>36</td>\n",
       "      <td>2014-06-01</td>\n",
       "      <td>2016-08-13</td>\n",
       "      <td>94.0</td>\n",
       "      <td>10.0</td>\n",
       "      <td>9.0</td>\n",
       "      <td>10.0</td>\n",
       "      <td>10.0</td>\n",
       "      <td>9.0</td>\n",
       "      <td>9.0</td>\n",
       "      <td>t</td>\n",
       "      <td>moderate</td>\n",
       "      <td>f</td>\n",
       "      <td>f</td>\n",
       "      <td>1</td>\n",
       "      <td>1.30</td>\n",
       "      <td>3075044</td>\n",
       "      <td>67.903229</td>\n",
       "      <td>68.0</td>\n",
       "      <td>67.580643</td>\n",
       "      <td>-0.096771</td>\n",
       "      <td>0.419357</td>\n",
       "    </tr>\n",
       "    <tr>\n",
       "      <th>2</th>\n",
       "      <td>6976</td>\n",
       "      <td>https://www.airbnb.com/rooms/6976</td>\n",
       "      <td>20160906204935</td>\n",
       "      <td>2016-09-07</td>\n",
       "      <td>Mexican Folk Art Haven in Boston</td>\n",
       "      <td>Come stay with a friendly, middle-aged guy in the safe and quiet Roslindale neighborhood of Boston. You will have you own clean, furnished room (with cable TV, Wi-Fi, and a desk to work at) in an apartment that is filled with Mexican folk art.</td>\n",
       "      <td>Come stay with a friendly, middle-aged guy in the safe and quiet Roslindale neighborhood of Boston. You will have you own clean, furnished room (with cable TV, Wi-Fi, and a desk to work at) in an apartment that is filled with Mexican folk art. This is a well-maintained two-family house built in the 1940s. My apartment is on the second floor. This is a pet and smoke-free apartment.   PRICE: Price includes ALL utilities (heat, electricity, Wi-Fi, cable TV, air conditioner), parking in street, and use of back yard. NO SMOKING indoors or outside. Note that the bed is a size \"Full\" mattress, not a Queen or a King. This is ideal for one guest, but if it is two people traveling together, you can fit two in the bed, or the second person can sleep in the living room, on the long couch. (Not a fold-out couch, but comfortable). Additional fee for the second person is $20. The price listed is for one person.  I offer discounted rates for stays of one week or longer.   Guests get free coffee and a</td>\n",
       "      <td>Come stay with a friendly, middle-aged guy in the safe and quiet Roslindale neighborhood of Boston. You will have you own clean, furnished room (with cable TV, Wi-Fi, and a desk to work at) in an apartment that is filled with Mexican folk art. This is a well-maintained two-family house built in the 1940s. My apartment is on the second floor. This is a pet and smoke-free apartment.   PRICE: Price includes ALL utilities (heat, electricity, Wi-Fi, cable TV, air conditioner), parking in street, and use of back yard. NO SMOKING indoors or outside. Note that the bed is a size \"Full\" mattress, not a Queen or a King. This is ideal for one guest, but if it is two people traveling together, you can fit two in the bed, or the second person can sleep in the living room, on the long couch. (Not a fold-out couch, but comfortable). Additional fee for the second person is $20. The price listed is for one person.  I offer discounted rates for stays of one week or longer.   Guests get free coffee and a</td>\n",
       "      <td>The LOCATION: Roslindale is a safe and diverse Boston neighborhood located between Jamaica Plain and West Roxbury. This apartment is on Ardale Street, a quiet side street off Centre Street.  This is about one-half mile from Faulkner Hospital, walking distance to the renowned Arnold Arboretum park (look for it on (SENSITIVE CONTENTS HIDDEN)), and about 20-minute drive to the Longwood Medical Center area. I have easy, restriction-free, on-street parking here, and a back yard. Just one block from the house, there is a 7-11 convenience store, a dry-cleaner, a Mexican restaurant, a pizza parlor, a popular sports bar and grill (similar to an Irish Pub), and another restaurant for breakfast and lunch.  The house is located 1/2 mile from Roslindale Square where you will find more restaurants, 4 bakeries, the public library and the post office. There is a superb farmers market here every Saturday. The fast-train to downtown Boston stops there, too.</td>\n",
       "      <td>I am in a scenic part of Boston with a couple big parks nearby, and Jamaica Pond, where you can rent a sail boat or jog the paved perimeter path, within a mile away. Here is a clue to my personality:  Favorite singers are Judy Collins, Ari Hest, Miguel Bose and the British rock band, James. My top favorite places to travel to are Oaxaca, Mexico and Budapest, Hungary. In years gone by, I have had repeated trips to Paris and to Tunisia, also. These days I am mostly home, spending a lot of time in front of my iMac, writing copy, filling orders or coding for websites.</td>\n",
       "      <td>PUBLIC TRANSPORTATION: From the house, quick public transportation to Forest Hills station (Orange Line and Commuter Rail) is via two nearby MBTA bus lines. The #38 bus stops one-half block away, and takes you past the Faulkner, then to Jamaica Plain and Forest Hills.  The #51 bus stops one block away, and goes a more direct route to Forest Hills. (The bus also goes to Cleveland Circle in Brookline.) Between the two bus lines, there is a bus that stops here every 15 minutes or so on weekdays; but no service on Sunday. ALSO, the apartment is just 1/2 mile walk to the Roslindale Village MBTA commuter rail stop, Needham Line. The train takes you to Ruggles Station at Northeastern Univ., to Back Bay station and to South Station in downtown Boston, in about 15 minutes time.  There are more city busses, running 7 days a week, from this MBTA rail station. You can also pick up ZIP Cars there.  GETTING HERE FROM LOGAN AIRPORT: By public transportation: You take the free shuttle bus at the airpo</td>\n",
       "      <td>I am living in the apartment during your stay, and I work from home, so I'm there most of the time.  Guests are welcome to use the kitchen and all cooking utensils, refrigerator, etc. I have a gas stove, toaster oven, microwave, convection oven and a pressure cooker! I have a backyard garden, so if you are here during August and September, be prepared for tomatoes and cucumbers! In addition to your personal room, you can also use the living room which includes a 32-inch HDTV with an Apple TV connection.  The bathroom, adjacent to your room, is shared.  The only room that is off limits is my bedroom on the opposite side of the apartment. I have a clothes washer and dryer in the basement for your use.</td>\n",
       "      <td>ABOUT ME: I'm a laid-back, friendly, unmarried guy. I work from home, spending a lot of time on the computer. I have an website that sells handmade things from Mexico. It is called \"Viva Oaxaca Folk Art.\" You will see lots of folk art in the apartment. I also run websites for other small companies. I don’t smoke, don’t have overnight guests. I keep regular hours, am friendly, considerate and quiet. I am one of the original Boston AIRBNB hosts, having signed-up with them in 2008.   I am a big traveler myself, and I love hearing stories of where guests have been or where they are heading to next.</td>\n",
       "      <td>I encourage you to use my kitchen, cooking and laundry facilities. There is no additional charge to use the washer/dryer in the basement.  No smoking, inside or outside. Come home as late as you want.  If you come home stumbling drunk, it's OK the first time. If you do it again, and you wake up me or the neighbors downstairs, we will be annoyed.  (Just so you know . . . )</td>\n",
       "      <td>https://a2.muscache.com/im/pictures/6ae8335d-91e6-4598-b380-3129db624df3.jpg?aki_policy=small</td>\n",
       "      <td>https://a2.muscache.com/im/pictures/6ae8335d-91e6-4598-b380-3129db624df3.jpg?aki_policy=medium</td>\n",
       "      <td>https://a2.muscache.com/im/pictures/6ae8335d-91e6-4598-b380-3129db624df3.jpg?aki_policy=large</td>\n",
       "      <td>https://a2.muscache.com/im/pictures/6ae8335d-91e6-4598-b380-3129db624df3.jpg?aki_policy=x_large</td>\n",
       "      <td>16701</td>\n",
       "      <td>https://www.airbnb.com/users/show/16701</td>\n",
       "      <td>Phil</td>\n",
       "      <td>2009-05-11</td>\n",
       "      <td>Boston, Massachusetts, United States</td>\n",
       "      <td>I am a middle-aged, single male with a wide range of interests and creative outlets.  I have traveled frequently, in much of the world, especially central Europe, including Hungary and Slovakia. In recent years I have had many trips to Mexico, where I buy folk art for my online business, called Viva Oaxaca Folk Art. I love meeting new people, especially travelers with stories to tell.  \\r\\n\\r\\nIn addition to the above, I run web sites for small companies, including a physical therapy practice, a cancer treatment center and a colonial era historic house and museum. \\r\\n\\r\\nIn the 1980s, I was a publicist and concert producer, and have presented many concerts with Judy Collins, as well as with Ella Fitzgerald, Laura Nyro, Tom Rush, Barbara Cook and Karen Akers. Now I run a channel on YouTube called \"beta.hifi.archive\" that is a collection of 50 years of video clips from the career of Judy Collins. \\r\\n\\r\\nSo come to Boston, and stay with me. Enjoy some tomatoes and cucumbers from my garden, explore my world of Mexican folk art, and let's talk about our travel adventures.\\r\\n</td>\n",
       "      <td>within a few hours</td>\n",
       "      <td>100%</td>\n",
       "      <td>88%</td>\n",
       "      <td>True</td>\n",
       "      <td>https://a2.muscache.com/im/users/16701/profile_pic/1393434148/original.jpg?aki_policy=profile_small</td>\n",
       "      <td>https://a2.muscache.com/im/users/16701/profile_pic/1393434148/original.jpg?aki_policy=profile_x_medium</td>\n",
       "      <td>Roslindale</td>\n",
       "      <td>1</td>\n",
       "      <td>1</td>\n",
       "      <td>['email', 'phone', 'reviews', 'jumio']</td>\n",
       "      <td>True</td>\n",
       "      <td>True</td>\n",
       "      <td>Ardale St., Boston, MA 02131, United States</td>\n",
       "      <td>Roslindale</td>\n",
       "      <td>Roslindale</td>\n",
       "      <td>Boston</td>\n",
       "      <td>MA</td>\n",
       "      <td>02131</td>\n",
       "      <td>Boston</td>\n",
       "      <td>Boston, MA</td>\n",
       "      <td>US</td>\n",
       "      <td>United States</td>\n",
       "      <td>42.292438</td>\n",
       "      <td>-71.135765</td>\n",
       "      <td>True</td>\n",
       "      <td>Apartment</td>\n",
       "      <td>Private room</td>\n",
       "      <td>2</td>\n",
       "      <td>1.0</td>\n",
       "      <td>1.0</td>\n",
       "      <td>1.0</td>\n",
       "      <td>Real Bed</td>\n",
       "      <td>{TV,\"Cable TV\",\"Wireless Internet\",\"Air Conditioning\",Kitchen,\"Free Parking on Premises\",Heating,Washer,Dryer,\"Smoke Detector\",\"Carbon Monoxide Detector\",\"First Aid Kit\",\"Safety Card\",Essentials,Shampoo,\"Lock on Bedroom Door\",\"translation missing: en.hosting_amenity_49\",\"translation missing: en.hosting_amenity_50\"}</td>\n",
       "      <td>$65.00</td>\n",
       "      <td>$395.00</td>\n",
       "      <td>$1,350.00</td>\n",
       "      <td>0.0</td>\n",
       "      <td>0.0</td>\n",
       "      <td>1</td>\n",
       "      <td>$20.00</td>\n",
       "      <td>3</td>\n",
       "      <td>45</td>\n",
       "      <td>5 days ago</td>\n",
       "      <td>19</td>\n",
       "      <td>46</td>\n",
       "      <td>61</td>\n",
       "      <td>319</td>\n",
       "      <td>2016-09-06</td>\n",
       "      <td>41</td>\n",
       "      <td>2009-07-19</td>\n",
       "      <td>2016-08-05</td>\n",
       "      <td>98.0</td>\n",
       "      <td>10.0</td>\n",
       "      <td>9.0</td>\n",
       "      <td>10.0</td>\n",
       "      <td>10.0</td>\n",
       "      <td>9.0</td>\n",
       "      <td>10.0</td>\n",
       "      <td>f</td>\n",
       "      <td>moderate</td>\n",
       "      <td>t</td>\n",
       "      <td>f</td>\n",
       "      <td>1</td>\n",
       "      <td>0.47</td>\n",
       "      <td>6976</td>\n",
       "      <td>65.000000</td>\n",
       "      <td>65.0</td>\n",
       "      <td>65.000000</td>\n",
       "      <td>0.000000</td>\n",
       "      <td>0.000000</td>\n",
       "    </tr>\n",
       "    <tr>\n",
       "      <th>3</th>\n",
       "      <td>1436513</td>\n",
       "      <td>https://www.airbnb.com/rooms/1436513</td>\n",
       "      <td>20160906204935</td>\n",
       "      <td>2016-09-07</td>\n",
       "      <td>Spacious Sunny Bedroom Suite in Historic Home</td>\n",
       "      <td>Come experience the comforts of home away from home in our fabulous bedroom suite available in Roslindale, a neighborhood in Boston.  Enjoy sleeping on a large king sized bed with plush down bedding, access to a dishwasher, washer dryer and home gym. The house is incredibly accessible to public transportation and the center of Boston. Free street parking is available right in front of the house. Weekend farmers markets, restaurants and grocery stores are a 10 min walk away from the house.</td>\n",
       "      <td>Most places you find in Boston are small however our bedroom suite is large. The bedroom has plush down pillows and a down comforter. The mattress is fitted with a memory foam topper that gives each guest the best sleep. The leather couches are cozy.  The large leather couch can be converted to a bed. The television has been updated to a smart tv therefore you can access most tv programs through there including, HBO, Showtime and Cinemax. If you want to enjoy cable television, there is a tv in the kitchen. The kitchen has a gas burner, dishwasher, garbage disposal, music system, and a space in the fridge to keep your items.</td>\n",
       "      <td>Come experience the comforts of home away from home in our fabulous bedroom suite available in Roslindale, a neighborhood in Boston.  Enjoy sleeping on a large king sized bed with plush down bedding, access to a dishwasher, washer dryer and home gym. The house is incredibly accessible to public transportation and the center of Boston. Free street parking is available right in front of the house. Weekend farmers markets, restaurants and grocery stores are a 10 min walk away from the house. Most places you find in Boston are small however our bedroom suite is large. The bedroom has plush down pillows and a down comforter. The mattress is fitted with a memory foam topper that gives each guest the best sleep. The leather couches are cozy.  The large leather couch can be converted to a bed. The television has been updated to a smart tv therefore you can access most tv programs through there including, HBO, Showtime and Cinemax. If you want to enjoy cable television, there is a tv in the kit</td>\n",
       "      <td>Roslindale is a lovely little neighborhood located right in the city of Boston.  Though a part of the actual city, once you enter it, you feel as though you have escaped to a suburb with friendly neighbors.  The area is conveniently located with access to the city’s bus and subway system.  The Orange Line and Commuter Rail services connect the area to the heart of Boston and the neighboring towns.  It is situated close to shops, restaurants, grocery stores, parks and neighboring towns.  The farmer’s market held in the neighborhood’s center, Roslindale Village, and goes on all summer on Saturday morning.  Vendors of all different types of arts, crafts, and foods come to the neighborhood.  The Arnold Arboretum is a 265 acre park constructed as part of Frederick Law Olmsted’s Emerald Necklace project to provide Boston a connection through neighborhoods through it’s parks.  Jamaica Pond is also part of the emerald necklace which sits at the confluence of Jamaica Plain (a neighboring neighb</td>\n",
       "      <td>Please be mindful of the property as it is old and needs to be treated with the love and care you would give to your own home.  We really hope you enjoy your stay!</td>\n",
       "      <td>There are buses that stop right in front of the house and down the street. We are a convenient bus ride away from the forest hills MBTA stop which is the subway system in Boston. There's free street parking all around the house should you have a car.</td>\n",
       "      <td>The basement has a washer dryer and gym area. There is a smart TV you can use while in the gym.  Your iPhone can be hooked up to the speakers in the treadmill.  Also, there's a weight bench, weights, and a boxing bag.  On the ground floor, you will have access to the kitchen and sunroom.  There is a designated drawer with pots and pans, utensils and dishes you can use.  The formal living room and dining room are permissible for light usage only. Please do not take any food or drink into these areas other than water. On the 2nd floor, you will have access to your bedroom, attached living room and detached bathroom which is shared.  The trash is located in the kitchen and the recycling bins are located to the left of the dishwasher. Additional trash liners are provided under the sink should you need them. The trash barrels are located in front of the garage should the trash bins get full and you need to throw your garbage out. The blue bin is for recycling.</td>\n",
       "      <td>We do live in the house therefore might be some interaction.  The house is large so it allows the people within it to interact as little or as much as is preferred.  During the weekends, we are less likely to be at home especially during the day.  Some weekends, we may not even be there at all.  Upon your booking we will be able to tell you whether or not we will be there so that you will know what to expect.  We respect the privacy of our guests so we will interact as much or as little with you as you would like.  It is all based on your preference.</td>\n",
       "      <td>- The bathroom and house are shared so please respect the privacy of others living in the home.  The sunroom and the patio in the yard are available for you to use.  There is a Keurig in the Kitchen is free for you to use.  There is a washer and dryer in the basement which you can use.  The formal living or dining areas are available for light use only.  You may only take water into these areas.  Please do not take food into any part of the house other than the kitchen, sunroom or back patio.  Additional guests to the ones already committed to staying on the premises is not permitted.</td>\n",
       "      <td>https://a2.muscache.com/im/pictures/39764190-16f9-4726-bf6a-2027ff35865c.jpg?aki_policy=small</td>\n",
       "      <td>https://a2.muscache.com/im/pictures/39764190-16f9-4726-bf6a-2027ff35865c.jpg?aki_policy=medium</td>\n",
       "      <td>https://a2.muscache.com/im/pictures/39764190-16f9-4726-bf6a-2027ff35865c.jpg?aki_policy=large</td>\n",
       "      <td>https://a2.muscache.com/im/pictures/39764190-16f9-4726-bf6a-2027ff35865c.jpg?aki_policy=x_large</td>\n",
       "      <td>6031442</td>\n",
       "      <td>https://www.airbnb.com/users/show/6031442</td>\n",
       "      <td>Meghna</td>\n",
       "      <td>2013-04-21</td>\n",
       "      <td>Boston, Massachusetts, United States</td>\n",
       "      <td>My husband and I live on the property.  He’s a lawyer and I work as an hospital administration.  We have an additional housemate who lives there during the week but is usually away on the weekends.  We absolutely love having guests over because it makes our big house feel full.  We love reading, watching movies, listening to music, going to concerts, traveling, eating new and different kinds of food and exploring in general.  In addition, I enjoy singing as my hobby.  \\r\\n\\r\\nWe want you too feel at home while you are staying with us.  If we are at the house during your visit, we will provide you with breakfast treats and be there to assist you with any of your needs.  The house if often empty on weekends as we all enjoy spending time outside doing activities, meeting friends/family or traveling.  If we are present, we can provide a hot breakfast but if not, cereal, bread, butter, jam, eggs and milk along with pancake mix will be available.  We will provide a list of contacts you can contact if we are not at home.  Our house is incredibly comfortable and we hope you enjoy the experience of sleeping on the beautiful king sized bed with plush down bedding.  We also hope you enjoy access to the movie channels on the Smart TV which is in the living area attached to your bedroom.</td>\n",
       "      <td>within a few hours</td>\n",
       "      <td>100%</td>\n",
       "      <td>50%</td>\n",
       "      <td>False</td>\n",
       "      <td>https://a2.muscache.com/im/pictures/5d430cde-7eb2-4ab7-980a-ef07781cd38c.jpg?aki_policy=profile_small</td>\n",
       "      <td>https://a2.muscache.com/im/pictures/5d430cde-7eb2-4ab7-980a-ef07781cd38c.jpg?aki_policy=profile_x_medium</td>\n",
       "      <td>NaN</td>\n",
       "      <td>1</td>\n",
       "      <td>1</td>\n",
       "      <td>['email', 'phone', 'reviews']</td>\n",
       "      <td>True</td>\n",
       "      <td>False</td>\n",
       "      <td>Boston, MA, United States</td>\n",
       "      <td>NaN</td>\n",
       "      <td>Roslindale</td>\n",
       "      <td>Boston</td>\n",
       "      <td>MA</td>\n",
       "      <td>NaN</td>\n",
       "      <td>Boston</td>\n",
       "      <td>Boston, MA</td>\n",
       "      <td>US</td>\n",
       "      <td>United States</td>\n",
       "      <td>42.281106</td>\n",
       "      <td>-71.121021</td>\n",
       "      <td>False</td>\n",
       "      <td>House</td>\n",
       "      <td>Private room</td>\n",
       "      <td>4</td>\n",
       "      <td>1.0</td>\n",
       "      <td>1.0</td>\n",
       "      <td>2.0</td>\n",
       "      <td>Real Bed</td>\n",
       "      <td>{TV,Internet,\"Wireless Internet\",\"Air Conditioning\",Kitchen,\"Free Parking on Premises\",Gym,Breakfast,\"Indoor Fireplace\",Heating,Washer,Dryer,\"Smoke Detector\",\"Carbon Monoxide Detector\",\"First Aid Kit\",\"Safety Card\",\"Fire Extinguisher\",Essentials,Shampoo,Hangers,\"Hair Dryer\",Iron,\"Laptop Friendly Workspace\"}</td>\n",
       "      <td>$75.00</td>\n",
       "      <td>NaN</td>\n",
       "      <td>NaN</td>\n",
       "      <td>100.0</td>\n",
       "      <td>50.0</td>\n",
       "      <td>2</td>\n",
       "      <td>$25.00</td>\n",
       "      <td>1</td>\n",
       "      <td>1125</td>\n",
       "      <td>a week ago</td>\n",
       "      <td>6</td>\n",
       "      <td>16</td>\n",
       "      <td>26</td>\n",
       "      <td>98</td>\n",
       "      <td>2016-09-06</td>\n",
       "      <td>1</td>\n",
       "      <td>2016-08-28</td>\n",
       "      <td>2016-08-28</td>\n",
       "      <td>100.0</td>\n",
       "      <td>10.0</td>\n",
       "      <td>10.0</td>\n",
       "      <td>10.0</td>\n",
       "      <td>10.0</td>\n",
       "      <td>10.0</td>\n",
       "      <td>10.0</td>\n",
       "      <td>f</td>\n",
       "      <td>moderate</td>\n",
       "      <td>f</td>\n",
       "      <td>f</td>\n",
       "      <td>1</td>\n",
       "      <td>1.00</td>\n",
       "      <td>1436513</td>\n",
       "      <td>31.451612</td>\n",
       "      <td>35.0</td>\n",
       "      <td>29.032259</td>\n",
       "      <td>-3.548388</td>\n",
       "      <td>5.967741</td>\n",
       "    </tr>\n",
       "    <tr>\n",
       "      <th>4</th>\n",
       "      <td>7651065</td>\n",
       "      <td>https://www.airbnb.com/rooms/7651065</td>\n",
       "      <td>20160906204935</td>\n",
       "      <td>2016-09-07</td>\n",
       "      <td>Come Home to Boston</td>\n",
       "      <td>My comfy, clean and relaxing home is one block away from the bus line, on a quiet residential street.  Private room includes two comfortable single beds.  Full bath and half bath may be shared with 1-2 other guests.  Light breakfast included. AC</td>\n",
       "      <td>Clean, attractive, private room, one block from the bus line, on a quiet, safe street. Two comfy single beds. Full bath and one half bath shared with 1-2 others. Kitchen privileges and breakfast included. Air Conditioned. Five minute walk to shops.</td>\n",
       "      <td>My comfy, clean and relaxing home is one block away from the bus line, on a quiet residential street.  Private room includes two comfortable single beds.  Full bath and half bath may be shared with 1-2 other guests.  Light breakfast included. AC Clean, attractive, private room, one block from the bus line, on a quiet, safe street. Two comfy single beds. Full bath and one half bath shared with 1-2 others. Kitchen privileges and breakfast included. Air Conditioned. Five minute walk to shops. You will have access to the front and side porches, the living room with TV, and the kitchen/dining area. I love my city and really enjoy sharing it with guests!  I live in the home and  share the kitchen and common spaces; my room is on the third floor.  I work full-time, and am out a lot.    I will be happy to provide you any information that would be helpful in navigating Boston.  It's a wonderful city and I hope to help make your visit here enjoyable. I suggest you get the \"What's App?\" phone app</td>\n",
       "      <td>I love the proximity to downtown, the neighborhood pride, safety, nice shops and restaurants within a 8-minute walk.  Roslindale is welcoming to all types of people.  The City website describes it:  \"Once considered a \"garden suburb\" of Boston, today's residents of Roslindale are still attracted to the neighborhood's natural beauty. Locals walk and bike in the Arnold Arboretum, a 265-acre oasis that is part of Frederick Law Olmsted's Emerald Necklace.....Roslindale Village is the city's original Main Street district and now one of the city's most vibrant, featuring several bistros, unique shops, and wireless Internet access. The MBTA Orange Line and Commuter Rail provide commuters with easy access to downtown.\"</td>\n",
       "      <td>I have one roommate who lives on the lower level.  She is a nurse and is usually working. Another roommate resides on the same floor as your room - she works a lot too. Please note that - since I work full time - my check-in window is 3 pm to 11 pm.</td>\n",
       "      <td>From Logan Airport  and South Station you have 3 options to get to my home: 1. Take the airport shuttle to the MBTA. (If you're at South Station, the MBTA is right at the bus station)  Take the MBTA subway to the \"Orange line\" train stop at Forest Hills station (it involves a switch that doesn't cost money).  From there, go to the Washington Street side of the station (not the Hyde Park Avenue side) and get bus #35, 36 or 37.  Get off at the Belgrade Avenue &amp; Walworth Street stop (by 165 Belgrade Avenue).  My home is a 3-minute walk from there.   The MBTA website has a tab \"Rider Tools\" which will give you excellent, detailed routes and times to get anywhere in the city.   2. Take a cab - which usually $35 to 40 from Logan and much less from South Station, unless there is terrible traffic.  3. Or you could follow step #1 to Forest Hills Station, then take a cab from there (they are lined up) to my home (about $5-7). 4. The Silver Line is also an option - you can get their schedule on t</td>\n",
       "      <td>You will have access to the front and side porches, the living room with TV, and the kitchen/dining area.</td>\n",
       "      <td>I love my city and really enjoy sharing it with guests!  I live in the home and  share the kitchen and common spaces; my room is on the third floor.  I work full-time, and am out a lot.    I will be happy to provide you any information that would be helpful in navigating Boston.  It's a wonderful city and I hope to help make your visit here enjoyable. I suggest you get the \"What's App?\" phone app if you are traveling internationally; we can text for free with it.</td>\n",
       "      <td>Please no smoking in the house, porch or on the property (you can go to the nearby corner).  Reasonable quiet after 10:30 pm.  Please remove shoes in the house.</td>\n",
       "      <td>https://a1.muscache.com/im/pictures/97154760/85d71c5c_original.jpg?aki_policy=small</td>\n",
       "      <td>https://a1.muscache.com/im/pictures/97154760/85d71c5c_original.jpg?aki_policy=medium</td>\n",
       "      <td>https://a1.muscache.com/im/pictures/97154760/85d71c5c_original.jpg?aki_policy=large</td>\n",
       "      <td>https://a1.muscache.com/im/pictures/97154760/85d71c5c_original.jpg?aki_policy=x_large</td>\n",
       "      <td>15396970</td>\n",
       "      <td>https://www.airbnb.com/users/show/15396970</td>\n",
       "      <td>Linda</td>\n",
       "      <td>2014-05-11</td>\n",
       "      <td>Boston, Massachusetts, United States</td>\n",
       "      <td>I work full time for a public school district.   My two wonderful adult sons live in their own homes in Boston.  Camping, bicycling, music, reading, and quiet time with friends and family are what I enjoy.  I love going to church and being part of the church community. Boston is a great place to live and every day I am happy to be here!\\r\\n\\r\\nMy hosting style is \"available\" but not \"hovering\"!  Some people want to be completely on their own and others like a little connection and appreciate the host being available.  I am happy to accommodate your style.</td>\n",
       "      <td>within an hour</td>\n",
       "      <td>100%</td>\n",
       "      <td>100%</td>\n",
       "      <td>True</td>\n",
       "      <td>https://a0.muscache.com/im/users/15396970/profile_pic/1399856223/original.jpg?aki_policy=profile_small</td>\n",
       "      <td>https://a0.muscache.com/im/users/15396970/profile_pic/1399856223/original.jpg?aki_policy=profile_x_medium</td>\n",
       "      <td>Roslindale</td>\n",
       "      <td>1</td>\n",
       "      <td>1</td>\n",
       "      <td>['email', 'phone', 'reviews', 'kba']</td>\n",
       "      <td>True</td>\n",
       "      <td>True</td>\n",
       "      <td>Durnell Avenue, Boston, MA 02131, United States</td>\n",
       "      <td>Roslindale</td>\n",
       "      <td>Roslindale</td>\n",
       "      <td>Boston</td>\n",
       "      <td>MA</td>\n",
       "      <td>02131</td>\n",
       "      <td>Boston</td>\n",
       "      <td>Boston, MA</td>\n",
       "      <td>US</td>\n",
       "      <td>United States</td>\n",
       "      <td>42.284512</td>\n",
       "      <td>-71.136258</td>\n",
       "      <td>True</td>\n",
       "      <td>House</td>\n",
       "      <td>Private room</td>\n",
       "      <td>2</td>\n",
       "      <td>1.5</td>\n",
       "      <td>1.0</td>\n",
       "      <td>2.0</td>\n",
       "      <td>Real Bed</td>\n",
       "      <td>{Internet,\"Wireless Internet\",\"Air Conditioning\",Kitchen,Breakfast,Heating,\"Smoke Detector\",\"Carbon Monoxide Detector\",\"First Aid Kit\",Essentials,Shampoo,Hangers,\"Hair Dryer\",Iron}</td>\n",
       "      <td>$79.00</td>\n",
       "      <td>NaN</td>\n",
       "      <td>NaN</td>\n",
       "      <td>0.0</td>\n",
       "      <td>15.0</td>\n",
       "      <td>1</td>\n",
       "      <td>$0.00</td>\n",
       "      <td>2</td>\n",
       "      <td>31</td>\n",
       "      <td>2 weeks ago</td>\n",
       "      <td>13</td>\n",
       "      <td>34</td>\n",
       "      <td>59</td>\n",
       "      <td>334</td>\n",
       "      <td>2016-09-06</td>\n",
       "      <td>29</td>\n",
       "      <td>2015-08-18</td>\n",
       "      <td>2016-09-01</td>\n",
       "      <td>99.0</td>\n",
       "      <td>10.0</td>\n",
       "      <td>10.0</td>\n",
       "      <td>10.0</td>\n",
       "      <td>10.0</td>\n",
       "      <td>9.0</td>\n",
       "      <td>10.0</td>\n",
       "      <td>f</td>\n",
       "      <td>flexible</td>\n",
       "      <td>f</td>\n",
       "      <td>f</td>\n",
       "      <td>1</td>\n",
       "      <td>2.25</td>\n",
       "      <td>7651065</td>\n",
       "      <td>79.000000</td>\n",
       "      <td>79.0</td>\n",
       "      <td>79.000000</td>\n",
       "      <td>0.000000</td>\n",
       "      <td>0.000000</td>\n",
       "    </tr>\n",
       "  </tbody>\n",
       "</table>\n",
       "</div>"
      ],
      "text/plain": [
       "         id                            listing_url       scrape_id  \\\n",
       "0  12147973  https://www.airbnb.com/rooms/12147973  20160906204935   \n",
       "1   3075044   https://www.airbnb.com/rooms/3075044  20160906204935   \n",
       "2      6976      https://www.airbnb.com/rooms/6976  20160906204935   \n",
       "3   1436513   https://www.airbnb.com/rooms/1436513  20160906204935   \n",
       "4   7651065   https://www.airbnb.com/rooms/7651065  20160906204935   \n",
       "\n",
       "  last_scraped                                           name  \\\n",
       "0   2016-09-07                     Sunny Bungalow in the City   \n",
       "1   2016-09-07              Charming room in pet friendly apt   \n",
       "2   2016-09-07               Mexican Folk Art Haven in Boston   \n",
       "3   2016-09-07  Spacious Sunny Bedroom Suite in Historic Home   \n",
       "4   2016-09-07                            Come Home to Boston   \n",
       "\n",
       "                                                                                                                                                                                                                                                                                                                                                                                                                                                                                                         summary  \\\n",
       "0                                                                                                                                                                                                                                                      Cozy, sunny, family home.  Master bedroom high ceilings. Deck, garden with hens, beehives & play structure.   Short walk to charming village with  attractive stores, groceries & local restaurants. Friendly neighborhood. Access public transportation.   \n",
       "1                                                                                                                                                                                                                                                        Charming and quiet room in a second floor 1910 condo building. The room has a full size bed, darkening curtains, window A/C unit. It's quiet because it's in the back of the house. Shared bathroom. Guests can use kitchen, living room. Pet friendly.   \n",
       "2                                                                                                                                                                                                                                                           Come stay with a friendly, middle-aged guy in the safe and quiet Roslindale neighborhood of Boston. You will have you own clean, furnished room (with cable TV, Wi-Fi, and a desk to work at) in an apartment that is filled with Mexican folk art.    \n",
       "3  Come experience the comforts of home away from home in our fabulous bedroom suite available in Roslindale, a neighborhood in Boston.  Enjoy sleeping on a large king sized bed with plush down bedding, access to a dishwasher, washer dryer and home gym. The house is incredibly accessible to public transportation and the center of Boston. Free street parking is available right in front of the house. Weekend farmers markets, restaurants and grocery stores are a 10 min walk away from the house.   \n",
       "4                                                                                                                                                                                                                                                          My comfy, clean and relaxing home is one block away from the bus line, on a quiet residential street.  Private room includes two comfortable single beds.  Full bath and half bath may be shared with 1-2 other guests.  Light breakfast included. AC   \n",
       "\n",
       "                                                                                                                                                                                                                                                                                                                                                                                                                                                                                                                                                                                                                                                                                                                                                                                                                                                                                                                                                                                                                                      space  \\\n",
       "0                                                                                                                                                                                                                                                                                                                                                                                                                                                                                                                                         The house has an open and cozy feel at the same time.  The living room has a flat screen TV.  The kitchen has all you need for cooking.  We prefer you buy your food but can use the organic oils, herbs, etc.   The yard can be seen from sitting room and when the weather allows, the yard is a place children can lose themselves in a safe way.  We have 2 bee hives, 6 hens fenced in (sometimes they get out of their coop area & into the yard), 2 rabbits in a hutch and play structure.   \n",
       "1                                                                                                                                                                                                                                                                                                                                                                                                                                                                                                                                                                                                                                                                                                                                                                                                                                                                                                                                                                 Small but cozy and quite room with a full size bed. Ample street parking.   \n",
       "2  Come stay with a friendly, middle-aged guy in the safe and quiet Roslindale neighborhood of Boston. You will have you own clean, furnished room (with cable TV, Wi-Fi, and a desk to work at) in an apartment that is filled with Mexican folk art. This is a well-maintained two-family house built in the 1940s. My apartment is on the second floor. This is a pet and smoke-free apartment.   PRICE: Price includes ALL utilities (heat, electricity, Wi-Fi, cable TV, air conditioner), parking in street, and use of back yard. NO SMOKING indoors or outside. Note that the bed is a size \"Full\" mattress, not a Queen or a King. This is ideal for one guest, but if it is two people traveling together, you can fit two in the bed, or the second person can sleep in the living room, on the long couch. (Not a fold-out couch, but comfortable). Additional fee for the second person is $20. The price listed is for one person.  I offer discounted rates for stays of one week or longer.   Guests get free coffee and a    \n",
       "3                                                                                                                                                                                                                                                                                                                                                                                   Most places you find in Boston are small however our bedroom suite is large. The bedroom has plush down pillows and a down comforter. The mattress is fitted with a memory foam topper that gives each guest the best sleep. The leather couches are cozy.  The large leather couch can be converted to a bed. The television has been updated to a smart tv therefore you can access most tv programs through there including, HBO, Showtime and Cinemax. If you want to enjoy cable television, there is a tv in the kitchen. The kitchen has a gas burner, dishwasher, garbage disposal, music system, and a space in the fridge to keep your items.   \n",
       "4                                                                                                                                                                                                                                                                                                                                                                                                                                                                                                                                                                                                                                                                                                                                                                                  Clean, attractive, private room, one block from the bus line, on a quiet, safe street. Two comfy single beds. Full bath and one half bath shared with 1-2 others. Kitchen privileges and breakfast included. Air Conditioned. Five minute walk to shops.   \n",
       "\n",
       "                                                                                                                                                                                                                                                                                                                                                                                                                                                                                                                                                                                                                                                                                                                                                                                                                                                                                                                                                                                                                                description  \\\n",
       "0  Cozy, sunny, family home.  Master bedroom high ceilings. Deck, garden with hens, beehives & play structure.   Short walk to charming village with  attractive stores, groceries & local restaurants. Friendly neighborhood. Access public transportation. The house has an open and cozy feel at the same time.  The living room has a flat screen TV.  The kitchen has all you need for cooking.  We prefer you buy your food but can use the organic oils, herbs, etc.   The yard can be seen from sitting room and when the weather allows, the yard is a place children can lose themselves in a safe way.  We have 2 bee hives, 6 hens fenced in (sometimes they get out of their coop area & into the yard), 2 rabbits in a hutch and play structure. You will have access to 2 bedrooms, a living room, kitchen, bathrooms, and yard. Roslindale is quiet, convenient and friendly.  For Southern food try Redd's in Rozzie.  Italian Delfino's or Sophia's Grotto are great. Birch St Bistro has nice atmostphere--a little pric   \n",
       "1  Charming and quiet room in a second floor 1910 condo building. The room has a full size bed, darkening curtains, window A/C unit. It's quiet because it's in the back of the house. Shared bathroom. Guests can use kitchen, living room. Pet friendly. Small but cozy and quite room with a full size bed. Ample street parking. Apt has one more bedroom (which I use) and large living space and kitchen that you can use.  Possibility to do laundry. Two porches. If I am at home, I am likely working in my home office, which is a separate room. I can help you settle in and give you tips and directions on the neighborhood and Boston.  The room is in Roslindale, a diverse and primarily residential neighborhood of Boston. It's well connected via public transportation to other neighborhoods and easy to access by car. Roslindale Square is a nice business district with supermarkets. banks, a bakery, etc. (See my Guidebook for some recommendations). The Arnold Arboretum is just steps away. Plenty of safe s   \n",
       "2  Come stay with a friendly, middle-aged guy in the safe and quiet Roslindale neighborhood of Boston. You will have you own clean, furnished room (with cable TV, Wi-Fi, and a desk to work at) in an apartment that is filled with Mexican folk art. This is a well-maintained two-family house built in the 1940s. My apartment is on the second floor. This is a pet and smoke-free apartment.   PRICE: Price includes ALL utilities (heat, electricity, Wi-Fi, cable TV, air conditioner), parking in street, and use of back yard. NO SMOKING indoors or outside. Note that the bed is a size \"Full\" mattress, not a Queen or a King. This is ideal for one guest, but if it is two people traveling together, you can fit two in the bed, or the second person can sleep in the living room, on the long couch. (Not a fold-out couch, but comfortable). Additional fee for the second person is $20. The price listed is for one person.  I offer discounted rates for stays of one week or longer.   Guests get free coffee and a    \n",
       "3  Come experience the comforts of home away from home in our fabulous bedroom suite available in Roslindale, a neighborhood in Boston.  Enjoy sleeping on a large king sized bed with plush down bedding, access to a dishwasher, washer dryer and home gym. The house is incredibly accessible to public transportation and the center of Boston. Free street parking is available right in front of the house. Weekend farmers markets, restaurants and grocery stores are a 10 min walk away from the house. Most places you find in Boston are small however our bedroom suite is large. The bedroom has plush down pillows and a down comforter. The mattress is fitted with a memory foam topper that gives each guest the best sleep. The leather couches are cozy.  The large leather couch can be converted to a bed. The television has been updated to a smart tv therefore you can access most tv programs through there including, HBO, Showtime and Cinemax. If you want to enjoy cable television, there is a tv in the kit   \n",
       "4  My comfy, clean and relaxing home is one block away from the bus line, on a quiet residential street.  Private room includes two comfortable single beds.  Full bath and half bath may be shared with 1-2 other guests.  Light breakfast included. AC Clean, attractive, private room, one block from the bus line, on a quiet, safe street. Two comfy single beds. Full bath and one half bath shared with 1-2 others. Kitchen privileges and breakfast included. Air Conditioned. Five minute walk to shops. You will have access to the front and side porches, the living room with TV, and the kitchen/dining area. I love my city and really enjoy sharing it with guests!  I live in the home and  share the kitchen and common spaces; my room is on the third floor.  I work full-time, and am out a lot.    I will be happy to provide you any information that would be helpful in navigating Boston.  It's a wonderful city and I hope to help make your visit here enjoyable. I suggest you get the \"What's App?\" phone app   \n",
       "\n",
       "                                                                                                                                                                                                                                                                                                                                                                                                                                                                                                                                                                                                                                                                                                                                                                                                                                                                                                                                                                                                                      neighborhood_overview  \\\n",
       "0                                                                                                                                                                                                                                                                                                                                                                                                                                                                                                                                                                                                                             Roslindale is quiet, convenient and friendly.  For Southern food try Redd's in Rozzie.  Italian Delfino's or Sophia's Grotto are great. Birch St Bistro has nice atmostphere--a little pricier.   If you are cooking the Fish Market has fresh fish daily; Tony's makes his own sausages and has Italian foods;  for  a wide variety of delicious cheeses and chocolates go to the Cheese Cellar on Birch St.   \n",
       "1                                                                                                                                                                                                                                                                                                                                                                                                                                                                                                                                                                                                                                                                       The room is in Roslindale, a diverse and primarily residential neighborhood of Boston. It's well connected via public transportation to other neighborhoods and easy to access by car. Roslindale Square is a nice business district with supermarkets. banks, a bakery, etc. (See my Guidebook for some recommendations). The Arnold Arboretum is just steps away.   \n",
       "2                                                 The LOCATION: Roslindale is a safe and diverse Boston neighborhood located between Jamaica Plain and West Roxbury. This apartment is on Ardale Street, a quiet side street off Centre Street.  This is about one-half mile from Faulkner Hospital, walking distance to the renowned Arnold Arboretum park (look for it on (SENSITIVE CONTENTS HIDDEN)), and about 20-minute drive to the Longwood Medical Center area. I have easy, restriction-free, on-street parking here, and a back yard. Just one block from the house, there is a 7-11 convenience store, a dry-cleaner, a Mexican restaurant, a pizza parlor, a popular sports bar and grill (similar to an Irish Pub), and another restaurant for breakfast and lunch.  The house is located 1/2 mile from Roslindale Square where you will find more restaurants, 4 bakeries, the public library and the post office. There is a superb farmers market here every Saturday. The fast-train to downtown Boston stops there, too.   \n",
       "3  Roslindale is a lovely little neighborhood located right in the city of Boston.  Though a part of the actual city, once you enter it, you feel as though you have escaped to a suburb with friendly neighbors.  The area is conveniently located with access to the city’s bus and subway system.  The Orange Line and Commuter Rail services connect the area to the heart of Boston and the neighboring towns.  It is situated close to shops, restaurants, grocery stores, parks and neighboring towns.  The farmer’s market held in the neighborhood’s center, Roslindale Village, and goes on all summer on Saturday morning.  Vendors of all different types of arts, crafts, and foods come to the neighborhood.  The Arnold Arboretum is a 265 acre park constructed as part of Frederick Law Olmsted’s Emerald Necklace project to provide Boston a connection through neighborhoods through it’s parks.  Jamaica Pond is also part of the emerald necklace which sits at the confluence of Jamaica Plain (a neighboring neighb   \n",
       "4                                                                                                                                                                                                                                                                                          I love the proximity to downtown, the neighborhood pride, safety, nice shops and restaurants within a 8-minute walk.  Roslindale is welcoming to all types of people.  The City website describes it:  \"Once considered a \"garden suburb\" of Boston, today's residents of Roslindale are still attracted to the neighborhood's natural beauty. Locals walk and bike in the Arnold Arboretum, a 265-acre oasis that is part of Frederick Law Olmsted's Emerald Necklace.....Roslindale Village is the city's original Main Street district and now one of the city's most vibrant, featuring several bistros, unique shops, and wireless Internet access. The MBTA Orange Line and Commuter Rail provide commuters with easy access to downtown.\"   \n",
       "\n",
       "                                                                                                                                                                                                                                                                                                                                                                                                                                                                                                                                                                                        notes  \\\n",
       "0                                                                                                                                                                                                                                                                                                                                                                                                                                                                                                                                                                                         NaN   \n",
       "1                                                                                                                                                                                                                                                                                                                                                                                                                                                                                                       If you don't have a US cell phone, you can text me using (SENSITIVE CONTENTS HIDDEN).   \n",
       "2  I am in a scenic part of Boston with a couple big parks nearby, and Jamaica Pond, where you can rent a sail boat or jog the paved perimeter path, within a mile away. Here is a clue to my personality:  Favorite singers are Judy Collins, Ari Hest, Miguel Bose and the British rock band, James. My top favorite places to travel to are Oaxaca, Mexico and Budapest, Hungary. In years gone by, I have had repeated trips to Paris and to Tunisia, also. These days I am mostly home, spending a lot of time in front of my iMac, writing copy, filling orders or coding for websites.   \n",
       "3                                                                                                                                                                                                                                                                                                                                                                                                                         Please be mindful of the property as it is old and needs to be treated with the love and care you would give to your own home.  We really hope you enjoy your stay!   \n",
       "4                                                                                                                                                                                                                                                                                                                                   I have one roommate who lives on the lower level.  She is a nurse and is usually working. Another roommate resides on the same floor as your room - she works a lot too. Please note that - since I work full time - my check-in window is 3 pm to 11 pm.   \n",
       "\n",
       "                                                                                                                                                                                                                                                                                                                                                                                                                                                                                                                                                                                                                                                                                                                                                                                                                                                                                                                                                                                                                                    transit  \\\n",
       "0                                                                                                                                                                                                                                                                                                                                                                                                                                                                                                                                                                                                                                                                                                                                                               The bus stop is 2 blocks away, and frequent. Bus is about a 10 minute ride to the Orange line, forest hills. The commuter rail into down town is a 6 minute walk from our home.  Walking is pleasant and restaurants, shops and grocery store are all a 6 minute walk away.   \n",
       "1                                                                                                                                                                                                                                                                                                                                                                                                                                                                                Plenty of safe street parking. Bus stops a few hundred feet from home. Buses 35, 36, or 37 will take you to the Forest Hills subway station is approximately 10 minutes. The buses are frequent during the week, less frequent during the weekend. However, many more buses leave Roslindale Sq., which is just 5 minutes away. Commuter rail is also down the road: more expensive but will take you downtown (Copley and South Station) in less than 20 minutes. Does not run on Sundays. The station is Roslindale Village on the Needham Heights line.   \n",
       "2  PUBLIC TRANSPORTATION: From the house, quick public transportation to Forest Hills station (Orange Line and Commuter Rail) is via two nearby MBTA bus lines. The #38 bus stops one-half block away, and takes you past the Faulkner, then to Jamaica Plain and Forest Hills.  The #51 bus stops one block away, and goes a more direct route to Forest Hills. (The bus also goes to Cleveland Circle in Brookline.) Between the two bus lines, there is a bus that stops here every 15 minutes or so on weekdays; but no service on Sunday. ALSO, the apartment is just 1/2 mile walk to the Roslindale Village MBTA commuter rail stop, Needham Line. The train takes you to Ruggles Station at Northeastern Univ., to Back Bay station and to South Station in downtown Boston, in about 15 minutes time.  There are more city busses, running 7 days a week, from this MBTA rail station. You can also pick up ZIP Cars there.  GETTING HERE FROM LOGAN AIRPORT: By public transportation: You take the free shuttle bus at the airpo   \n",
       "3                                                                                                                                                                                                                                                                                                                                                                                                                                                                                                                                                                                                                                                                                                                                                                                There are buses that stop right in front of the house and down the street. We are a convenient bus ride away from the forest hills MBTA stop which is the subway system in Boston. There's free street parking all around the house should you have a car.   \n",
       "4  From Logan Airport  and South Station you have 3 options to get to my home: 1. Take the airport shuttle to the MBTA. (If you're at South Station, the MBTA is right at the bus station)  Take the MBTA subway to the \"Orange line\" train stop at Forest Hills station (it involves a switch that doesn't cost money).  From there, go to the Washington Street side of the station (not the Hyde Park Avenue side) and get bus #35, 36 or 37.  Get off at the Belgrade Avenue & Walworth Street stop (by 165 Belgrade Avenue).  My home is a 3-minute walk from there.   The MBTA website has a tab \"Rider Tools\" which will give you excellent, detailed routes and times to get anywhere in the city.   2. Take a cab - which usually $35 to 40 from Logan and much less from South Station, unless there is terrible traffic.  3. Or you could follow step #1 to Forest Hills Station, then take a cab from there (they are lined up) to my home (about $5-7). 4. The Silver Line is also an option - you can get their schedule on t   \n",
       "\n",
       "                                                                                                                                                                                                                                                                                                                                                                                                                                                                                                                                                                                                                                                                                                                                                                                                                                                                                                                                                                                                      access  \\\n",
       "0                                                                                                                                                                                                                                                                                                                                                                                                                                                                                                                                                                                                                                                                                                                                                                                                                                                                                                                           You will have access to 2 bedrooms, a living room, kitchen, bathrooms, and yard.   \n",
       "1                                                                                                                                                                                                                                                                                                                                                                                                                                                                                                                                                                                                                                                                                                                                                                                                                                                                       Apt has one more bedroom (which I use) and large living space and kitchen that you can use.  Possibility to do laundry. Two porches.   \n",
       "2                                                                                                                                                                                                                                                                      I am living in the apartment during your stay, and I work from home, so I'm there most of the time.  Guests are welcome to use the kitchen and all cooking utensils, refrigerator, etc. I have a gas stove, toaster oven, microwave, convection oven and a pressure cooker! I have a backyard garden, so if you are here during August and September, be prepared for tomatoes and cucumbers! In addition to your personal room, you can also use the living room which includes a 32-inch HDTV with an Apple TV connection.  The bathroom, adjacent to your room, is shared.  The only room that is off limits is my bedroom on the opposite side of the apartment. I have a clothes washer and dryer in the basement for your use.    \n",
       "3  The basement has a washer dryer and gym area. There is a smart TV you can use while in the gym.  Your iPhone can be hooked up to the speakers in the treadmill.  Also, there's a weight bench, weights, and a boxing bag.  On the ground floor, you will have access to the kitchen and sunroom.  There is a designated drawer with pots and pans, utensils and dishes you can use.  The formal living room and dining room are permissible for light usage only. Please do not take any food or drink into these areas other than water. On the 2nd floor, you will have access to your bedroom, attached living room and detached bathroom which is shared.  The trash is located in the kitchen and the recycling bins are located to the left of the dishwasher. Additional trash liners are provided under the sink should you need them. The trash barrels are located in front of the garage should the trash bins get full and you need to throw your garbage out. The blue bin is for recycling.   \n",
       "4                                                                                                                                                                                                                                                                                                                                                                                                                                                                                                                                                                                                                                                                                                                                                                                                                                                                                                  You will have access to the front and side porches, the living room with TV, and the kitchen/dining area.   \n",
       "\n",
       "                                                                                                                                                                                                                                                                                                                                                                                                                                                                                                                                                                                                                  interaction  \\\n",
       "0                                                                                                                                                                                                                                                                                                                                                                                                                                                                                                                                                                                                                         NaN   \n",
       "1                                                                                                                                                                                                                                                                                                                                                                                                                                                If I am at home, I am likely working in my home office, which is a separate room. I can help you settle in and give you tips and directions on the neighborhood and Boston.    \n",
       "2  ABOUT ME: I'm a laid-back, friendly, unmarried guy. I work from home, spending a lot of time on the computer. I have an website that sells handmade things from Mexico. It is called \"Viva Oaxaca Folk Art.\" You will see lots of folk art in the apartment. I also run websites for other small companies. I don’t smoke, don’t have overnight guests. I keep regular hours, am friendly, considerate and quiet. I am one of the original Boston AIRBNB hosts, having signed-up with them in 2008.   I am a big traveler myself, and I love hearing stories of where guests have been or where they are heading to next.    \n",
       "3                                                We do live in the house therefore might be some interaction.  The house is large so it allows the people within it to interact as little or as much as is preferred.  During the weekends, we are less likely to be at home especially during the day.  Some weekends, we may not even be there at all.  Upon your booking we will be able to tell you whether or not we will be there so that you will know what to expect.  We respect the privacy of our guests so we will interact as much or as little with you as you would like.  It is all based on your preference.   \n",
       "4                                                                                                                                         I love my city and really enjoy sharing it with guests!  I live in the home and  share the kitchen and common spaces; my room is on the third floor.  I work full-time, and am out a lot.    I will be happy to provide you any information that would be helpful in navigating Boston.  It's a wonderful city and I hope to help make your visit here enjoyable. I suggest you get the \"What's App?\" phone app if you are traveling internationally; we can text for free with it.   \n",
       "\n",
       "                                                                                                                                                                                                                                                                                                                                                                                                                                                                                                                                                                                                       house_rules  \\\n",
       "0                                                                                                                                                                                                                                                                                                                                                                                                                                                                                                                             Clean up and treat the home the way you'd like your home to be treated.  No smoking.   \n",
       "1                                                                                                                                                                                              Pet friendly but please confirm with me if the pet you are planning on bringing with you is OK. I have a cute and quiet mixed chihuahua. I could accept more guests (for an extra fee) but this also needs to be confirmed beforehand. Also friends traveling together could sleep in separate beds for an extra fee (the second bed is either a sofa bed or inflatable bed). Smoking is only allowed on the porch.   \n",
       "2                                                                                                                                                                                                                           I encourage you to use my kitchen, cooking and laundry facilities. There is no additional charge to use the washer/dryer in the basement.  No smoking, inside or outside. Come home as late as you want.  If you come home stumbling drunk, it's OK the first time. If you do it again, and you wake up me or the neighbors downstairs, we will be annoyed.  (Just so you know . . . )   \n",
       "3  - The bathroom and house are shared so please respect the privacy of others living in the home.  The sunroom and the patio in the yard are available for you to use.  There is a Keurig in the Kitchen is free for you to use.  There is a washer and dryer in the basement which you can use.  The formal living or dining areas are available for light use only.  You may only take water into these areas.  Please do not take food into any part of the house other than the kitchen, sunroom or back patio.  Additional guests to the ones already committed to staying on the premises is not permitted.   \n",
       "4                                                                                                                                                                                                                                                                                                                                                                                                                                                 Please no smoking in the house, porch or on the property (you can go to the nearby corner).  Reasonable quiet after 10:30 pm.  Please remove shoes in the house.   \n",
       "\n",
       "                                                                                   thumbnail_url  \\\n",
       "0  https://a2.muscache.com/im/pictures/c0842db1-ee98-4fe8-870b-d1e2af33855d.jpg?aki_policy=small   \n",
       "1            https://a1.muscache.com/im/pictures/39327812/df0f1aab_original.jpg?aki_policy=small   \n",
       "2  https://a2.muscache.com/im/pictures/6ae8335d-91e6-4598-b380-3129db624df3.jpg?aki_policy=small   \n",
       "3  https://a2.muscache.com/im/pictures/39764190-16f9-4726-bf6a-2027ff35865c.jpg?aki_policy=small   \n",
       "4            https://a1.muscache.com/im/pictures/97154760/85d71c5c_original.jpg?aki_policy=small   \n",
       "\n",
       "                                                                                       medium_url  \\\n",
       "0  https://a2.muscache.com/im/pictures/c0842db1-ee98-4fe8-870b-d1e2af33855d.jpg?aki_policy=medium   \n",
       "1            https://a1.muscache.com/im/pictures/39327812/df0f1aab_original.jpg?aki_policy=medium   \n",
       "2  https://a2.muscache.com/im/pictures/6ae8335d-91e6-4598-b380-3129db624df3.jpg?aki_policy=medium   \n",
       "3  https://a2.muscache.com/im/pictures/39764190-16f9-4726-bf6a-2027ff35865c.jpg?aki_policy=medium   \n",
       "4            https://a1.muscache.com/im/pictures/97154760/85d71c5c_original.jpg?aki_policy=medium   \n",
       "\n",
       "                                                                                     picture_url  \\\n",
       "0  https://a2.muscache.com/im/pictures/c0842db1-ee98-4fe8-870b-d1e2af33855d.jpg?aki_policy=large   \n",
       "1            https://a1.muscache.com/im/pictures/39327812/df0f1aab_original.jpg?aki_policy=large   \n",
       "2  https://a2.muscache.com/im/pictures/6ae8335d-91e6-4598-b380-3129db624df3.jpg?aki_policy=large   \n",
       "3  https://a2.muscache.com/im/pictures/39764190-16f9-4726-bf6a-2027ff35865c.jpg?aki_policy=large   \n",
       "4            https://a1.muscache.com/im/pictures/97154760/85d71c5c_original.jpg?aki_policy=large   \n",
       "\n",
       "                                                                                    xl_picture_url  \\\n",
       "0  https://a2.muscache.com/im/pictures/c0842db1-ee98-4fe8-870b-d1e2af33855d.jpg?aki_policy=x_large   \n",
       "1            https://a1.muscache.com/im/pictures/39327812/df0f1aab_original.jpg?aki_policy=x_large   \n",
       "2  https://a2.muscache.com/im/pictures/6ae8335d-91e6-4598-b380-3129db624df3.jpg?aki_policy=x_large   \n",
       "3  https://a2.muscache.com/im/pictures/39764190-16f9-4726-bf6a-2027ff35865c.jpg?aki_policy=x_large   \n",
       "4            https://a1.muscache.com/im/pictures/97154760/85d71c5c_original.jpg?aki_policy=x_large   \n",
       "\n",
       "    host_id                                    host_url host_name  host_since  \\\n",
       "0  31303940  https://www.airbnb.com/users/show/31303940  Virginia  2015-04-15   \n",
       "1   2572247   https://www.airbnb.com/users/show/2572247    Andrea  2012-06-07   \n",
       "2     16701     https://www.airbnb.com/users/show/16701      Phil  2009-05-11   \n",
       "3   6031442   https://www.airbnb.com/users/show/6031442    Meghna  2013-04-21   \n",
       "4  15396970  https://www.airbnb.com/users/show/15396970     Linda  2014-05-11   \n",
       "\n",
       "                          host_location  \\\n",
       "0  Boston, Massachusetts, United States   \n",
       "1  Boston, Massachusetts, United States   \n",
       "2  Boston, Massachusetts, United States   \n",
       "3  Boston, Massachusetts, United States   \n",
       "4  Boston, Massachusetts, United States   \n",
       "\n",
       "                                                                                                                                                                                                                                                                                                                                                                                                                                                                                                                                                                                                                                                                                                                                                                                                                                                                                                                                                                                                                                                                                                                                                                                                                                                                                                                                          host_about  \\\n",
       "0                                                                                                                                                                                                                                                                                                                                                                                                                                                                                                                                                                                                                                                                                                                                                                                                                                                                                                                                                                                                                                                                                                                                                               We are country and city connecting in our deck and garden. Enjoy our music room, books and flat screen TV with the pastoral backyard of hens, bees, rabbits and an organic garden.     \n",
       "1                                                                                                                                                                                                                                                                                                                                                                                                                                                                                                                                                                                                                                                                                                                                                                                                                                                                                                                                                                                                                                                                                                                                                                                                                                                                      I live in Boston and I like to travel and have travelers staying at my place.   \n",
       "2                                                                                                                                                                                                                  I am a middle-aged, single male with a wide range of interests and creative outlets.  I have traveled frequently, in much of the world, especially central Europe, including Hungary and Slovakia. In recent years I have had many trips to Mexico, where I buy folk art for my online business, called Viva Oaxaca Folk Art. I love meeting new people, especially travelers with stories to tell.  \\r\\n\\r\\nIn addition to the above, I run web sites for small companies, including a physical therapy practice, a cancer treatment center and a colonial era historic house and museum. \\r\\n\\r\\nIn the 1980s, I was a publicist and concert producer, and have presented many concerts with Judy Collins, as well as with Ella Fitzgerald, Laura Nyro, Tom Rush, Barbara Cook and Karen Akers. Now I run a channel on YouTube called \"beta.hifi.archive\" that is a collection of 50 years of video clips from the career of Judy Collins. \\r\\n\\r\\nSo come to Boston, and stay with me. Enjoy some tomatoes and cucumbers from my garden, explore my world of Mexican folk art, and let's talk about our travel adventures.\\r\\n   \n",
       "3  My husband and I live on the property.  He’s a lawyer and I work as an hospital administration.  We have an additional housemate who lives there during the week but is usually away on the weekends.  We absolutely love having guests over because it makes our big house feel full.  We love reading, watching movies, listening to music, going to concerts, traveling, eating new and different kinds of food and exploring in general.  In addition, I enjoy singing as my hobby.  \\r\\n\\r\\nWe want you too feel at home while you are staying with us.  If we are at the house during your visit, we will provide you with breakfast treats and be there to assist you with any of your needs.  The house if often empty on weekends as we all enjoy spending time outside doing activities, meeting friends/family or traveling.  If we are present, we can provide a hot breakfast but if not, cereal, bread, butter, jam, eggs and milk along with pancake mix will be available.  We will provide a list of contacts you can contact if we are not at home.  Our house is incredibly comfortable and we hope you enjoy the experience of sleeping on the beautiful king sized bed with plush down bedding.  We also hope you enjoy access to the movie channels on the Smart TV which is in the living area attached to your bedroom.     \n",
       "4                                                                                                                                                                                                                                                                                                                                                                                                                                                                                                                                                                                                                                                                                                                                                                  I work full time for a public school district.   My two wonderful adult sons live in their own homes in Boston.  Camping, bicycling, music, reading, and quiet time with friends and family are what I enjoy.  I love going to church and being part of the church community. Boston is a great place to live and every day I am happy to be here!\\r\\n\\r\\nMy hosting style is \"available\" but not \"hovering\"!  Some people want to be completely on their own and others like a little connection and appreciate the host being available.  I am happy to accommodate your style.   \n",
       "\n",
       "   host_response_time host_response_rate host_acceptance_rate  \\\n",
       "0                 NaN                NaN                  NaN   \n",
       "1      within an hour               100%                 100%   \n",
       "2  within a few hours               100%                  88%   \n",
       "3  within a few hours               100%                  50%   \n",
       "4      within an hour               100%                 100%   \n",
       "\n",
       "   host_is_superhost  \\\n",
       "0              False   \n",
       "1              False   \n",
       "2               True   \n",
       "3              False   \n",
       "4               True   \n",
       "\n",
       "                                                                                       host_thumbnail_url  \\\n",
       "0   https://a2.muscache.com/im/pictures/5936fef0-ba16-45bd-ac33-9226137d0763.jpg?aki_policy=profile_small   \n",
       "1   https://a2.muscache.com/im/users/2572247/profile_pic/1442235897/original.jpg?aki_policy=profile_small   \n",
       "2     https://a2.muscache.com/im/users/16701/profile_pic/1393434148/original.jpg?aki_policy=profile_small   \n",
       "3   https://a2.muscache.com/im/pictures/5d430cde-7eb2-4ab7-980a-ef07781cd38c.jpg?aki_policy=profile_small   \n",
       "4  https://a0.muscache.com/im/users/15396970/profile_pic/1399856223/original.jpg?aki_policy=profile_small   \n",
       "\n",
       "                                                                                            host_picture_url  \\\n",
       "0   https://a2.muscache.com/im/pictures/5936fef0-ba16-45bd-ac33-9226137d0763.jpg?aki_policy=profile_x_medium   \n",
       "1   https://a2.muscache.com/im/users/2572247/profile_pic/1442235897/original.jpg?aki_policy=profile_x_medium   \n",
       "2     https://a2.muscache.com/im/users/16701/profile_pic/1393434148/original.jpg?aki_policy=profile_x_medium   \n",
       "3   https://a2.muscache.com/im/pictures/5d430cde-7eb2-4ab7-980a-ef07781cd38c.jpg?aki_policy=profile_x_medium   \n",
       "4  https://a0.muscache.com/im/users/15396970/profile_pic/1399856223/original.jpg?aki_policy=profile_x_medium   \n",
       "\n",
       "  host_neighbourhood  host_listings_count  host_total_listings_count  \\\n",
       "0         Roslindale                    1                          1   \n",
       "1         Roslindale                    1                          1   \n",
       "2         Roslindale                    1                          1   \n",
       "3                NaN                    1                          1   \n",
       "4         Roslindale                    1                          1   \n",
       "\n",
       "                                                       host_verifications  \\\n",
       "0                               ['email', 'phone', 'facebook', 'reviews']   \n",
       "1  ['email', 'phone', 'facebook', 'linkedin', 'amex', 'reviews', 'jumio']   \n",
       "2                                  ['email', 'phone', 'reviews', 'jumio']   \n",
       "3                                           ['email', 'phone', 'reviews']   \n",
       "4                                    ['email', 'phone', 'reviews', 'kba']   \n",
       "\n",
       "   host_has_profile_pic  host_identity_verified  \\\n",
       "0                  True                   False   \n",
       "1                  True                    True   \n",
       "2                  True                    True   \n",
       "3                  True                   False   \n",
       "4                  True                    True   \n",
       "\n",
       "                                              street neighbourhood  \\\n",
       "0      Birch Street, Boston, MA 02131, United States    Roslindale   \n",
       "1  Pinehurst Street, Boston, MA 02131, United States    Roslindale   \n",
       "2        Ardale St., Boston, MA 02131, United States    Roslindale   \n",
       "3                          Boston, MA, United States           NaN   \n",
       "4    Durnell Avenue, Boston, MA 02131, United States    Roslindale   \n",
       "\n",
       "  neighbourhood_cleansed    city state zipcode  market smart_location  \\\n",
       "0             Roslindale  Boston    MA   02131  Boston     Boston, MA   \n",
       "1             Roslindale  Boston    MA   02131  Boston     Boston, MA   \n",
       "2             Roslindale  Boston    MA   02131  Boston     Boston, MA   \n",
       "3             Roslindale  Boston    MA     NaN  Boston     Boston, MA   \n",
       "4             Roslindale  Boston    MA   02131  Boston     Boston, MA   \n",
       "\n",
       "  country_code        country   latitude  longitude  is_location_exact  \\\n",
       "0           US  United States  42.282619 -71.133068               True   \n",
       "1           US  United States  42.286241 -71.134374               True   \n",
       "2           US  United States  42.292438 -71.135765               True   \n",
       "3           US  United States  42.281106 -71.121021              False   \n",
       "4           US  United States  42.284512 -71.136258               True   \n",
       "\n",
       "  property_type        room_type  accommodates  bathrooms  bedrooms  beds  \\\n",
       "0         House  Entire home/apt             4        1.5       2.0   3.0   \n",
       "1     Apartment     Private room             2        1.0       1.0   1.0   \n",
       "2     Apartment     Private room             2        1.0       1.0   1.0   \n",
       "3         House     Private room             4        1.0       1.0   2.0   \n",
       "4         House     Private room             2        1.5       1.0   2.0   \n",
       "\n",
       "   bed_type  \\\n",
       "0  Real Bed   \n",
       "1  Real Bed   \n",
       "2  Real Bed   \n",
       "3  Real Bed   \n",
       "4  Real Bed   \n",
       "\n",
       "                                                                                                                                                                                                                                                                                                                      amenities  \\\n",
       "0                                                                                                {TV,\"Wireless Internet\",Kitchen,\"Free Parking on Premises\",\"Pets live on this property\",Dog(s),Heating,\"Family/Kid Friendly\",Washer,Dryer,\"Smoke Detector\",\"Fire Extinguisher\",Essentials,Shampoo,\"Laptop Friendly Workspace\"}   \n",
       "1                                {TV,Internet,\"Wireless Internet\",\"Air Conditioning\",Kitchen,\"Pets Allowed\",\"Pets live on this property\",Dog(s),Heating,\"Family/Kid Friendly\",Washer,Dryer,\"Smoke Detector\",\"Carbon Monoxide Detector\",\"Fire Extinguisher\",Essentials,Shampoo,\"Lock on Bedroom Door\",Hangers,\"Hair Dryer\",Iron}   \n",
       "2  {TV,\"Cable TV\",\"Wireless Internet\",\"Air Conditioning\",Kitchen,\"Free Parking on Premises\",Heating,Washer,Dryer,\"Smoke Detector\",\"Carbon Monoxide Detector\",\"First Aid Kit\",\"Safety Card\",Essentials,Shampoo,\"Lock on Bedroom Door\",\"translation missing: en.hosting_amenity_49\",\"translation missing: en.hosting_amenity_50\"}   \n",
       "3          {TV,Internet,\"Wireless Internet\",\"Air Conditioning\",Kitchen,\"Free Parking on Premises\",Gym,Breakfast,\"Indoor Fireplace\",Heating,Washer,Dryer,\"Smoke Detector\",\"Carbon Monoxide Detector\",\"First Aid Kit\",\"Safety Card\",\"Fire Extinguisher\",Essentials,Shampoo,Hangers,\"Hair Dryer\",Iron,\"Laptop Friendly Workspace\"}   \n",
       "4                                                                                                                                          {Internet,\"Wireless Internet\",\"Air Conditioning\",Kitchen,Breakfast,Heating,\"Smoke Detector\",\"Carbon Monoxide Detector\",\"First Aid Kit\",Essentials,Shampoo,Hangers,\"Hair Dryer\",Iron}   \n",
       "\n",
       "     price weekly_price monthly_price  security_deposit  cleaning_fee  \\\n",
       "0  $250.00          NaN           NaN               0.0          35.0   \n",
       "1   $65.00      $400.00           NaN              95.0          10.0   \n",
       "2   $65.00      $395.00     $1,350.00               0.0           0.0   \n",
       "3   $75.00          NaN           NaN             100.0          50.0   \n",
       "4   $79.00          NaN           NaN               0.0          15.0   \n",
       "\n",
       "   guests_included extra_people  minimum_nights  maximum_nights  \\\n",
       "0                1        $0.00               2            1125   \n",
       "1                0        $0.00               2              15   \n",
       "2                1       $20.00               3              45   \n",
       "3                2       $25.00               1            1125   \n",
       "4                1        $0.00               2              31   \n",
       "\n",
       "  calendar_updated  availability_30  availability_60  availability_90  \\\n",
       "0      2 weeks ago                0                0                0   \n",
       "1       a week ago               26               54               84   \n",
       "2       5 days ago               19               46               61   \n",
       "3       a week ago                6               16               26   \n",
       "4      2 weeks ago               13               34               59   \n",
       "\n",
       "   availability_365 calendar_last_scraped  number_of_reviews first_review  \\\n",
       "0                 0            2016-09-06                  0          NaN   \n",
       "1               359            2016-09-06                 36   2014-06-01   \n",
       "2               319            2016-09-06                 41   2009-07-19   \n",
       "3                98            2016-09-06                  1   2016-08-28   \n",
       "4               334            2016-09-06                 29   2015-08-18   \n",
       "\n",
       "  last_review  review_scores_rating  review_scores_accuracy  \\\n",
       "0         NaN                   NaN                     NaN   \n",
       "1  2016-08-13                  94.0                    10.0   \n",
       "2  2016-08-05                  98.0                    10.0   \n",
       "3  2016-08-28                 100.0                    10.0   \n",
       "4  2016-09-01                  99.0                    10.0   \n",
       "\n",
       "   review_scores_cleanliness  review_scores_checkin  \\\n",
       "0                        NaN                    NaN   \n",
       "1                        9.0                   10.0   \n",
       "2                        9.0                   10.0   \n",
       "3                       10.0                   10.0   \n",
       "4                       10.0                   10.0   \n",
       "\n",
       "   review_scores_communication  review_scores_location  review_scores_value  \\\n",
       "0                          NaN                     NaN                  NaN   \n",
       "1                         10.0                     9.0                  9.0   \n",
       "2                         10.0                     9.0                 10.0   \n",
       "3                         10.0                    10.0                 10.0   \n",
       "4                         10.0                     9.0                 10.0   \n",
       "\n",
       "  instant_bookable cancellation_policy require_guest_profile_picture  \\\n",
       "0                f            moderate                             f   \n",
       "1                t            moderate                             f   \n",
       "2                f            moderate                             t   \n",
       "3                f            moderate                             f   \n",
       "4                f            flexible                             f   \n",
       "\n",
       "  require_guest_phone_verification  calculated_host_listings_count  \\\n",
       "0                                f                               1   \n",
       "1                                f                               1   \n",
       "2                                f                               1   \n",
       "3                                f                               1   \n",
       "4                                f                               1   \n",
       "\n",
       "   reviews_per_month  listing_id      march  april        may      diff  \\\n",
       "0                NaN    12147973   0.000000    0.0   0.000000  0.000000   \n",
       "1               1.30     3075044  67.903229   68.0  67.580643 -0.096771   \n",
       "2               0.47        6976  65.000000   65.0  65.000000  0.000000   \n",
       "3               1.00     1436513  31.451612   35.0  29.032259 -3.548388   \n",
       "4               2.25     7651065  79.000000   79.0  79.000000  0.000000   \n",
       "\n",
       "      diff2  \n",
       "0  0.000000  \n",
       "1  0.419357  \n",
       "2  0.000000  \n",
       "3  5.967741  \n",
       "4  0.000000  "
      ]
     },
     "execution_count": 69,
     "metadata": {},
     "output_type": "execute_result"
    }
   ],
   "source": [
    "dfc_listings = dfc_listings.merge(dfc, left_on='id', right_on='listing_id')\n",
    "dfc_listings.head()"
   ]
  },
  {
   "cell_type": "markdown",
   "metadata": {},
   "source": [
    "#### Just listing the neighbourhood"
   ]
  },
  {
   "cell_type": "code",
   "execution_count": 70,
   "metadata": {
    "scrolled": true
   },
   "outputs": [
    {
     "data": {
      "text/plain": [
       "Index(['Allston-Brighton', 'Jamaica Plain', 'South End', 'Back Bay',\n",
       "       'Fenway/Kenmore', 'South Boston', 'Dorchester', 'Beacon Hill',\n",
       "       'North End', 'East Boston', 'Roxbury', 'Mission Hill', 'Charlestown',\n",
       "       'Chinatown', 'West End', 'Roslindale', 'West Roxbury',\n",
       "       'Theater District', 'Downtown Crossing', 'Hyde Park', 'Mattapan',\n",
       "       'Financial District', 'Somerville', 'Leather District', 'Downtown',\n",
       "       'Brookline', 'Cambridge', 'Chestnut Hill', 'Government Center',\n",
       "       'Harvard Square'],\n",
       "      dtype='object')"
      ]
     },
     "execution_count": 70,
     "metadata": {},
     "output_type": "execute_result"
    }
   ],
   "source": [
    "list_neighbourhood"
   ]
  },
  {
   "cell_type": "markdown",
   "metadata": {},
   "source": [
    "#### Calculating the  mean neighbourhood price in april"
   ]
  },
  {
   "cell_type": "code",
   "execution_count": 71,
   "metadata": {
    "scrolled": false
   },
   "outputs": [
    {
     "data": {
      "text/plain": [
       "<matplotlib.axes._subplots.AxesSubplot at 0x18c45ffb908>"
      ]
     },
     "execution_count": 71,
     "metadata": {},
     "output_type": "execute_result"
    },
    {
     "data": {
      "image/png": "[encoded data removed]",
      "text/plain": [
       "<Figure size 432x288 with 1 Axes>"
      ]
     },
     "metadata": {
      "needs_background": "light"
     },
     "output_type": "display_data"
    }
   ],
   "source": [
    "dfc_listings.groupby('neighbourhood')['april'].mean()[list_neighbourhood].plot(kind='bar')\n",
    "#bar_ax = sns.barplot(ax=ax,data=dfc_listings,x='neighbourhood',y='price_y',hue='room_type',order=list_neighbourhood)"
   ]
  },
  {
   "cell_type": "markdown",
   "metadata": {},
   "source": [
    "> The finish line for the marathon is located at Copley Square, next to the Boston Public Library, in the Back Bay neighborhood (https://pt.wikipedia.org/wiki/Marathon_Boston). We will calculate the average position of the neighborhoods considering the coordinates of the accommodations and measure the distance in a straight line in kilometers between each neighborhood and the point of arrival of the marathon that is in the Back Bay neighborhood."
   ]
  },
  {
   "cell_type": "markdown",
   "metadata": {},
   "source": [
    "#### Converting to Haver distance and joing into dataframe"
   ]
  },
  {
   "cell_type": "code",
   "execution_count": 72,
   "metadata": {},
   "outputs": [
    {
     "data": {
      "text/html": [
       "<div>\n",
       "<style scoped>\n",
       "    .dataframe tbody tr th:only-of-type {\n",
       "        vertical-align: middle;\n",
       "    }\n",
       "\n",
       "    .dataframe tbody tr th {\n",
       "        vertical-align: top;\n",
       "    }\n",
       "\n",
       "    .dataframe thead th {\n",
       "        text-align: right;\n",
       "    }\n",
       "</style>\n",
       "<table border=\"1\" class=\"dataframe\">\n",
       "  <thead>\n",
       "    <tr style=\"text-align: right;\">\n",
       "      <th></th>\n",
       "      <th>neighbourhood</th>\n",
       "      <th>latitude</th>\n",
       "      <th>longitude</th>\n",
       "    </tr>\n",
       "  </thead>\n",
       "  <tbody>\n",
       "    <tr>\n",
       "      <th>0</th>\n",
       "      <td>Allston-Brighton</td>\n",
       "      <td>42.351369</td>\n",
       "      <td>-71.139800</td>\n",
       "    </tr>\n",
       "    <tr>\n",
       "      <th>1</th>\n",
       "      <td>Back Bay</td>\n",
       "      <td>42.349543</td>\n",
       "      <td>-71.080150</td>\n",
       "    </tr>\n",
       "    <tr>\n",
       "      <th>2</th>\n",
       "      <td>Beacon Hill</td>\n",
       "      <td>42.359162</td>\n",
       "      <td>-71.067222</td>\n",
       "    </tr>\n",
       "    <tr>\n",
       "      <th>3</th>\n",
       "      <td>Brookline</td>\n",
       "      <td>42.341502</td>\n",
       "      <td>-71.125128</td>\n",
       "    </tr>\n",
       "    <tr>\n",
       "      <th>4</th>\n",
       "      <td>Cambridge</td>\n",
       "      <td>42.363323</td>\n",
       "      <td>-71.108006</td>\n",
       "    </tr>\n",
       "  </tbody>\n",
       "</table>\n",
       "</div>"
      ],
      "text/plain": [
       "      neighbourhood   latitude  longitude\n",
       "0  Allston-Brighton  42.351369 -71.139800\n",
       "1          Back Bay  42.349543 -71.080150\n",
       "2       Beacon Hill  42.359162 -71.067222\n",
       "3         Brookline  42.341502 -71.125128\n",
       "4         Cambridge  42.363323 -71.108006"
      ]
     },
     "execution_count": 72,
     "metadata": {},
     "output_type": "execute_result"
    }
   ],
   "source": [
    "dfc_dist = dfc_listings.groupby('neighbourhood')[['latitude','longitude']].mean().reset_index()\n",
    "dfc_dist.head()"
   ]
  },
  {
   "cell_type": "code",
   "execution_count": 73,
   "metadata": {},
   "outputs": [],
   "source": [
    "dfc_dist['dist'] = dfc_dist.apply(lambda x: haversine_vectorize(x['longitude'],x['latitude']),axis=1)"
   ]
  },
  {
   "cell_type": "markdown",
   "metadata": {},
   "source": [
    "#### Sorting the dataframe based on distance in ascending order"
   ]
  },
  {
   "cell_type": "code",
   "execution_count": 74,
   "metadata": {
    "scrolled": true
   },
   "outputs": [
    {
     "data": {
      "text/html": [
       "<div>\n",
       "<style scoped>\n",
       "    .dataframe tbody tr th:only-of-type {\n",
       "        vertical-align: middle;\n",
       "    }\n",
       "\n",
       "    .dataframe tbody tr th {\n",
       "        vertical-align: top;\n",
       "    }\n",
       "\n",
       "    .dataframe thead th {\n",
       "        text-align: right;\n",
       "    }\n",
       "</style>\n",
       "<table border=\"1\" class=\"dataframe\">\n",
       "  <thead>\n",
       "    <tr style=\"text-align: right;\">\n",
       "      <th></th>\n",
       "      <th>neighbourhood</th>\n",
       "      <th>latitude</th>\n",
       "      <th>longitude</th>\n",
       "      <th>dist</th>\n",
       "    </tr>\n",
       "  </thead>\n",
       "  <tbody>\n",
       "    <tr>\n",
       "      <th>1</th>\n",
       "      <td>Back Bay</td>\n",
       "      <td>42.349543</td>\n",
       "      <td>-71.080150</td>\n",
       "      <td>0.330641</td>\n",
       "    </tr>\n",
       "    <tr>\n",
       "      <th>26</th>\n",
       "      <td>South End</td>\n",
       "      <td>42.342303</td>\n",
       "      <td>-71.074069</td>\n",
       "      <td>0.915764</td>\n",
       "    </tr>\n",
       "    <tr>\n",
       "      <th>27</th>\n",
       "      <td>Theater District</td>\n",
       "      <td>42.351793</td>\n",
       "      <td>-71.064242</td>\n",
       "      <td>1.001537</td>\n",
       "    </tr>\n",
       "    <tr>\n",
       "      <th>7</th>\n",
       "      <td>Chinatown</td>\n",
       "      <td>42.350705</td>\n",
       "      <td>-71.061584</td>\n",
       "      <td>1.207927</td>\n",
       "    </tr>\n",
       "    <tr>\n",
       "      <th>2</th>\n",
       "      <td>Beacon Hill</td>\n",
       "      <td>42.359162</td>\n",
       "      <td>-71.067222</td>\n",
       "      <td>1.227497</td>\n",
       "    </tr>\n",
       "  </tbody>\n",
       "</table>\n",
       "</div>"
      ],
      "text/plain": [
       "       neighbourhood   latitude  longitude      dist\n",
       "1           Back Bay  42.349543 -71.080150  0.330641\n",
       "26         South End  42.342303 -71.074069  0.915764\n",
       "27  Theater District  42.351793 -71.064242  1.001537\n",
       "7          Chinatown  42.350705 -71.061584  1.207927\n",
       "2        Beacon Hill  42.359162 -71.067222  1.227497"
      ]
     },
     "execution_count": 74,
     "metadata": {},
     "output_type": "execute_result"
    }
   ],
   "source": [
    "dfc_dist.sort_values(['dist']).head()"
   ]
  },
  {
   "cell_type": "markdown",
   "metadata": {},
   "source": [
    "#### Creating a dataframe with the neighbourhood and mean neighbourhood price"
   ]
  },
  {
   "cell_type": "code",
   "execution_count": 75,
   "metadata": {
    "scrolled": true
   },
   "outputs": [
    {
     "data": {
      "text/html": [
       "<div>\n",
       "<style scoped>\n",
       "    .dataframe tbody tr th:only-of-type {\n",
       "        vertical-align: middle;\n",
       "    }\n",
       "\n",
       "    .dataframe tbody tr th {\n",
       "        vertical-align: top;\n",
       "    }\n",
       "\n",
       "    .dataframe thead th {\n",
       "        text-align: right;\n",
       "    }\n",
       "</style>\n",
       "<table border=\"1\" class=\"dataframe\">\n",
       "  <thead>\n",
       "    <tr style=\"text-align: right;\">\n",
       "      <th></th>\n",
       "      <th>neighbourhood</th>\n",
       "      <th>april</th>\n",
       "    </tr>\n",
       "  </thead>\n",
       "  <tbody>\n",
       "    <tr>\n",
       "      <th>0</th>\n",
       "      <td>Allston-Brighton</td>\n",
       "      <td>52.705952</td>\n",
       "    </tr>\n",
       "    <tr>\n",
       "      <th>1</th>\n",
       "      <td>Back Bay</td>\n",
       "      <td>154.333450</td>\n",
       "    </tr>\n",
       "    <tr>\n",
       "      <th>2</th>\n",
       "      <td>Beacon Hill</td>\n",
       "      <td>122.671265</td>\n",
       "    </tr>\n",
       "    <tr>\n",
       "      <th>3</th>\n",
       "      <td>Brookline</td>\n",
       "      <td>21.533333</td>\n",
       "    </tr>\n",
       "    <tr>\n",
       "      <th>4</th>\n",
       "      <td>Cambridge</td>\n",
       "      <td>134.661911</td>\n",
       "    </tr>\n",
       "  </tbody>\n",
       "</table>\n",
       "</div>"
      ],
      "text/plain": [
       "      neighbourhood       april\n",
       "0  Allston-Brighton   52.705952\n",
       "1          Back Bay  154.333450\n",
       "2       Beacon Hill  122.671265\n",
       "3         Brookline   21.533333\n",
       "4         Cambridge  134.661911"
      ]
     },
     "execution_count": 75,
     "metadata": {},
     "output_type": "execute_result"
    }
   ],
   "source": [
    "dfc2 = dfc_listings.groupby('neighbourhood')['april'].mean().reset_index()\n",
    "dfc2.head()"
   ]
  },
  {
   "cell_type": "markdown",
   "metadata": {},
   "source": [
    "#### Creating a dataframe with the neighbourhood and homestay count"
   ]
  },
  {
   "cell_type": "code",
   "execution_count": 76,
   "metadata": {},
   "outputs": [
    {
     "data": {
      "text/html": [
       "<div>\n",
       "<style scoped>\n",
       "    .dataframe tbody tr th:only-of-type {\n",
       "        vertical-align: middle;\n",
       "    }\n",
       "\n",
       "    .dataframe tbody tr th {\n",
       "        vertical-align: top;\n",
       "    }\n",
       "\n",
       "    .dataframe thead th {\n",
       "        text-align: right;\n",
       "    }\n",
       "</style>\n",
       "<table border=\"1\" class=\"dataframe\">\n",
       "  <thead>\n",
       "    <tr style=\"text-align: right;\">\n",
       "      <th></th>\n",
       "      <th>neighbourhood</th>\n",
       "      <th>id</th>\n",
       "    </tr>\n",
       "  </thead>\n",
       "  <tbody>\n",
       "    <tr>\n",
       "      <th>0</th>\n",
       "      <td>Allston-Brighton</td>\n",
       "      <td>364</td>\n",
       "    </tr>\n",
       "    <tr>\n",
       "      <th>1</th>\n",
       "      <td>Back Bay</td>\n",
       "      <td>291</td>\n",
       "    </tr>\n",
       "    <tr>\n",
       "      <th>2</th>\n",
       "      <td>Beacon Hill</td>\n",
       "      <td>174</td>\n",
       "    </tr>\n",
       "    <tr>\n",
       "      <th>3</th>\n",
       "      <td>Brookline</td>\n",
       "      <td>8</td>\n",
       "    </tr>\n",
       "    <tr>\n",
       "      <th>4</th>\n",
       "      <td>Cambridge</td>\n",
       "      <td>7</td>\n",
       "    </tr>\n",
       "  </tbody>\n",
       "</table>\n",
       "</div>"
      ],
      "text/plain": [
       "      neighbourhood   id\n",
       "0  Allston-Brighton  364\n",
       "1          Back Bay  291\n",
       "2       Beacon Hill  174\n",
       "3         Brookline    8\n",
       "4         Cambridge    7"
      ]
     },
     "execution_count": 76,
     "metadata": {},
     "output_type": "execute_result"
    }
   ],
   "source": [
    "dfc3 = dfc_listings.groupby('neighbourhood')['id'].count().reset_index()\n",
    "dfc3.head()"
   ]
  },
  {
   "cell_type": "markdown",
   "metadata": {},
   "source": [
    "#### Merging the dataframes"
   ]
  },
  {
   "cell_type": "code",
   "execution_count": 82,
   "metadata": {
    "scrolled": true
   },
   "outputs": [],
   "source": [
    "dfList = [dfc_dist,dfc2,dfc3]\n",
    "dfc_dist = reduce(lambda x, y: pd.merge(x, y, on = 'neighbourhood'), dfList)"
   ]
  },
  {
   "cell_type": "code",
   "execution_count": null,
   "metadata": {},
   "outputs": [],
   "source": [
    "dfc_dist.columns"
   ]
  },
  {
   "cell_type": "markdown",
   "metadata": {},
   "source": [
    "#### Dataframe after merged"
   ]
  },
  {
   "cell_type": "code",
   "execution_count": 83,
   "metadata": {
    "scrolled": false
   },
   "outputs": [
    {
     "data": {
      "text/html": [
       "<div>\n",
       "<style scoped>\n",
       "    .dataframe tbody tr th:only-of-type {\n",
       "        vertical-align: middle;\n",
       "    }\n",
       "\n",
       "    .dataframe tbody tr th {\n",
       "        vertical-align: top;\n",
       "    }\n",
       "\n",
       "    .dataframe thead th {\n",
       "        text-align: right;\n",
       "    }\n",
       "</style>\n",
       "<table border=\"1\" class=\"dataframe\">\n",
       "  <thead>\n",
       "    <tr style=\"text-align: right;\">\n",
       "      <th></th>\n",
       "      <th>neighbourhood</th>\n",
       "      <th>latitude</th>\n",
       "      <th>longitude</th>\n",
       "      <th>dist</th>\n",
       "      <th>price</th>\n",
       "      <th>count</th>\n",
       "    </tr>\n",
       "  </thead>\n",
       "  <tbody>\n",
       "    <tr>\n",
       "      <th>0</th>\n",
       "      <td>Allston-Brighton</td>\n",
       "      <td>42.351369</td>\n",
       "      <td>-71.139800</td>\n",
       "      <td>5.217275</td>\n",
       "      <td>52.705952</td>\n",
       "      <td>364</td>\n",
       "    </tr>\n",
       "    <tr>\n",
       "      <th>1</th>\n",
       "      <td>Back Bay</td>\n",
       "      <td>42.349543</td>\n",
       "      <td>-71.080150</td>\n",
       "      <td>0.330641</td>\n",
       "      <td>154.333450</td>\n",
       "      <td>291</td>\n",
       "    </tr>\n",
       "    <tr>\n",
       "      <th>2</th>\n",
       "      <td>Beacon Hill</td>\n",
       "      <td>42.359162</td>\n",
       "      <td>-71.067222</td>\n",
       "      <td>1.227497</td>\n",
       "      <td>122.671265</td>\n",
       "      <td>174</td>\n",
       "    </tr>\n",
       "    <tr>\n",
       "      <th>3</th>\n",
       "      <td>Brookline</td>\n",
       "      <td>42.341502</td>\n",
       "      <td>-71.125128</td>\n",
       "      <td>4.130981</td>\n",
       "      <td>21.533333</td>\n",
       "      <td>8</td>\n",
       "    </tr>\n",
       "    <tr>\n",
       "      <th>4</th>\n",
       "      <td>Cambridge</td>\n",
       "      <td>42.363323</td>\n",
       "      <td>-71.108006</td>\n",
       "      <td>2.975557</td>\n",
       "      <td>134.661911</td>\n",
       "      <td>7</td>\n",
       "    </tr>\n",
       "  </tbody>\n",
       "</table>\n",
       "</div>"
      ],
      "text/plain": [
       "      neighbourhood   latitude  longitude      dist       price  count\n",
       "0  Allston-Brighton  42.351369 -71.139800  5.217275   52.705952    364\n",
       "1          Back Bay  42.349543 -71.080150  0.330641  154.333450    291\n",
       "2       Beacon Hill  42.359162 -71.067222  1.227497  122.671265    174\n",
       "3         Brookline  42.341502 -71.125128  4.130981   21.533333      8\n",
       "4         Cambridge  42.363323 -71.108006  2.975557  134.661911      7"
      ]
     },
     "execution_count": 83,
     "metadata": {},
     "output_type": "execute_result"
    }
   ],
   "source": [
    "dfc_dist.rename(columns={'id':'count','april':'price'},inplace=True)\n",
    "dfc_dist.head()"
   ]
  },
  {
   "cell_type": "code",
   "execution_count": 84,
   "metadata": {},
   "outputs": [],
   "source": [
    "dfc_dist_sort = dfc_dist.sort_values(by=['count'],ascending=False)"
   ]
  },
  {
   "cell_type": "markdown",
   "metadata": {},
   "source": [
    "#### Creating a figure with three plots"
   ]
  },
  {
   "cell_type": "code",
   "execution_count": 85,
   "metadata": {
    "scrolled": true
   },
   "outputs": [
    {
     "data": {
      "image/png": "[encoded data removed]",
      "text/plain": [
       "<Figure size 576x864 with 3 Axes>"
      ]
     },
     "metadata": {
      "needs_background": "light"
     },
     "output_type": "display_data"
    }
   ],
   "source": [
    "x = dfc_dist_sort['neighbourhood']\n",
    "y = dfc_dist_sort['price']\n",
    "z = dfc_dist_sort['count']\n",
    "w = dfc_dist_sort['dist']\n",
    "fig, axs = plt.subplots(3, 1, sharex=True,figsize=(8, 12))\n",
    "fig.subplots_adjust(hspace=0)\n",
    "#fig.suptitle('Comparing price, count and distance mean between neighbourhood', fontsize=12)\n",
    "axs[0].set_title('Comparing price, count and distance mean')\n",
    "axs[0].bar(x, y)\n",
    "axs[0].set_ylabel('Price')\n",
    "axs[1].bar(x, z)\n",
    "axs[1].set_ylabel('Count')\n",
    "axs[2].bar(x, w)\n",
    "axs[2].set_ylabel('Distance (km)')\n",
    "_ = plt.xticks(rotation=90)\n",
    "plt.savefig('comp2.png', bbox_inches='tight', dpi = 100)"
   ]
  },
  {
   "cell_type": "markdown",
   "metadata": {},
   "source": [
    "> Back Bay is the neighborhood where the Boston marathon finish line is located and one of the neighborhoods with the most accommodations in the period. South End and Chinatown are between the two neighborhoods closest to the finish line, being 1.9 km the furthest from them. South End has more lodging options. However Chinatown has the lowest average price. If you don't have accommodation available in Back Bay, or a cheaper option, South End and Chinatown are excellent neighborhood options."
   ]
  },
  {
   "cell_type": "markdown",
   "metadata": {},
   "source": [
    "#### Visualizing the neighbourhood information I just identified before"
   ]
  },
  {
   "cell_type": "code",
   "execution_count": 86,
   "metadata": {
    "scrolled": true
   },
   "outputs": [
    {
     "data": {
      "text/html": [
       "<div>\n",
       "<style scoped>\n",
       "    .dataframe tbody tr th:only-of-type {\n",
       "        vertical-align: middle;\n",
       "    }\n",
       "\n",
       "    .dataframe tbody tr th {\n",
       "        vertical-align: top;\n",
       "    }\n",
       "\n",
       "    .dataframe thead th {\n",
       "        text-align: right;\n",
       "    }\n",
       "</style>\n",
       "<table border=\"1\" class=\"dataframe\">\n",
       "  <thead>\n",
       "    <tr style=\"text-align: right;\">\n",
       "      <th></th>\n",
       "      <th>neighbourhood</th>\n",
       "      <th>latitude</th>\n",
       "      <th>longitude</th>\n",
       "      <th>dist</th>\n",
       "      <th>price</th>\n",
       "      <th>count</th>\n",
       "    </tr>\n",
       "  </thead>\n",
       "  <tbody>\n",
       "    <tr>\n",
       "      <th>26</th>\n",
       "      <td>South End</td>\n",
       "      <td>42.342303</td>\n",
       "      <td>-71.074069</td>\n",
       "      <td>0.915764</td>\n",
       "      <td>116.854919</td>\n",
       "      <td>298</td>\n",
       "    </tr>\n",
       "    <tr>\n",
       "      <th>7</th>\n",
       "      <td>Chinatown</td>\n",
       "      <td>42.350705</td>\n",
       "      <td>-71.061584</td>\n",
       "      <td>1.207927</td>\n",
       "      <td>97.789742</td>\n",
       "      <td>78</td>\n",
       "    </tr>\n",
       "  </tbody>\n",
       "</table>\n",
       "</div>"
      ],
      "text/plain": [
       "   neighbourhood   latitude  longitude      dist       price  count\n",
       "26     South End  42.342303 -71.074069  0.915764  116.854919    298\n",
       "7      Chinatown  42.350705 -71.061584  1.207927   97.789742     78"
      ]
     },
     "execution_count": 86,
     "metadata": {},
     "output_type": "execute_result"
    }
   ],
   "source": [
    "dfc_dist_sort[dfc_dist_sort['neighbourhood'].isin(['South End', 'Chinatown'])].head()"
   ]
  },
  {
   "cell_type": "markdown",
   "metadata": {},
   "source": [
    "> The South End has an average accommodation distance of 900 m from Copley Square in Back Bay, while Chinatown is 1.9 km. Let's check the types of rooms that these neighborhoods have."
   ]
  },
  {
   "cell_type": "markdown",
   "metadata": {},
   "source": [
    "#### Analyzing the South End and Chinatown neighborhoods"
   ]
  },
  {
   "cell_type": "code",
   "execution_count": 87,
   "metadata": {
    "collapsed": true
   },
   "outputs": [
    {
     "data": {
      "text/html": [
       "<div>\n",
       "<style scoped>\n",
       "    .dataframe tbody tr th:only-of-type {\n",
       "        vertical-align: middle;\n",
       "    }\n",
       "\n",
       "    .dataframe tbody tr th {\n",
       "        vertical-align: top;\n",
       "    }\n",
       "\n",
       "    .dataframe thead th {\n",
       "        text-align: right;\n",
       "    }\n",
       "</style>\n",
       "<table border=\"1\" class=\"dataframe\">\n",
       "  <thead>\n",
       "    <tr style=\"text-align: right;\">\n",
       "      <th></th>\n",
       "      <th>id</th>\n",
       "      <th>listing_url</th>\n",
       "      <th>scrape_id</th>\n",
       "      <th>last_scraped</th>\n",
       "      <th>name</th>\n",
       "      <th>summary</th>\n",
       "      <th>space</th>\n",
       "      <th>description</th>\n",
       "      <th>neighborhood_overview</th>\n",
       "      <th>notes</th>\n",
       "      <th>transit</th>\n",
       "      <th>access</th>\n",
       "      <th>interaction</th>\n",
       "      <th>house_rules</th>\n",
       "      <th>thumbnail_url</th>\n",
       "      <th>medium_url</th>\n",
       "      <th>picture_url</th>\n",
       "      <th>xl_picture_url</th>\n",
       "      <th>host_id</th>\n",
       "      <th>host_url</th>\n",
       "      <th>host_name</th>\n",
       "      <th>host_since</th>\n",
       "      <th>host_location</th>\n",
       "      <th>host_about</th>\n",
       "      <th>host_response_time</th>\n",
       "      <th>host_response_rate</th>\n",
       "      <th>host_acceptance_rate</th>\n",
       "      <th>host_is_superhost</th>\n",
       "      <th>host_thumbnail_url</th>\n",
       "      <th>host_picture_url</th>\n",
       "      <th>host_neighbourhood</th>\n",
       "      <th>host_listings_count</th>\n",
       "      <th>host_total_listings_count</th>\n",
       "      <th>host_verifications</th>\n",
       "      <th>host_has_profile_pic</th>\n",
       "      <th>host_identity_verified</th>\n",
       "      <th>street</th>\n",
       "      <th>neighbourhood</th>\n",
       "      <th>neighbourhood_cleansed</th>\n",
       "      <th>city</th>\n",
       "      <th>state</th>\n",
       "      <th>zipcode</th>\n",
       "      <th>market</th>\n",
       "      <th>smart_location</th>\n",
       "      <th>country_code</th>\n",
       "      <th>country</th>\n",
       "      <th>latitude</th>\n",
       "      <th>longitude</th>\n",
       "      <th>is_location_exact</th>\n",
       "      <th>property_type</th>\n",
       "      <th>room_type</th>\n",
       "      <th>accommodates</th>\n",
       "      <th>bathrooms</th>\n",
       "      <th>bedrooms</th>\n",
       "      <th>beds</th>\n",
       "      <th>bed_type</th>\n",
       "      <th>amenities</th>\n",
       "      <th>price</th>\n",
       "      <th>weekly_price</th>\n",
       "      <th>monthly_price</th>\n",
       "      <th>security_deposit</th>\n",
       "      <th>cleaning_fee</th>\n",
       "      <th>guests_included</th>\n",
       "      <th>extra_people</th>\n",
       "      <th>minimum_nights</th>\n",
       "      <th>maximum_nights</th>\n",
       "      <th>calendar_updated</th>\n",
       "      <th>availability_30</th>\n",
       "      <th>availability_60</th>\n",
       "      <th>availability_90</th>\n",
       "      <th>availability_365</th>\n",
       "      <th>calendar_last_scraped</th>\n",
       "      <th>number_of_reviews</th>\n",
       "      <th>first_review</th>\n",
       "      <th>last_review</th>\n",
       "      <th>review_scores_rating</th>\n",
       "      <th>review_scores_accuracy</th>\n",
       "      <th>review_scores_cleanliness</th>\n",
       "      <th>review_scores_checkin</th>\n",
       "      <th>review_scores_communication</th>\n",
       "      <th>review_scores_location</th>\n",
       "      <th>review_scores_value</th>\n",
       "      <th>instant_bookable</th>\n",
       "      <th>cancellation_policy</th>\n",
       "      <th>require_guest_profile_picture</th>\n",
       "      <th>require_guest_phone_verification</th>\n",
       "      <th>calculated_host_listings_count</th>\n",
       "      <th>reviews_per_month</th>\n",
       "      <th>listing_id</th>\n",
       "      <th>march</th>\n",
       "      <th>april</th>\n",
       "      <th>may</th>\n",
       "      <th>diff</th>\n",
       "      <th>diff2</th>\n",
       "    </tr>\n",
       "  </thead>\n",
       "  <tbody>\n",
       "    <tr>\n",
       "      <th>557</th>\n",
       "      <td>3401809</td>\n",
       "      <td>https://www.airbnb.com/rooms/3401809</td>\n",
       "      <td>20160906204935</td>\n",
       "      <td>2016-09-07</td>\n",
       "      <td>[1857-1]1BR At Radian Apartments</td>\n",
       "      <td>.</td>\n",
       "      <td>Radian offers fantastic modern apartment homes with fully-equipped kitchens, over-sized windows, sleek modern finishes, Plyboo flooring and much more. Radian has been designed with environmentally responsible materials and systems to achieve LEED certification from the U.S. Green Building Council. With original works of art throughout amenity spaces, luxuriously designed entertainment rooms, an innovative fitness center and personalized services provided by a 24/7 concierge, Radian creates a truly cosmopolitan atmosphere tailored for contemporary living. Also residents can enjoy a convenient location with nearby transportation hubs, making all areas of Boston easily accessible, along with the finest dining, shopping and entertainment. Radian is located close to key transportation hubs, making all areas of Boston and Logan International Airport easily accessible. Nearby South Station offers connections throughout the metropolitan area and the northeast via the T, the Silver Line, Amtrak</td>\n",
       "      <td>. Radian offers fantastic modern apartment homes with fully-equipped kitchens, over-sized windows, sleek modern finishes, Plyboo flooring and much more. Radian has been designed with environmentally responsible materials and systems to achieve LEED certification from the U.S. Green Building Council. With original works of art throughout amenity spaces, luxuriously designed entertainment rooms, an innovative fitness center and personalized services provided by a 24/7 concierge, Radian creates a truly cosmopolitan atmosphere tailored for contemporary living. Also residents can enjoy a convenient location with nearby transportation hubs, making all areas of Boston easily accessible, along with the finest dining, shopping and entertainment. Radian is located close to key transportation hubs, making all areas of Boston and Logan International Airport easily accessible. Nearby South Station offers connections throughout the metropolitan area and the northeast via the T, the Silver Line, Amtr</td>\n",
       "      <td>NaN</td>\n",
       "      <td>NaN</td>\n",
       "      <td>NaN</td>\n",
       "      <td>NaN</td>\n",
       "      <td>NaN</td>\n",
       "      <td>Pets Allowed ( With Fee ) NO Smoking</td>\n",
       "      <td>NaN</td>\n",
       "      <td>NaN</td>\n",
       "      <td>https://a0.muscache.com/im/pictures/90406270/48e4ec41_original.jpg?aki_policy=large</td>\n",
       "      <td>NaN</td>\n",
       "      <td>25188</td>\n",
       "      <td>https://www.airbnb.com/users/show/25188</td>\n",
       "      <td>Seamless</td>\n",
       "      <td>2009-07-10</td>\n",
       "      <td>US</td>\n",
       "      <td>ABOUT US:\\r\\n\\r\\nSeamlessTransition is a full-service relocation agency.  \\r\\n\\r\\nSeamlessTransition offers short-term housing options to executives, medical professionals and leisure travelers looking to secure transitional housing in major cities throughout the United States. \\r\\n\\r\\nWe match an individual's or family's short-term housing needs and preferences with available and compatible housing inventory.\\r\\n\\r\\nOur goal is to find the best short-term accommodations at the best price in the best location to meet your housing needs and preferences.  \\r\\n\\r\\nNo request is too large or too small.  It is our pleasure to serve you.\\r\\n\\r\\nWe are available Monday through Friday, 8:30 AM to 5:00 PM (EST).\\r\\n\\r\\nOur Reservation Center closes at 3PM on Friday and will not reopen until Monday morning at 9AM.\\r\\n\\r\\nWe observe all US Federal Holidays.  Kindly excuse our delay in response.\\r\\n</td>\n",
       "      <td>within a few hours</td>\n",
       "      <td>89%</td>\n",
       "      <td>45%</td>\n",
       "      <td>False</td>\n",
       "      <td>https://a2.muscache.com/im/users/25188/profile_pic/1265272246/original.jpg?aki_policy=profile_small</td>\n",
       "      <td>https://a2.muscache.com/im/users/25188/profile_pic/1265272246/original.jpg?aki_policy=profile_x_medium</td>\n",
       "      <td>Back Bay</td>\n",
       "      <td>558</td>\n",
       "      <td>558</td>\n",
       "      <td>['email', 'phone', 'reviews', 'jumio']</td>\n",
       "      <td>True</td>\n",
       "      <td>True</td>\n",
       "      <td>Kingston Street, Boston, MA 02111, United States</td>\n",
       "      <td>Chinatown</td>\n",
       "      <td>Chinatown</td>\n",
       "      <td>Boston</td>\n",
       "      <td>MA</td>\n",
       "      <td>02111</td>\n",
       "      <td>Boston</td>\n",
       "      <td>Boston, MA</td>\n",
       "      <td>US</td>\n",
       "      <td>United States</td>\n",
       "      <td>42.351982</td>\n",
       "      <td>-71.059609</td>\n",
       "      <td>True</td>\n",
       "      <td>Apartment</td>\n",
       "      <td>Entire home/apt</td>\n",
       "      <td>2</td>\n",
       "      <td>1.0</td>\n",
       "      <td>1.0</td>\n",
       "      <td>1.0</td>\n",
       "      <td>Real Bed</td>\n",
       "      <td>{TV,\"Cable TV\",Internet,\"Wireless Internet\",\"Air Conditioning\",Kitchen,\"Pets Allowed\",Gym,\"Elevator in Building\",Heating,\"Family/Kid Friendly\",Washer,Dryer,Essentials}</td>\n",
       "      <td>$289.00</td>\n",
       "      <td>NaN</td>\n",
       "      <td>$6,900.00</td>\n",
       "      <td>0.0</td>\n",
       "      <td>150.0</td>\n",
       "      <td>1</td>\n",
       "      <td>$0.00</td>\n",
       "      <td>7</td>\n",
       "      <td>365</td>\n",
       "      <td>4 weeks ago</td>\n",
       "      <td>29</td>\n",
       "      <td>59</td>\n",
       "      <td>89</td>\n",
       "      <td>364</td>\n",
       "      <td>2016-09-06</td>\n",
       "      <td>0</td>\n",
       "      <td>NaN</td>\n",
       "      <td>NaN</td>\n",
       "      <td>NaN</td>\n",
       "      <td>NaN</td>\n",
       "      <td>NaN</td>\n",
       "      <td>NaN</td>\n",
       "      <td>NaN</td>\n",
       "      <td>NaN</td>\n",
       "      <td>NaN</td>\n",
       "      <td>f</td>\n",
       "      <td>super_strict_30</td>\n",
       "      <td>f</td>\n",
       "      <td>t</td>\n",
       "      <td>79</td>\n",
       "      <td>NaN</td>\n",
       "      <td>3401809</td>\n",
       "      <td>289.000000</td>\n",
       "      <td>289.000000</td>\n",
       "      <td>289.000000</td>\n",
       "      <td>0.000000</td>\n",
       "      <td>0.000000</td>\n",
       "    </tr>\n",
       "    <tr>\n",
       "      <th>559</th>\n",
       "      <td>2848330</td>\n",
       "      <td>https://www.airbnb.com/rooms/2848330</td>\n",
       "      <td>20160906204935</td>\n",
       "      <td>2016-09-07</td>\n",
       "      <td>New Downtown 2Bedrooms</td>\n",
       "      <td>Situated on the edge of Downtown Boston and 1.2 mile to Convention Center.   10 mins walk to Red Line: South Station/Downtown Crossing , 10 mins walk to Green Line: Boylston/Park Station, 5 mins walk to Orange Line:Tuft Medical Station/Chinatown</td>\n",
       "      <td>We are recently remodeling and everything is all new (furniture, appliances,bathroom, floor). Situated on the edge of Downtown Boston,  there are 2 bedrooms ( 1 queen and 2 twin), living room, kitchen and bathroom. Conveniently located, it is central to all the major MBTA (metro, train) stations. However, you may find it easier to walk everywhere. It is only a couple blocks to the Theater, Leather, Shopping, and Seaport Districts.  Location is prime and can get you to anywhere during your visit in no time! Whether you're here for a conference, on work trips, or just being a tourist. Experience living like a local, and stay in one of the most unique districts Beantown has to offer. If you are looking for a lot of interaction, perhaps we could get a beer if I'm free and you're a beer drinker. Right across the street is Boston's Chinatown, a constantly lively part of the city - There's a 24 hr diner, plenty of restaurants closing near 3 am and several bars and lounges surrounding the area</td>\n",
       "      <td>Situated on the edge of Downtown Boston and 1.2 mile to Convention Center.   10 mins walk to Red Line: South Station/Downtown Crossing , 10 mins walk to Green Line: Boylston/Park Station, 5 mins walk to Orange Line:Tuft Medical Station/Chinatown We are recently remodeling and everything is all new (furniture, appliances,bathroom, floor). Situated on the edge of Downtown Boston,  there are 2 bedrooms ( 1 queen and 2 twin), living room, kitchen and bathroom. Conveniently located, it is central to all the major MBTA (metro, train) stations. However, you may find it easier to walk everywhere. It is only a couple blocks to the Theater, Leather, Shopping, and Seaport Districts.  Location is prime and can get you to anywhere during your visit in no time! Whether you're here for a conference, on work trips, or just being a tourist. Experience living like a local, and stay in one of the most unique districts Beantown has to offer. If you are looking for a lot of interaction, perhaps we could ge</td>\n",
       "      <td>Right across the street is Boston's Chinatown, a constantly lively part of the city - There's a 24 hr diner, plenty of restaurants closing near 3 am and several bars and lounges surrounding the area. There are 'hubway' or bike rentals near the apartment for your leisurely traveling needs.</td>\n",
       "      <td>Please feel free to contact me with any issues. I'm very easy going and friendly!</td>\n",
       "      <td>Situated on the edge of Downtown Boston and 1.2 mile to Convention Center.   Conveniently located, it is central to all the major MBTA (metro, train) stations. However, you may find it easier to walk everywhere. It is only a couple blocks locks to the Theater, Leather, Shopping, and Seaport Districts. 10 mins walk to Red Line: South Station / Downtown Crossing , 10 mins walk to Green Line: Boylston / Park Station, 5 mins walk to Orange Line:Tuft Medical Station/Chinatown</td>\n",
       "      <td>Location is prime and can get you to anywhere during your visit in no time! Whether you're here for a conference, on work trips, or just being a tourist. Experience living like a local, and stay in one of the most unique districts Beantown has to offer.</td>\n",
       "      <td>If you are looking for a lot of interaction, perhaps we could get a beer if I'm free and you're a beer drinker.</td>\n",
       "      <td>Please plan to check in after 4 PM and check out before 11 AM.  No Smoking, No pets Please No parties and quiet hours after 9 pm Clean dishes   We are not responsible for your belongings. Thank You!</td>\n",
       "      <td>https://a1.muscache.com/im/pictures/50652320/a87c966e_original.jpg?aki_policy=small</td>\n",
       "      <td>https://a1.muscache.com/im/pictures/50652320/a87c966e_original.jpg?aki_policy=medium</td>\n",
       "      <td>https://a1.muscache.com/im/pictures/50652320/a87c966e_original.jpg?aki_policy=large</td>\n",
       "      <td>https://a1.muscache.com/im/pictures/50652320/a87c966e_original.jpg?aki_policy=x_large</td>\n",
       "      <td>3011415</td>\n",
       "      <td>https://www.airbnb.com/users/show/3011415</td>\n",
       "      <td>Stanley And Sue</td>\n",
       "      <td>2012-07-21</td>\n",
       "      <td>Boston, Massachusetts, United States</td>\n",
       "      <td>Hi, I'm a young professional working between Boston and California. I am usually traveling so my living area largely goes unused. I love food, fitness, and staying healthy. I frequently take runs along the Charles.  Regardless, I welcome you to experience this wonderful city,  is an incredible neighborhood, a perfect blend of historic and modern ambiance.</td>\n",
       "      <td>within an hour</td>\n",
       "      <td>100%</td>\n",
       "      <td>97%</td>\n",
       "      <td>False</td>\n",
       "      <td>https://a1.muscache.com/im/users/3011415/profile_pic/1353731060/original.jpg?aki_policy=profile_small</td>\n",
       "      <td>https://a1.muscache.com/im/users/3011415/profile_pic/1353731060/original.jpg?aki_policy=profile_x_medium</td>\n",
       "      <td>Cambridge</td>\n",
       "      <td>13</td>\n",
       "      <td>13</td>\n",
       "      <td>['email', 'phone', 'facebook', 'reviews', 'kba']</td>\n",
       "      <td>True</td>\n",
       "      <td>True</td>\n",
       "      <td>Harvard Street, Boston, MA 02111, United States</td>\n",
       "      <td>Chinatown</td>\n",
       "      <td>Chinatown</td>\n",
       "      <td>Boston</td>\n",
       "      <td>MA</td>\n",
       "      <td>02111</td>\n",
       "      <td>Boston</td>\n",
       "      <td>Boston, MA</td>\n",
       "      <td>US</td>\n",
       "      <td>United States</td>\n",
       "      <td>42.348676</td>\n",
       "      <td>-71.061243</td>\n",
       "      <td>True</td>\n",
       "      <td>Apartment</td>\n",
       "      <td>Entire home/apt</td>\n",
       "      <td>4</td>\n",
       "      <td>1.0</td>\n",
       "      <td>2.0</td>\n",
       "      <td>3.0</td>\n",
       "      <td>Real Bed</td>\n",
       "      <td>{TV,\"Cable TV\",Internet,\"Wireless Internet\",\"Air Conditioning\",Kitchen,Heating,\"Smoke Detector\",\"Carbon Monoxide Detector\",Essentials,Shampoo,\"24-Hour Check-in\",Hangers,\"Hair Dryer\",Iron,\"Laptop Friendly Workspace\"}</td>\n",
       "      <td>$295.00</td>\n",
       "      <td>NaN</td>\n",
       "      <td>NaN</td>\n",
       "      <td>300.0</td>\n",
       "      <td>60.0</td>\n",
       "      <td>3</td>\n",
       "      <td>$30.00</td>\n",
       "      <td>3</td>\n",
       "      <td>90</td>\n",
       "      <td>4 days ago</td>\n",
       "      <td>17</td>\n",
       "      <td>38</td>\n",
       "      <td>62</td>\n",
       "      <td>337</td>\n",
       "      <td>2016-09-06</td>\n",
       "      <td>33</td>\n",
       "      <td>2014-09-11</td>\n",
       "      <td>2016-08-17</td>\n",
       "      <td>86.0</td>\n",
       "      <td>9.0</td>\n",
       "      <td>9.0</td>\n",
       "      <td>9.0</td>\n",
       "      <td>9.0</td>\n",
       "      <td>8.0</td>\n",
       "      <td>8.0</td>\n",
       "      <td>f</td>\n",
       "      <td>strict</td>\n",
       "      <td>f</td>\n",
       "      <td>t</td>\n",
       "      <td>5</td>\n",
       "      <td>1.36</td>\n",
       "      <td>2848330</td>\n",
       "      <td>261.129028</td>\n",
       "      <td>309.000000</td>\n",
       "      <td>295.000000</td>\n",
       "      <td>-47.870972</td>\n",
       "      <td>14.000000</td>\n",
       "    </tr>\n",
       "    <tr>\n",
       "      <th>561</th>\n",
       "      <td>2848370</td>\n",
       "      <td>https://www.airbnb.com/rooms/2848370</td>\n",
       "      <td>20160906204935</td>\n",
       "      <td>2016-09-07</td>\n",
       "      <td>New 1 BD Downtown ( B )</td>\n",
       "      <td>Situated on the edge of Downtown Boston and 1.2 mile to Convention Center.   10 mins walk to Red Line: South Station/Downtown Crossing , 10 mins walk to Green Line: Boylston/Park Station, 5 mins walk to Orange Line:Tuft Medical Station/Chinatown</td>\n",
       "      <td>Situated on the edge of Downtown Boston, this is a walk out basement.  Each floor is separated. 1 bedroom with a queen (11\" memory foam mattress) , bathroom, living room (with a sofa bed).   No Kitchen but bar counter with sink, microwave, coffee maker, toaster and mini refrigerator.   Max accommodation is 3  people. Conveniently located, it is central to all the major MBTA (metro, train) stations. However, you may find it easier to walk everywhere. It is only a couple blocks locks to the Theater, Leather, Shopping, and Seaport Districts.</td>\n",
       "      <td>Situated on the edge of Downtown Boston and 1.2 mile to Convention Center.   10 mins walk to Red Line: South Station/Downtown Crossing , 10 mins walk to Green Line: Boylston/Park Station, 5 mins walk to Orange Line:Tuft Medical Station/Chinatown Situated on the edge of Downtown Boston, this is a walk out basement.  Each floor is separated. 1 bedroom with a queen (11\" memory foam mattress) , bathroom, living room (with a sofa bed).   No Kitchen but bar counter with sink, microwave, coffee maker, toaster and mini refrigerator.   Max accommodation is 3  people. Conveniently located, it is central to all the major MBTA (metro, train) stations. However, you may find it easier to walk everywhere. It is only a couple blocks locks to the Theater, Leather, Shopping, and Seaport Districts. Location is prime and can get you to anywhere during your visit in no time! Whether you're here for a conference, on work trips, or just being a tourist. Experience living like a local, and stay in one of the</td>\n",
       "      <td>Right across the street is Boston's Chinatown, a constantly lively part of the city - There's a 24 hr diner, plenty of restaurants closing near 3 am and several bars and lounges surrounding the area. There are 'hubway' or bike rentals near the apartment for your leisurely traveling needs.</td>\n",
       "      <td>Please feel free to contact me with any issues. I'm very easy going and friendly!</td>\n",
       "      <td>Situated on the edge of Downtown Boston and 1.2 mile to Convention Center.   Conveniently located, it is central to all the major MBTA (metro, train) stations. However, you may find it easier to walk everywhere. It is only a couple blocks locks to the Theater, Leather, Shopping, and Seaport Districts. 10 mins walk to Red Line: South Station / Downtown Crossing , 10 mins walk to Green Line: Boylston / Park Station, 5 mins walk to Orange Line:Tuft Medical Station/Chinatown</td>\n",
       "      <td>Location is prime and can get you to anywhere during your visit in no time! Whether you're here for a conference, on work trips, or just being a tourist. Experience living like a local, and stay in one of the most unique districts Beantown has to offer.</td>\n",
       "      <td>If you are looking for a lot of interaction, perhaps we could get a beer if I'm free and you're a beer drinker.</td>\n",
       "      <td>Please plan to check in after 4 PM and check out before 11AM.  No Smoking, No pets Please No parties and quiet hours after 9 pm Clean dishes   We are not responsible for your belongings. Thank You!</td>\n",
       "      <td>https://a2.muscache.com/im/pictures/52016371/aa26945a_original.jpg?aki_policy=small</td>\n",
       "      <td>https://a2.muscache.com/im/pictures/52016371/aa26945a_original.jpg?aki_policy=medium</td>\n",
       "      <td>https://a2.muscache.com/im/pictures/52016371/aa26945a_original.jpg?aki_policy=large</td>\n",
       "      <td>https://a2.muscache.com/im/pictures/52016371/aa26945a_original.jpg?aki_policy=x_large</td>\n",
       "      <td>3011415</td>\n",
       "      <td>https://www.airbnb.com/users/show/3011415</td>\n",
       "      <td>Stanley And Sue</td>\n",
       "      <td>2012-07-21</td>\n",
       "      <td>Boston, Massachusetts, United States</td>\n",
       "      <td>Hi, I'm a young professional working between Boston and California. I am usually traveling so my living area largely goes unused. I love food, fitness, and staying healthy. I frequently take runs along the Charles.  Regardless, I welcome you to experience this wonderful city,  is an incredible neighborhood, a perfect blend of historic and modern ambiance.</td>\n",
       "      <td>within an hour</td>\n",
       "      <td>100%</td>\n",
       "      <td>97%</td>\n",
       "      <td>False</td>\n",
       "      <td>https://a1.muscache.com/im/users/3011415/profile_pic/1353731060/original.jpg?aki_policy=profile_small</td>\n",
       "      <td>https://a1.muscache.com/im/users/3011415/profile_pic/1353731060/original.jpg?aki_policy=profile_x_medium</td>\n",
       "      <td>Cambridge</td>\n",
       "      <td>13</td>\n",
       "      <td>13</td>\n",
       "      <td>['email', 'phone', 'facebook', 'reviews', 'kba']</td>\n",
       "      <td>True</td>\n",
       "      <td>True</td>\n",
       "      <td>Harvard Street, Boston, MA 02111, United States</td>\n",
       "      <td>Chinatown</td>\n",
       "      <td>Chinatown</td>\n",
       "      <td>Boston</td>\n",
       "      <td>MA</td>\n",
       "      <td>02111</td>\n",
       "      <td>Boston</td>\n",
       "      <td>Boston, MA</td>\n",
       "      <td>US</td>\n",
       "      <td>United States</td>\n",
       "      <td>42.348988</td>\n",
       "      <td>-71.060493</td>\n",
       "      <td>True</td>\n",
       "      <td>Apartment</td>\n",
       "      <td>Entire home/apt</td>\n",
       "      <td>3</td>\n",
       "      <td>1.0</td>\n",
       "      <td>1.0</td>\n",
       "      <td>1.0</td>\n",
       "      <td>Real Bed</td>\n",
       "      <td>{TV,\"Cable TV\",Internet,\"Wireless Internet\",\"Air Conditioning\",Heating,\"Family/Kid Friendly\",\"Smoke Detector\",\"Carbon Monoxide Detector\",Essentials,Shampoo,\"24-Hour Check-in\",Hangers,\"Hair Dryer\",Iron,\"Laptop Friendly Workspace\"}</td>\n",
       "      <td>$185.00</td>\n",
       "      <td>NaN</td>\n",
       "      <td>NaN</td>\n",
       "      <td>200.0</td>\n",
       "      <td>60.0</td>\n",
       "      <td>1</td>\n",
       "      <td>$25.00</td>\n",
       "      <td>3</td>\n",
       "      <td>1125</td>\n",
       "      <td>4 days ago</td>\n",
       "      <td>15</td>\n",
       "      <td>41</td>\n",
       "      <td>71</td>\n",
       "      <td>346</td>\n",
       "      <td>2016-09-06</td>\n",
       "      <td>36</td>\n",
       "      <td>2014-10-03</td>\n",
       "      <td>2016-08-11</td>\n",
       "      <td>91.0</td>\n",
       "      <td>9.0</td>\n",
       "      <td>10.0</td>\n",
       "      <td>9.0</td>\n",
       "      <td>9.0</td>\n",
       "      <td>9.0</td>\n",
       "      <td>9.0</td>\n",
       "      <td>f</td>\n",
       "      <td>strict</td>\n",
       "      <td>f</td>\n",
       "      <td>t</td>\n",
       "      <td>5</td>\n",
       "      <td>1.53</td>\n",
       "      <td>2848370</td>\n",
       "      <td>185.000000</td>\n",
       "      <td>193.666672</td>\n",
       "      <td>180.000000</td>\n",
       "      <td>-8.666672</td>\n",
       "      <td>13.666672</td>\n",
       "    </tr>\n",
       "    <tr>\n",
       "      <th>563</th>\n",
       "      <td>7630346</td>\n",
       "      <td>https://www.airbnb.com/rooms/7630346</td>\n",
       "      <td>20160906204935</td>\n",
       "      <td>2016-09-07</td>\n",
       "      <td>Downtown Back Bay Studio W/Parking</td>\n",
       "      <td>Our amazing condo is super quiet and close to everything Boston has to offer. Just blocks from Boston Commons and a friendly vibrant neighborhood. Fun by day and safe at night, with world class eateries, nightlife &amp; all subway lines just steps away.</td>\n",
       "      <td>We have a unique space in the downtown there district. It features am incredible chefs kitchen, optional $30 per night parking, in and out access, use car as needed (based on availability) and a private entrance. It's close to some Major Nightlife including many fine dinning restaurants and several area nightclubs, as well as a 19 screen cinemaplex movie theater. The train (T) is just 3 blocks away.  You are just minutes away from:  * Northeastern University, Berklee College, Wentworth University, MassArt, New England Conservatory, Boston Conservatory, Simmons College, Emmanuel College, and Harvard Medical School  * Brigham &amp; Women’s Hospital, Beth Israel Deaconess Hospital &amp; Children’s Hospital as well as Boston Medical center * Hynes Convention Center  * Easy access to the T Green, Orange and Red lines  * Whole Foods Supermarket just around the corner * Prudential/Copley Malls  * Copley Square  * South End  * Symphony Hall  * Fenway Park  * Museum of Fine Arts  * Newbury Street. – Ou</td>\n",
       "      <td>Our amazing condo is super quiet and close to everything Boston has to offer. Just blocks from Boston Commons and a friendly vibrant neighborhood. Fun by day and safe at night, with world class eateries, nightlife &amp; all subway lines just steps away. We have a unique space in the downtown there district. It features am incredible chefs kitchen, optional $30 per night parking, in and out access, use car as needed (based on availability) and a private entrance. It's close to some Major Nightlife including many fine dinning restaurants and several area nightclubs, as well as a 19 screen cinemaplex movie theater. The train (T) is just 3 blocks away.  You are just minutes away from:  * Northeastern University, Berklee College, Wentworth University, MassArt, New England Conservatory, Boston Conservatory, Simmons College, Emmanuel College, and Harvard Medical School  * Brigham &amp; Women’s Hospital, Beth Israel Deaconess Hospital &amp; Children’s Hospital as well as Boston Medical center * Hynes Conv</td>\n",
       "      <td>NaN</td>\n",
       "      <td>NaN</td>\n",
       "      <td>NaN</td>\n",
       "      <td>NaN</td>\n",
       "      <td>NaN</td>\n",
       "      <td>Overall please treat the apartment as you would you own home, Keeping it as clean and tidy as you found it.  Please clean up before checking out. Any major clean-up service required may be deducted from the deposit.  No Loud / Large Parties .  Please include the number of people who will be staying before you reserve this apartment. No extra guests other than the maximum 4 allowed who booked  All smoking should be done outside, as this is a smoke free environment.</td>\n",
       "      <td>https://a0.muscache.com/im/pictures/96873201/008f0918_original.jpg?aki_policy=small</td>\n",
       "      <td>https://a0.muscache.com/im/pictures/96873201/008f0918_original.jpg?aki_policy=medium</td>\n",
       "      <td>https://a0.muscache.com/im/pictures/96873201/008f0918_original.jpg?aki_policy=large</td>\n",
       "      <td>https://a0.muscache.com/im/pictures/96873201/008f0918_original.jpg?aki_policy=x_large</td>\n",
       "      <td>5618949</td>\n",
       "      <td>https://www.airbnb.com/users/show/5618949</td>\n",
       "      <td>Alan</td>\n",
       "      <td>2013-03-25</td>\n",
       "      <td>Boston, Massachusetts, United States</td>\n",
       "      <td>Edward &amp; Alan \\r\\nWe are fun loving, very honest &amp; hard working.\\r\\nLove the arts, movies, plays as well as sporting events, but above all love to travel.\\r\\nFamily time is most important, and as your host, consider yourself, part of our family.\\r\\nThey say treat people as you would like to be treated, and \"royalty\" is what sums that up.\\r\\nWe look forward to your stay, and seeing you here in Boston!\\r\\n\\r\\n- Edward &amp; Alan\\r\\n</td>\n",
       "      <td>within an hour</td>\n",
       "      <td>100%</td>\n",
       "      <td>94%</td>\n",
       "      <td>False</td>\n",
       "      <td>https://a2.muscache.com/im/pictures/0033c898-63f3-4605-a6f8-e4e5512a46a2.jpg?aki_policy=profile_small</td>\n",
       "      <td>https://a2.muscache.com/im/pictures/0033c898-63f3-4605-a6f8-e4e5512a46a2.jpg?aki_policy=profile_x_medium</td>\n",
       "      <td>Fenway/Kenmore</td>\n",
       "      <td>11</td>\n",
       "      <td>11</td>\n",
       "      <td>['email', 'phone', 'reviews']</td>\n",
       "      <td>True</td>\n",
       "      <td>False</td>\n",
       "      <td>Oak Street, Boston, MA 02111, United States</td>\n",
       "      <td>Chinatown</td>\n",
       "      <td>Chinatown</td>\n",
       "      <td>Boston</td>\n",
       "      <td>MA</td>\n",
       "      <td>02111</td>\n",
       "      <td>Boston</td>\n",
       "      <td>Boston, MA</td>\n",
       "      <td>US</td>\n",
       "      <td>United States</td>\n",
       "      <td>42.348840</td>\n",
       "      <td>-71.063839</td>\n",
       "      <td>True</td>\n",
       "      <td>Apartment</td>\n",
       "      <td>Entire home/apt</td>\n",
       "      <td>4</td>\n",
       "      <td>1.0</td>\n",
       "      <td>0.0</td>\n",
       "      <td>2.0</td>\n",
       "      <td>Real Bed</td>\n",
       "      <td>{TV,\"Cable TV\",Internet,\"Wireless Internet\",\"Air Conditioning\",Kitchen,Heating,\"Family/Kid Friendly\",\"Smoke Detector\",\"Carbon Monoxide Detector\",Essentials,Shampoo}</td>\n",
       "      <td>$109.00</td>\n",
       "      <td>NaN</td>\n",
       "      <td>NaN</td>\n",
       "      <td>100.0</td>\n",
       "      <td>40.0</td>\n",
       "      <td>2</td>\n",
       "      <td>$25.00</td>\n",
       "      <td>1</td>\n",
       "      <td>1125</td>\n",
       "      <td>2 months ago</td>\n",
       "      <td>5</td>\n",
       "      <td>16</td>\n",
       "      <td>46</td>\n",
       "      <td>309</td>\n",
       "      <td>2016-09-06</td>\n",
       "      <td>58</td>\n",
       "      <td>2015-08-23</td>\n",
       "      <td>2016-08-22</td>\n",
       "      <td>88.0</td>\n",
       "      <td>9.0</td>\n",
       "      <td>9.0</td>\n",
       "      <td>9.0</td>\n",
       "      <td>10.0</td>\n",
       "      <td>9.0</td>\n",
       "      <td>9.0</td>\n",
       "      <td>f</td>\n",
       "      <td>strict</td>\n",
       "      <td>f</td>\n",
       "      <td>f</td>\n",
       "      <td>11</td>\n",
       "      <td>4.55</td>\n",
       "      <td>7630346</td>\n",
       "      <td>109.000000</td>\n",
       "      <td>133.866669</td>\n",
       "      <td>94.935486</td>\n",
       "      <td>-24.866669</td>\n",
       "      <td>38.931183</td>\n",
       "    </tr>\n",
       "    <tr>\n",
       "      <th>564</th>\n",
       "      <td>2848362</td>\n",
       "      <td>https://www.airbnb.com/rooms/2848362</td>\n",
       "      <td>20160906204935</td>\n",
       "      <td>2016-09-07</td>\n",
       "      <td>2BR Downtown Boston</td>\n",
       "      <td>Situated on the edge of Downtown Boston and 1.2 mile to Convention Center.   10 mins walk to Red Line: South Station/Downtown Crossing , 10 mins walk to Green Line: Boylston/Park Station, 5 mins walk to Orange Line:Tuft Medical Station/Chinatown</td>\n",
       "      <td>We are recently remodeling and everything is all new (furniture, appliances,bathroom, floor). Situated on the edge of Downtown Boston, this is a luxurious 3 story apartment. Each floor is separated. 1 bedroom with a queen  (11\" memory foam mattress),  and other bedroom with two twins, 1 bathroom, full kitchen and living room. Max accommodation is 4 people. Conveniently located, it is central to all the major MBTA (metro, train) stations. However, you may find it easier to walk everywhere. It is only a couple blocks locks to the Theater, Leather, Shopping, and Seaport Districts.</td>\n",
       "      <td>Situated on the edge of Downtown Boston and 1.2 mile to Convention Center.   10 mins walk to Red Line: South Station/Downtown Crossing , 10 mins walk to Green Line: Boylston/Park Station, 5 mins walk to Orange Line:Tuft Medical Station/Chinatown We are recently remodeling and everything is all new (furniture, appliances,bathroom, floor). Situated on the edge of Downtown Boston, this is a luxurious 3 story apartment. Each floor is separated. 1 bedroom with a queen  (11\" memory foam mattress),  and other bedroom with two twins, 1 bathroom, full kitchen and living room. Max accommodation is 4 people. Conveniently located, it is central to all the major MBTA (metro, train) stations. However, you may find it easier to walk everywhere. It is only a couple blocks locks to the Theater, Leather, Shopping, and Seaport Districts. Location is prime and can get you to anywhere during your visit in no time! Whether you're here for a conference, on work trips, or just being a tourist. Experience livi</td>\n",
       "      <td>Right across the street is Boston's Chinatown, a constantly lively part of the city - There's a 24 hr diner, plenty of restaurants closing near 3 am and several bars and lounges surrounding the area. There are 'hubway' or bike rentals near the apartment for your leisurely traveling needs.</td>\n",
       "      <td>Please feel free to contact me with any issues. I'm very easy going and friendly!</td>\n",
       "      <td>Situated on the edge of Downtown Boston and 1.2 mile to Convention Center.   Conveniently located, it is central to all the major MBTA (metro, train) stations. However, you may find it easier to walk everywhere. It is only a couple blocks locks to the Theater, Leather, Shopping, and Seaport Districts. 10 mins walk to Red Line: South Station / Downtown Crossing , 10 mins walk to Green Line: Boylston / Park Station, 5 mins walk to Orange Line:Tuft Medical Station/Chinatown</td>\n",
       "      <td>Location is prime and can get you to anywhere during your visit in no time! Whether you're here for a conference, on work trips, or just being a tourist. Experience living like a local, and stay in one of the most unique districts Beantown has to offer.</td>\n",
       "      <td>NaN</td>\n",
       "      <td>Please plan to check in after 4 PM and check out before 11AM.  No Smoking, No pets Please No parties and quiet hours after 9 pm Clean dishes   We are not responsible for your belongings. Thank You!</td>\n",
       "      <td>https://a0.muscache.com/im/pictures/50710656/94df93df_original.jpg?aki_policy=small</td>\n",
       "      <td>https://a0.muscache.com/im/pictures/50710656/94df93df_original.jpg?aki_policy=medium</td>\n",
       "      <td>https://a0.muscache.com/im/pictures/50710656/94df93df_original.jpg?aki_policy=large</td>\n",
       "      <td>https://a0.muscache.com/im/pictures/50710656/94df93df_original.jpg?aki_policy=x_large</td>\n",
       "      <td>3011415</td>\n",
       "      <td>https://www.airbnb.com/users/show/3011415</td>\n",
       "      <td>Stanley And Sue</td>\n",
       "      <td>2012-07-21</td>\n",
       "      <td>Boston, Massachusetts, United States</td>\n",
       "      <td>Hi, I'm a young professional working between Boston and California. I am usually traveling so my living area largely goes unused. I love food, fitness, and staying healthy. I frequently take runs along the Charles.  Regardless, I welcome you to experience this wonderful city,  is an incredible neighborhood, a perfect blend of historic and modern ambiance.</td>\n",
       "      <td>within an hour</td>\n",
       "      <td>100%</td>\n",
       "      <td>97%</td>\n",
       "      <td>False</td>\n",
       "      <td>https://a1.muscache.com/im/users/3011415/profile_pic/1353731060/original.jpg?aki_policy=profile_small</td>\n",
       "      <td>https://a1.muscache.com/im/users/3011415/profile_pic/1353731060/original.jpg?aki_policy=profile_x_medium</td>\n",
       "      <td>Cambridge</td>\n",
       "      <td>13</td>\n",
       "      <td>13</td>\n",
       "      <td>['email', 'phone', 'facebook', 'reviews', 'kba']</td>\n",
       "      <td>True</td>\n",
       "      <td>True</td>\n",
       "      <td>Harvard Street, Boston, MA 02111, United States</td>\n",
       "      <td>Chinatown</td>\n",
       "      <td>Chinatown</td>\n",
       "      <td>Boston</td>\n",
       "      <td>MA</td>\n",
       "      <td>02111</td>\n",
       "      <td>Boston</td>\n",
       "      <td>Boston, MA</td>\n",
       "      <td>US</td>\n",
       "      <td>United States</td>\n",
       "      <td>42.348165</td>\n",
       "      <td>-71.059744</td>\n",
       "      <td>True</td>\n",
       "      <td>Apartment</td>\n",
       "      <td>Entire home/apt</td>\n",
       "      <td>4</td>\n",
       "      <td>1.0</td>\n",
       "      <td>2.0</td>\n",
       "      <td>3.0</td>\n",
       "      <td>Real Bed</td>\n",
       "      <td>{TV,\"Cable TV\",Internet,\"Wireless Internet\",\"Air Conditioning\",Kitchen,Heating,\"Smoke Detector\",\"Carbon Monoxide Detector\",Essentials,Shampoo,\"24-Hour Check-in\",Hangers,\"Hair Dryer\",Iron,\"Laptop Friendly Workspace\"}</td>\n",
       "      <td>$295.00</td>\n",
       "      <td>NaN</td>\n",
       "      <td>NaN</td>\n",
       "      <td>300.0</td>\n",
       "      <td>60.0</td>\n",
       "      <td>3</td>\n",
       "      <td>$25.00</td>\n",
       "      <td>3</td>\n",
       "      <td>1125</td>\n",
       "      <td>4 days ago</td>\n",
       "      <td>12</td>\n",
       "      <td>29</td>\n",
       "      <td>59</td>\n",
       "      <td>334</td>\n",
       "      <td>2016-09-06</td>\n",
       "      <td>30</td>\n",
       "      <td>2014-09-18</td>\n",
       "      <td>2016-08-14</td>\n",
       "      <td>85.0</td>\n",
       "      <td>9.0</td>\n",
       "      <td>10.0</td>\n",
       "      <td>9.0</td>\n",
       "      <td>9.0</td>\n",
       "      <td>9.0</td>\n",
       "      <td>8.0</td>\n",
       "      <td>f</td>\n",
       "      <td>strict</td>\n",
       "      <td>f</td>\n",
       "      <td>t</td>\n",
       "      <td>5</td>\n",
       "      <td>1.25</td>\n",
       "      <td>2848362</td>\n",
       "      <td>295.000000</td>\n",
       "      <td>312.500000</td>\n",
       "      <td>295.000000</td>\n",
       "      <td>-17.500000</td>\n",
       "      <td>17.500000</td>\n",
       "    </tr>\n",
       "  </tbody>\n",
       "</table>\n",
       "</div>"
      ],
      "text/plain": [
       "          id                           listing_url       scrape_id  \\\n",
       "557  3401809  https://www.airbnb.com/rooms/3401809  20160906204935   \n",
       "559  2848330  https://www.airbnb.com/rooms/2848330  20160906204935   \n",
       "561  2848370  https://www.airbnb.com/rooms/2848370  20160906204935   \n",
       "563  7630346  https://www.airbnb.com/rooms/7630346  20160906204935   \n",
       "564  2848362  https://www.airbnb.com/rooms/2848362  20160906204935   \n",
       "\n",
       "    last_scraped                                name  \\\n",
       "557   2016-09-07    [1857-1]1BR At Radian Apartments   \n",
       "559   2016-09-07              New Downtown 2Bedrooms   \n",
       "561   2016-09-07             New 1 BD Downtown ( B )   \n",
       "563   2016-09-07  Downtown Back Bay Studio W/Parking   \n",
       "564   2016-09-07                 2BR Downtown Boston   \n",
       "\n",
       "                                                                                                                                                                                                                                                       summary  \\\n",
       "557                                                                                                                                                                                                                                                          .   \n",
       "559      Situated on the edge of Downtown Boston and 1.2 mile to Convention Center.   10 mins walk to Red Line: South Station/Downtown Crossing , 10 mins walk to Green Line: Boylston/Park Station, 5 mins walk to Orange Line:Tuft Medical Station/Chinatown   \n",
       "561      Situated on the edge of Downtown Boston and 1.2 mile to Convention Center.   10 mins walk to Red Line: South Station/Downtown Crossing , 10 mins walk to Green Line: Boylston/Park Station, 5 mins walk to Orange Line:Tuft Medical Station/Chinatown   \n",
       "563  Our amazing condo is super quiet and close to everything Boston has to offer. Just blocks from Boston Commons and a friendly vibrant neighborhood. Fun by day and safe at night, with world class eateries, nightlife & all subway lines just steps away.   \n",
       "564      Situated on the edge of Downtown Boston and 1.2 mile to Convention Center.   10 mins walk to Red Line: South Station/Downtown Crossing , 10 mins walk to Green Line: Boylston/Park Station, 5 mins walk to Orange Line:Tuft Medical Station/Chinatown   \n",
       "\n",
       "                                                                                                                                                                                                                                                                                                                                                                                                                                                                                                                                                                                                                                                                                                                                                                                                                                                                                                                                                                                                                                        space  \\\n",
       "557  Radian offers fantastic modern apartment homes with fully-equipped kitchens, over-sized windows, sleek modern finishes, Plyboo flooring and much more. Radian has been designed with environmentally responsible materials and systems to achieve LEED certification from the U.S. Green Building Council. With original works of art throughout amenity spaces, luxuriously designed entertainment rooms, an innovative fitness center and personalized services provided by a 24/7 concierge, Radian creates a truly cosmopolitan atmosphere tailored for contemporary living. Also residents can enjoy a convenient location with nearby transportation hubs, making all areas of Boston easily accessible, along with the finest dining, shopping and entertainment. Radian is located close to key transportation hubs, making all areas of Boston and Logan International Airport easily accessible. Nearby South Station offers connections throughout the metropolitan area and the northeast via the T, the Silver Line, Amtrak   \n",
       "559  We are recently remodeling and everything is all new (furniture, appliances,bathroom, floor). Situated on the edge of Downtown Boston,  there are 2 bedrooms ( 1 queen and 2 twin), living room, kitchen and bathroom. Conveniently located, it is central to all the major MBTA (metro, train) stations. However, you may find it easier to walk everywhere. It is only a couple blocks to the Theater, Leather, Shopping, and Seaport Districts.  Location is prime and can get you to anywhere during your visit in no time! Whether you're here for a conference, on work trips, or just being a tourist. Experience living like a local, and stay in one of the most unique districts Beantown has to offer. If you are looking for a lot of interaction, perhaps we could get a beer if I'm free and you're a beer drinker. Right across the street is Boston's Chinatown, a constantly lively part of the city - There's a 24 hr diner, plenty of restaurants closing near 3 am and several bars and lounges surrounding the area   \n",
       "561                                                                                                                                                                                                                                                                                                                                                                                                                                                                          Situated on the edge of Downtown Boston, this is a walk out basement.  Each floor is separated. 1 bedroom with a queen (11\" memory foam mattress) , bathroom, living room (with a sofa bed).   No Kitchen but bar counter with sink, microwave, coffee maker, toaster and mini refrigerator.   Max accommodation is 3  people. Conveniently located, it is central to all the major MBTA (metro, train) stations. However, you may find it easier to walk everywhere. It is only a couple blocks locks to the Theater, Leather, Shopping, and Seaport Districts.   \n",
       "563  We have a unique space in the downtown there district. It features am incredible chefs kitchen, optional $30 per night parking, in and out access, use car as needed (based on availability) and a private entrance. It's close to some Major Nightlife including many fine dinning restaurants and several area nightclubs, as well as a 19 screen cinemaplex movie theater. The train (T) is just 3 blocks away.  You are just minutes away from:  * Northeastern University, Berklee College, Wentworth University, MassArt, New England Conservatory, Boston Conservatory, Simmons College, Emmanuel College, and Harvard Medical School  * Brigham & Women’s Hospital, Beth Israel Deaconess Hospital & Children’s Hospital as well as Boston Medical center * Hynes Convention Center  * Easy access to the T Green, Orange and Red lines  * Whole Foods Supermarket just around the corner * Prudential/Copley Malls  * Copley Square  * South End  * Symphony Hall  * Fenway Park  * Museum of Fine Arts  * Newbury Street. – Ou   \n",
       "564                                                                                                                                                                                                                                                                                                                                                                                                                                  We are recently remodeling and everything is all new (furniture, appliances,bathroom, floor). Situated on the edge of Downtown Boston, this is a luxurious 3 story apartment. Each floor is separated. 1 bedroom with a queen  (11\" memory foam mattress),  and other bedroom with two twins, 1 bathroom, full kitchen and living room. Max accommodation is 4 people. Conveniently located, it is central to all the major MBTA (metro, train) stations. However, you may find it easier to walk everywhere. It is only a couple blocks locks to the Theater, Leather, Shopping, and Seaport Districts.   \n",
       "\n",
       "                                                                                                                                                                                                                                                                                                                                                                                                                                                                                                                                                                                                                                                                                                                                                                                                                                                                                                                                                                                                                                  description  \\\n",
       "557  . Radian offers fantastic modern apartment homes with fully-equipped kitchens, over-sized windows, sleek modern finishes, Plyboo flooring and much more. Radian has been designed with environmentally responsible materials and systems to achieve LEED certification from the U.S. Green Building Council. With original works of art throughout amenity spaces, luxuriously designed entertainment rooms, an innovative fitness center and personalized services provided by a 24/7 concierge, Radian creates a truly cosmopolitan atmosphere tailored for contemporary living. Also residents can enjoy a convenient location with nearby transportation hubs, making all areas of Boston easily accessible, along with the finest dining, shopping and entertainment. Radian is located close to key transportation hubs, making all areas of Boston and Logan International Airport easily accessible. Nearby South Station offers connections throughout the metropolitan area and the northeast via the T, the Silver Line, Amtr   \n",
       "559  Situated on the edge of Downtown Boston and 1.2 mile to Convention Center.   10 mins walk to Red Line: South Station/Downtown Crossing , 10 mins walk to Green Line: Boylston/Park Station, 5 mins walk to Orange Line:Tuft Medical Station/Chinatown We are recently remodeling and everything is all new (furniture, appliances,bathroom, floor). Situated on the edge of Downtown Boston,  there are 2 bedrooms ( 1 queen and 2 twin), living room, kitchen and bathroom. Conveniently located, it is central to all the major MBTA (metro, train) stations. However, you may find it easier to walk everywhere. It is only a couple blocks to the Theater, Leather, Shopping, and Seaport Districts.  Location is prime and can get you to anywhere during your visit in no time! Whether you're here for a conference, on work trips, or just being a tourist. Experience living like a local, and stay in one of the most unique districts Beantown has to offer. If you are looking for a lot of interaction, perhaps we could ge   \n",
       "561  Situated on the edge of Downtown Boston and 1.2 mile to Convention Center.   10 mins walk to Red Line: South Station/Downtown Crossing , 10 mins walk to Green Line: Boylston/Park Station, 5 mins walk to Orange Line:Tuft Medical Station/Chinatown Situated on the edge of Downtown Boston, this is a walk out basement.  Each floor is separated. 1 bedroom with a queen (11\" memory foam mattress) , bathroom, living room (with a sofa bed).   No Kitchen but bar counter with sink, microwave, coffee maker, toaster and mini refrigerator.   Max accommodation is 3  people. Conveniently located, it is central to all the major MBTA (metro, train) stations. However, you may find it easier to walk everywhere. It is only a couple blocks locks to the Theater, Leather, Shopping, and Seaport Districts. Location is prime and can get you to anywhere during your visit in no time! Whether you're here for a conference, on work trips, or just being a tourist. Experience living like a local, and stay in one of the    \n",
       "563  Our amazing condo is super quiet and close to everything Boston has to offer. Just blocks from Boston Commons and a friendly vibrant neighborhood. Fun by day and safe at night, with world class eateries, nightlife & all subway lines just steps away. We have a unique space in the downtown there district. It features am incredible chefs kitchen, optional $30 per night parking, in and out access, use car as needed (based on availability) and a private entrance. It's close to some Major Nightlife including many fine dinning restaurants and several area nightclubs, as well as a 19 screen cinemaplex movie theater. The train (T) is just 3 blocks away.  You are just minutes away from:  * Northeastern University, Berklee College, Wentworth University, MassArt, New England Conservatory, Boston Conservatory, Simmons College, Emmanuel College, and Harvard Medical School  * Brigham & Women’s Hospital, Beth Israel Deaconess Hospital & Children’s Hospital as well as Boston Medical center * Hynes Conv   \n",
       "564  Situated on the edge of Downtown Boston and 1.2 mile to Convention Center.   10 mins walk to Red Line: South Station/Downtown Crossing , 10 mins walk to Green Line: Boylston/Park Station, 5 mins walk to Orange Line:Tuft Medical Station/Chinatown We are recently remodeling and everything is all new (furniture, appliances,bathroom, floor). Situated on the edge of Downtown Boston, this is a luxurious 3 story apartment. Each floor is separated. 1 bedroom with a queen  (11\" memory foam mattress),  and other bedroom with two twins, 1 bathroom, full kitchen and living room. Max accommodation is 4 people. Conveniently located, it is central to all the major MBTA (metro, train) stations. However, you may find it easier to walk everywhere. It is only a couple blocks locks to the Theater, Leather, Shopping, and Seaport Districts. Location is prime and can get you to anywhere during your visit in no time! Whether you're here for a conference, on work trips, or just being a tourist. Experience livi   \n",
       "\n",
       "                                                                                                                                                                                                                                                                                 neighborhood_overview  \\\n",
       "557                                                                                                                                                                                                                                                                                                NaN   \n",
       "559  Right across the street is Boston's Chinatown, a constantly lively part of the city - There's a 24 hr diner, plenty of restaurants closing near 3 am and several bars and lounges surrounding the area. There are 'hubway' or bike rentals near the apartment for your leisurely traveling needs.   \n",
       "561  Right across the street is Boston's Chinatown, a constantly lively part of the city - There's a 24 hr diner, plenty of restaurants closing near 3 am and several bars and lounges surrounding the area. There are 'hubway' or bike rentals near the apartment for your leisurely traveling needs.   \n",
       "563                                                                                                                                                                                                                                                                                                NaN   \n",
       "564  Right across the street is Boston's Chinatown, a constantly lively part of the city - There's a 24 hr diner, plenty of restaurants closing near 3 am and several bars and lounges surrounding the area. There are 'hubway' or bike rentals near the apartment for your leisurely traveling needs.   \n",
       "\n",
       "                                                                                 notes  \\\n",
       "557                                                                                NaN   \n",
       "559  Please feel free to contact me with any issues. I'm very easy going and friendly!   \n",
       "561  Please feel free to contact me with any issues. I'm very easy going and friendly!   \n",
       "563                                                                                NaN   \n",
       "564  Please feel free to contact me with any issues. I'm very easy going and friendly!   \n",
       "\n",
       "                                                                                                                                                                                                                                                                                                                                                                                                                                                                                         transit  \\\n",
       "557                                                                                                                                                                                                                                                                                                                                                                                                                                                                                          NaN   \n",
       "559  Situated on the edge of Downtown Boston and 1.2 mile to Convention Center.   Conveniently located, it is central to all the major MBTA (metro, train) stations. However, you may find it easier to walk everywhere. It is only a couple blocks locks to the Theater, Leather, Shopping, and Seaport Districts. 10 mins walk to Red Line: South Station / Downtown Crossing , 10 mins walk to Green Line: Boylston / Park Station, 5 mins walk to Orange Line:Tuft Medical Station/Chinatown   \n",
       "561  Situated on the edge of Downtown Boston and 1.2 mile to Convention Center.   Conveniently located, it is central to all the major MBTA (metro, train) stations. However, you may find it easier to walk everywhere. It is only a couple blocks locks to the Theater, Leather, Shopping, and Seaport Districts. 10 mins walk to Red Line: South Station / Downtown Crossing , 10 mins walk to Green Line: Boylston / Park Station, 5 mins walk to Orange Line:Tuft Medical Station/Chinatown   \n",
       "563                                                                                                                                                                                                                                                                                                                                                                                                                                                                                          NaN   \n",
       "564  Situated on the edge of Downtown Boston and 1.2 mile to Convention Center.   Conveniently located, it is central to all the major MBTA (metro, train) stations. However, you may find it easier to walk everywhere. It is only a couple blocks locks to the Theater, Leather, Shopping, and Seaport Districts. 10 mins walk to Red Line: South Station / Downtown Crossing , 10 mins walk to Green Line: Boylston / Park Station, 5 mins walk to Orange Line:Tuft Medical Station/Chinatown   \n",
       "\n",
       "                                                                                                                                                                                                                                                            access  \\\n",
       "557                                                                                                                                                                                                                                                            NaN   \n",
       "559  Location is prime and can get you to anywhere during your visit in no time! Whether you're here for a conference, on work trips, or just being a tourist. Experience living like a local, and stay in one of the most unique districts Beantown has to offer.   \n",
       "561  Location is prime and can get you to anywhere during your visit in no time! Whether you're here for a conference, on work trips, or just being a tourist. Experience living like a local, and stay in one of the most unique districts Beantown has to offer.   \n",
       "563                                                                                                                                                                                                                                                            NaN   \n",
       "564  Location is prime and can get you to anywhere during your visit in no time! Whether you're here for a conference, on work trips, or just being a tourist. Experience living like a local, and stay in one of the most unique districts Beantown has to offer.   \n",
       "\n",
       "                                                                                                         interaction  \\\n",
       "557                                                                                                              NaN   \n",
       "559  If you are looking for a lot of interaction, perhaps we could get a beer if I'm free and you're a beer drinker.   \n",
       "561  If you are looking for a lot of interaction, perhaps we could get a beer if I'm free and you're a beer drinker.   \n",
       "563                                                                                                              NaN   \n",
       "564                                                                                                              NaN   \n",
       "\n",
       "                                                                                                                                                                                                                                                                                                                                                                                                                                                                              house_rules  \\\n",
       "557                                                                                                                                                                                                                                                                                                                                                                                                                                                  Pets Allowed ( With Fee ) NO Smoking   \n",
       "559                                                                                                                                                                                                                                                                                Please plan to check in after 4 PM and check out before 11 AM.  No Smoking, No pets Please No parties and quiet hours after 9 pm Clean dishes   We are not responsible for your belongings. Thank You!   \n",
       "561                                                                                                                                                                                                                                                                                 Please plan to check in after 4 PM and check out before 11AM.  No Smoking, No pets Please No parties and quiet hours after 9 pm Clean dishes   We are not responsible for your belongings. Thank You!   \n",
       "563  Overall please treat the apartment as you would you own home, Keeping it as clean and tidy as you found it.  Please clean up before checking out. Any major clean-up service required may be deducted from the deposit.  No Loud / Large Parties .  Please include the number of people who will be staying before you reserve this apartment. No extra guests other than the maximum 4 allowed who booked  All smoking should be done outside, as this is a smoke free environment.   \n",
       "564                                                                                                                                                                                                                                                                                 Please plan to check in after 4 PM and check out before 11AM.  No Smoking, No pets Please No parties and quiet hours after 9 pm Clean dishes   We are not responsible for your belongings. Thank You!   \n",
       "\n",
       "                                                                           thumbnail_url  \\\n",
       "557                                                                                  NaN   \n",
       "559  https://a1.muscache.com/im/pictures/50652320/a87c966e_original.jpg?aki_policy=small   \n",
       "561  https://a2.muscache.com/im/pictures/52016371/aa26945a_original.jpg?aki_policy=small   \n",
       "563  https://a0.muscache.com/im/pictures/96873201/008f0918_original.jpg?aki_policy=small   \n",
       "564  https://a0.muscache.com/im/pictures/50710656/94df93df_original.jpg?aki_policy=small   \n",
       "\n",
       "                                                                               medium_url  \\\n",
       "557                                                                                   NaN   \n",
       "559  https://a1.muscache.com/im/pictures/50652320/a87c966e_original.jpg?aki_policy=medium   \n",
       "561  https://a2.muscache.com/im/pictures/52016371/aa26945a_original.jpg?aki_policy=medium   \n",
       "563  https://a0.muscache.com/im/pictures/96873201/008f0918_original.jpg?aki_policy=medium   \n",
       "564  https://a0.muscache.com/im/pictures/50710656/94df93df_original.jpg?aki_policy=medium   \n",
       "\n",
       "                                                                             picture_url  \\\n",
       "557  https://a0.muscache.com/im/pictures/90406270/48e4ec41_original.jpg?aki_policy=large   \n",
       "559  https://a1.muscache.com/im/pictures/50652320/a87c966e_original.jpg?aki_policy=large   \n",
       "561  https://a2.muscache.com/im/pictures/52016371/aa26945a_original.jpg?aki_policy=large   \n",
       "563  https://a0.muscache.com/im/pictures/96873201/008f0918_original.jpg?aki_policy=large   \n",
       "564  https://a0.muscache.com/im/pictures/50710656/94df93df_original.jpg?aki_policy=large   \n",
       "\n",
       "                                                                            xl_picture_url  \\\n",
       "557                                                                                    NaN   \n",
       "559  https://a1.muscache.com/im/pictures/50652320/a87c966e_original.jpg?aki_policy=x_large   \n",
       "561  https://a2.muscache.com/im/pictures/52016371/aa26945a_original.jpg?aki_policy=x_large   \n",
       "563  https://a0.muscache.com/im/pictures/96873201/008f0918_original.jpg?aki_policy=x_large   \n",
       "564  https://a0.muscache.com/im/pictures/50710656/94df93df_original.jpg?aki_policy=x_large   \n",
       "\n",
       "     host_id                                   host_url        host_name  \\\n",
       "557    25188    https://www.airbnb.com/users/show/25188         Seamless   \n",
       "559  3011415  https://www.airbnb.com/users/show/3011415  Stanley And Sue   \n",
       "561  3011415  https://www.airbnb.com/users/show/3011415  Stanley And Sue   \n",
       "563  5618949  https://www.airbnb.com/users/show/5618949             Alan   \n",
       "564  3011415  https://www.airbnb.com/users/show/3011415  Stanley And Sue   \n",
       "\n",
       "     host_since                         host_location  \\\n",
       "557  2009-07-10                                    US   \n",
       "559  2012-07-21  Boston, Massachusetts, United States   \n",
       "561  2012-07-21  Boston, Massachusetts, United States   \n",
       "563  2013-03-25  Boston, Massachusetts, United States   \n",
       "564  2012-07-21  Boston, Massachusetts, United States   \n",
       "\n",
       "                                                                                                                                                                                                                                                                                                                                                                                                                                                                                                                                                                                                                                                                                                                                                                                                                                                                                                                               host_about  \\\n",
       "557  ABOUT US:\\r\\n\\r\\nSeamlessTransition is a full-service relocation agency.  \\r\\n\\r\\nSeamlessTransition offers short-term housing options to executives, medical professionals and leisure travelers looking to secure transitional housing in major cities throughout the United States. \\r\\n\\r\\nWe match an individual's or family's short-term housing needs and preferences with available and compatible housing inventory.\\r\\n\\r\\nOur goal is to find the best short-term accommodations at the best price in the best location to meet your housing needs and preferences.  \\r\\n\\r\\nNo request is too large or too small.  It is our pleasure to serve you.\\r\\n\\r\\nWe are available Monday through Friday, 8:30 AM to 5:00 PM (EST).\\r\\n\\r\\nOur Reservation Center closes at 3PM on Friday and will not reopen until Monday morning at 9AM.\\r\\n\\r\\nWe observe all US Federal Holidays.  Kindly excuse our delay in response.\\r\\n   \n",
       "559                                                                                                                                                                                                                                                                                                                                                                                                                                                                                                                                                                 Hi, I'm a young professional working between Boston and California. I am usually traveling so my living area largely goes unused. I love food, fitness, and staying healthy. I frequently take runs along the Charles.  Regardless, I welcome you to experience this wonderful city,  is an incredible neighborhood, a perfect blend of historic and modern ambiance.   \n",
       "561                                                                                                                                                                                                                                                                                                                                                                                                                                                                                                                                                                 Hi, I'm a young professional working between Boston and California. I am usually traveling so my living area largely goes unused. I love food, fitness, and staying healthy. I frequently take runs along the Charles.  Regardless, I welcome you to experience this wonderful city,  is an incredible neighborhood, a perfect blend of historic and modern ambiance.   \n",
       "563                                                                                                                                                                                                                                                                                                                                                                                                                                                                                       Edward & Alan \\r\\nWe are fun loving, very honest & hard working.\\r\\nLove the arts, movies, plays as well as sporting events, but above all love to travel.\\r\\nFamily time is most important, and as your host, consider yourself, part of our family.\\r\\nThey say treat people as you would like to be treated, and \"royalty\" is what sums that up.\\r\\nWe look forward to your stay, and seeing you here in Boston!\\r\\n\\r\\n- Edward & Alan\\r\\n    \n",
       "564                                                                                                                                                                                                                                                                                                                                                                                                                                                                                                                                                                 Hi, I'm a young professional working between Boston and California. I am usually traveling so my living area largely goes unused. I love food, fitness, and staying healthy. I frequently take runs along the Charles.  Regardless, I welcome you to experience this wonderful city,  is an incredible neighborhood, a perfect blend of historic and modern ambiance.   \n",
       "\n",
       "     host_response_time host_response_rate host_acceptance_rate  \\\n",
       "557  within a few hours                89%                  45%   \n",
       "559      within an hour               100%                  97%   \n",
       "561      within an hour               100%                  97%   \n",
       "563      within an hour               100%                  94%   \n",
       "564      within an hour               100%                  97%   \n",
       "\n",
       "     host_is_superhost  \\\n",
       "557              False   \n",
       "559              False   \n",
       "561              False   \n",
       "563              False   \n",
       "564              False   \n",
       "\n",
       "                                                                                        host_thumbnail_url  \\\n",
       "557    https://a2.muscache.com/im/users/25188/profile_pic/1265272246/original.jpg?aki_policy=profile_small   \n",
       "559  https://a1.muscache.com/im/users/3011415/profile_pic/1353731060/original.jpg?aki_policy=profile_small   \n",
       "561  https://a1.muscache.com/im/users/3011415/profile_pic/1353731060/original.jpg?aki_policy=profile_small   \n",
       "563  https://a2.muscache.com/im/pictures/0033c898-63f3-4605-a6f8-e4e5512a46a2.jpg?aki_policy=profile_small   \n",
       "564  https://a1.muscache.com/im/users/3011415/profile_pic/1353731060/original.jpg?aki_policy=profile_small   \n",
       "\n",
       "                                                                                             host_picture_url  \\\n",
       "557    https://a2.muscache.com/im/users/25188/profile_pic/1265272246/original.jpg?aki_policy=profile_x_medium   \n",
       "559  https://a1.muscache.com/im/users/3011415/profile_pic/1353731060/original.jpg?aki_policy=profile_x_medium   \n",
       "561  https://a1.muscache.com/im/users/3011415/profile_pic/1353731060/original.jpg?aki_policy=profile_x_medium   \n",
       "563  https://a2.muscache.com/im/pictures/0033c898-63f3-4605-a6f8-e4e5512a46a2.jpg?aki_policy=profile_x_medium   \n",
       "564  https://a1.muscache.com/im/users/3011415/profile_pic/1353731060/original.jpg?aki_policy=profile_x_medium   \n",
       "\n",
       "    host_neighbourhood  host_listings_count  host_total_listings_count  \\\n",
       "557           Back Bay                  558                        558   \n",
       "559          Cambridge                   13                         13   \n",
       "561          Cambridge                   13                         13   \n",
       "563     Fenway/Kenmore                   11                         11   \n",
       "564          Cambridge                   13                         13   \n",
       "\n",
       "                                   host_verifications  host_has_profile_pic  \\\n",
       "557            ['email', 'phone', 'reviews', 'jumio']                  True   \n",
       "559  ['email', 'phone', 'facebook', 'reviews', 'kba']                  True   \n",
       "561  ['email', 'phone', 'facebook', 'reviews', 'kba']                  True   \n",
       "563                     ['email', 'phone', 'reviews']                  True   \n",
       "564  ['email', 'phone', 'facebook', 'reviews', 'kba']                  True   \n",
       "\n",
       "     host_identity_verified                                            street  \\\n",
       "557                    True  Kingston Street, Boston, MA 02111, United States   \n",
       "559                    True   Harvard Street, Boston, MA 02111, United States   \n",
       "561                    True   Harvard Street, Boston, MA 02111, United States   \n",
       "563                   False       Oak Street, Boston, MA 02111, United States   \n",
       "564                    True   Harvard Street, Boston, MA 02111, United States   \n",
       "\n",
       "    neighbourhood neighbourhood_cleansed    city state zipcode  market  \\\n",
       "557     Chinatown              Chinatown  Boston    MA   02111  Boston   \n",
       "559     Chinatown              Chinatown  Boston    MA   02111  Boston   \n",
       "561     Chinatown              Chinatown  Boston    MA   02111  Boston   \n",
       "563     Chinatown              Chinatown  Boston    MA   02111  Boston   \n",
       "564     Chinatown              Chinatown  Boston    MA   02111  Boston   \n",
       "\n",
       "    smart_location country_code        country   latitude  longitude  \\\n",
       "557     Boston, MA           US  United States  42.351982 -71.059609   \n",
       "559     Boston, MA           US  United States  42.348676 -71.061243   \n",
       "561     Boston, MA           US  United States  42.348988 -71.060493   \n",
       "563     Boston, MA           US  United States  42.348840 -71.063839   \n",
       "564     Boston, MA           US  United States  42.348165 -71.059744   \n",
       "\n",
       "     is_location_exact property_type        room_type  accommodates  \\\n",
       "557               True     Apartment  Entire home/apt             2   \n",
       "559               True     Apartment  Entire home/apt             4   \n",
       "561               True     Apartment  Entire home/apt             3   \n",
       "563               True     Apartment  Entire home/apt             4   \n",
       "564               True     Apartment  Entire home/apt             4   \n",
       "\n",
       "     bathrooms  bedrooms  beds  bed_type  \\\n",
       "557        1.0       1.0   1.0  Real Bed   \n",
       "559        1.0       2.0   3.0  Real Bed   \n",
       "561        1.0       1.0   1.0  Real Bed   \n",
       "563        1.0       0.0   2.0  Real Bed   \n",
       "564        1.0       2.0   3.0  Real Bed   \n",
       "\n",
       "                                                                                                                                                                                                                                 amenities  \\\n",
       "557                                                                {TV,\"Cable TV\",Internet,\"Wireless Internet\",\"Air Conditioning\",Kitchen,\"Pets Allowed\",Gym,\"Elevator in Building\",Heating,\"Family/Kid Friendly\",Washer,Dryer,Essentials}   \n",
       "559                {TV,\"Cable TV\",Internet,\"Wireless Internet\",\"Air Conditioning\",Kitchen,Heating,\"Smoke Detector\",\"Carbon Monoxide Detector\",Essentials,Shampoo,\"24-Hour Check-in\",Hangers,\"Hair Dryer\",Iron,\"Laptop Friendly Workspace\"}   \n",
       "561  {TV,\"Cable TV\",Internet,\"Wireless Internet\",\"Air Conditioning\",Heating,\"Family/Kid Friendly\",\"Smoke Detector\",\"Carbon Monoxide Detector\",Essentials,Shampoo,\"24-Hour Check-in\",Hangers,\"Hair Dryer\",Iron,\"Laptop Friendly Workspace\"}   \n",
       "563                                                                   {TV,\"Cable TV\",Internet,\"Wireless Internet\",\"Air Conditioning\",Kitchen,Heating,\"Family/Kid Friendly\",\"Smoke Detector\",\"Carbon Monoxide Detector\",Essentials,Shampoo}   \n",
       "564                {TV,\"Cable TV\",Internet,\"Wireless Internet\",\"Air Conditioning\",Kitchen,Heating,\"Smoke Detector\",\"Carbon Monoxide Detector\",Essentials,Shampoo,\"24-Hour Check-in\",Hangers,\"Hair Dryer\",Iron,\"Laptop Friendly Workspace\"}   \n",
       "\n",
       "       price weekly_price monthly_price  security_deposit  cleaning_fee  \\\n",
       "557  $289.00          NaN     $6,900.00               0.0         150.0   \n",
       "559  $295.00          NaN           NaN             300.0          60.0   \n",
       "561  $185.00          NaN           NaN             200.0          60.0   \n",
       "563  $109.00          NaN           NaN             100.0          40.0   \n",
       "564  $295.00          NaN           NaN             300.0          60.0   \n",
       "\n",
       "     guests_included extra_people  minimum_nights  maximum_nights  \\\n",
       "557                1        $0.00               7             365   \n",
       "559                3       $30.00               3              90   \n",
       "561                1       $25.00               3            1125   \n",
       "563                2       $25.00               1            1125   \n",
       "564                3       $25.00               3            1125   \n",
       "\n",
       "    calendar_updated  availability_30  availability_60  availability_90  \\\n",
       "557      4 weeks ago               29               59               89   \n",
       "559       4 days ago               17               38               62   \n",
       "561       4 days ago               15               41               71   \n",
       "563     2 months ago                5               16               46   \n",
       "564       4 days ago               12               29               59   \n",
       "\n",
       "     availability_365 calendar_last_scraped  number_of_reviews first_review  \\\n",
       "557               364            2016-09-06                  0          NaN   \n",
       "559               337            2016-09-06                 33   2014-09-11   \n",
       "561               346            2016-09-06                 36   2014-10-03   \n",
       "563               309            2016-09-06                 58   2015-08-23   \n",
       "564               334            2016-09-06                 30   2014-09-18   \n",
       "\n",
       "    last_review  review_scores_rating  review_scores_accuracy  \\\n",
       "557         NaN                   NaN                     NaN   \n",
       "559  2016-08-17                  86.0                     9.0   \n",
       "561  2016-08-11                  91.0                     9.0   \n",
       "563  2016-08-22                  88.0                     9.0   \n",
       "564  2016-08-14                  85.0                     9.0   \n",
       "\n",
       "     review_scores_cleanliness  review_scores_checkin  \\\n",
       "557                        NaN                    NaN   \n",
       "559                        9.0                    9.0   \n",
       "561                       10.0                    9.0   \n",
       "563                        9.0                    9.0   \n",
       "564                       10.0                    9.0   \n",
       "\n",
       "     review_scores_communication  review_scores_location  review_scores_value  \\\n",
       "557                          NaN                     NaN                  NaN   \n",
       "559                          9.0                     8.0                  8.0   \n",
       "561                          9.0                     9.0                  9.0   \n",
       "563                         10.0                     9.0                  9.0   \n",
       "564                          9.0                     9.0                  8.0   \n",
       "\n",
       "    instant_bookable cancellation_policy require_guest_profile_picture  \\\n",
       "557                f     super_strict_30                             f   \n",
       "559                f              strict                             f   \n",
       "561                f              strict                             f   \n",
       "563                f              strict                             f   \n",
       "564                f              strict                             f   \n",
       "\n",
       "    require_guest_phone_verification  calculated_host_listings_count  \\\n",
       "557                                t                              79   \n",
       "559                                t                               5   \n",
       "561                                t                               5   \n",
       "563                                f                              11   \n",
       "564                                t                               5   \n",
       "\n",
       "     reviews_per_month  listing_id       march       april         may  \\\n",
       "557                NaN     3401809  289.000000  289.000000  289.000000   \n",
       "559               1.36     2848330  261.129028  309.000000  295.000000   \n",
       "561               1.53     2848370  185.000000  193.666672  180.000000   \n",
       "563               4.55     7630346  109.000000  133.866669   94.935486   \n",
       "564               1.25     2848362  295.000000  312.500000  295.000000   \n",
       "\n",
       "          diff      diff2  \n",
       "557   0.000000   0.000000  \n",
       "559 -47.870972  14.000000  \n",
       "561  -8.666672  13.666672  \n",
       "563 -24.866669  38.931183  \n",
       "564 -17.500000  17.500000  "
      ]
     },
     "execution_count": 87,
     "metadata": {},
     "output_type": "execute_result"
    }
   ],
   "source": [
    "dfc_list_neig = dfc_listings[(dfc_listings['april'] > 0) & (dfc_listings['neighbourhood'].isin(['South End', 'Chinatown']))]\n",
    "dfc_list_neig.head()"
   ]
  },
  {
   "cell_type": "markdown",
   "metadata": {},
   "source": [
    "#### Visualizing the homestays count separed in room types in each neighbourhood"
   ]
  },
  {
   "cell_type": "code",
   "execution_count": 88,
   "metadata": {
    "scrolled": true
   },
   "outputs": [
    {
     "data": {
      "image/png": "[encoded data removed]",
      "text/plain": [
       "<Figure size 432x288 with 1 Axes>"
      ]
     },
     "metadata": {
      "needs_background": "light"
     },
     "output_type": "display_data"
    }
   ],
   "source": [
    "ax = sns.countplot(x='neighbourhood',data=dfc_list_neig,hue='room_type')\n",
    "ax.set_title('Counting homestays')\n",
    "ax.set_xlabel('Neighbourhood')\n",
    "ax.set_ylabel('Count')\n",
    "plt.legend(title='Room type', loc='upper left', labels=['Entire home/apt','Private room','Shared room'])\n",
    "_ = plt.savefig('sel_neigh.png', dpi = 50)"
   ]
  },
  {
   "cell_type": "markdown",
   "metadata": {},
   "source": [
    "> Most lodgings are entire houses / apartments, and especially in the South End there are more than 120 lodgings of this type, while in Chinatown there are approximately 20. We know there are options. And as for prices, how is this variation?"
   ]
  },
  {
   "cell_type": "markdown",
   "metadata": {},
   "source": [
    "#### Visualizing the mean neighbourhood price seperated in room type"
   ]
  },
  {
   "cell_type": "code",
   "execution_count": 89,
   "metadata": {
    "scrolled": true
   },
   "outputs": [
    {
     "data": {
      "image/png": "[encoded data removed]",
      "text/plain": [
       "<Figure size 432x288 with 1 Axes>"
      ]
     },
     "metadata": {
      "needs_background": "light"
     },
     "output_type": "display_data"
    }
   ],
   "source": [
    "ax = dfc_list_neig.groupby(['neighbourhood','room_type'])['april'].mean().plot.barh()\n",
    "ax.set_title('Mean price')\n",
    "ax.set_ylabel('Neighbourhood and Room type')\n",
    "ax.set_xlabel('Price')\n",
    "_ = plt.savefig('sel_neigh_price.png',bbox_inches='tight', dpi = 100)"
   ]
  },
  {
   "cell_type": "markdown",
   "metadata": {},
   "source": [
    "> In this figure, we can see that the shared room in South End is the most expensive of all, has the highest average. This is not so interesting. Private rooms are the most affordable. As with shared rooms, there may be more than one on site, another guest or the owner. Depending on the situation, private rooms are excellent value for money."
   ]
  },
  {
   "cell_type": "markdown",
   "metadata": {},
   "source": [
    "#### Visualizing the neighbourhood count seperated in number of accommodates"
   ]
  },
  {
   "cell_type": "code",
   "execution_count": 90,
   "metadata": {
    "scrolled": true
   },
   "outputs": [
    {
     "data": {
      "image/png": "[encoded data removed]",
      "text/plain": [
       "<Figure size 432x288 with 1 Axes>"
      ]
     },
     "metadata": {
      "needs_background": "light"
     },
     "output_type": "display_data"
    }
   ],
   "source": [
    "ax = dfc_list_neig.groupby(['neighbourhood','room_type','accommodates'])['april'].count().plot.barh()\n",
    "ax.set_title('Counting accommodates')\n",
    "ax.set_ylabel('Neighbourhood, room type and accommodates')\n",
    "ax.set_xlabel('Count')\n",
    "_ = plt.savefig('room_type__acom_count.png',bbox_inches='tight', dpi = 720)"
   ]
  },
  {
   "cell_type": "markdown",
   "metadata": {},
   "source": [
    "> There are accommodations that accommodate 1 to 8 people. The majority accommodates 2 to 4 people. We will see the average price according to the accommodations."
   ]
  },
  {
   "cell_type": "markdown",
   "metadata": {},
   "source": [
    "#### Visualizing the mean neighbourhood price seperated in number of accommodates"
   ]
  },
  {
   "cell_type": "code",
   "execution_count": 91,
   "metadata": {
    "scrolled": false
   },
   "outputs": [
    {
     "data": {
      "image/png": "[encoded data removed]",
      "text/plain": [
       "<Figure size 432x288 with 1 Axes>"
      ]
     },
     "metadata": {
      "needs_background": "light"
     },
     "output_type": "display_data"
    }
   ],
   "source": [
    "ax = dfc_list_neig.groupby(['neighbourhood','room_type','accommodates'])['april'].mean().plot.barh()\n",
    "ax.set_title('Homestay mean prices')\n",
    "ax.set_ylabel('Neighbourhood, room type and accommodates')\n",
    "ax.set_xlabel('Price')\n",
    "_ = plt.savefig('room_type__acom_price.png',bbox_inches='tight', dpi = 100)"
   ]
  },
  {
   "cell_type": "markdown",
   "metadata": {},
   "source": [
    "> The figure shows that the number of accommodation options, mainly that accommodates 2 people, is considerable. And prices tend to increase as the number of accommodations increases, some situations do not follow this relationship. It is clear that South End prices are lower than in Chinatown considering the same amount of accommodation. This leads us to think that it is more worthwhile to stay in the South End, as it is cheaper and closer to the end of the marathon. Let's look at the average price per guest for each of the situations shown in figure."
   ]
  },
  {
   "cell_type": "code",
   "execution_count": 92,
   "metadata": {},
   "outputs": [],
   "source": [
    "dfc_rs = dfc_list_neig.groupby(['neighbourhood','room_type','accommodates'])['april'].mean().reset_index()"
   ]
  },
  {
   "cell_type": "code",
   "execution_count": 93,
   "metadata": {},
   "outputs": [],
   "source": [
    "dfc_rs['prop'] = dfc_rs['april']/dfc_rs['accommodates']"
   ]
  },
  {
   "cell_type": "code",
   "execution_count": 94,
   "metadata": {},
   "outputs": [],
   "source": [
    "dfc_rs = dfc_rs.groupby(['neighbourhood','room_type','accommodates']).apply(calc_prop)"
   ]
  },
  {
   "cell_type": "code",
   "execution_count": 95,
   "metadata": {},
   "outputs": [],
   "source": [
    "dfc_rs['ind'] = '('+dfc_rs['neighbourhood']+','+dfc_rs['room_type']+','+str(dfc_rs['accommodates'])+')'"
   ]
  },
  {
   "cell_type": "code",
   "execution_count": 96,
   "metadata": {
    "scrolled": true
   },
   "outputs": [
    {
     "data": {
      "image/png": "[encoded data removed]",
      "text/plain": [
       "<Figure size 432x288 with 1 Axes>"
      ]
     },
     "metadata": {
      "needs_background": "light"
     },
     "output_type": "display_data"
    }
   ],
   "source": [
    "ax = dfc_rs.groupby(['neighbourhood','room_type','accommodates'])['prop'].mean().plot.barh()\n",
    "ax.set_title('Mean price proportional to accommodation')\n",
    "ax.set_ylabel('Neighbourhood, room type and accommodates')\n",
    "ax.set_xlabel('Proportion')\n",
    "_ = plt.savefig('room_type__acom_prop.png',bbox_inches='tight', dpi = 100)"
   ]
  },
  {
   "cell_type": "markdown",
   "metadata": {},
   "source": [
    "> The observation that was made earlier can be seen more clearly in figure. The average price per guest decreases as the number of accommodations increases. Except for some situations, like the one observed with 8 accommodations in South End, where the value is higher than with 7. There are other factors that can contribute to this difference. As the average is very influenced by extreme values, there may be some accommodation that is influencing the average price. The difference between prices, from neighborhoods to accommodation with the same amount of accommodation, is small."
   ]
  },
  {
   "cell_type": "code",
   "execution_count": 97,
   "metadata": {},
   "outputs": [
    {
     "data": {
      "text/plain": [
       "(array([ 0,  1,  2,  3,  4,  5,  6,  7,  8,  9, 10, 11, 12, 13, 14, 15, 16,\n",
       "        17, 18, 19, 20, 21, 22, 23, 24, 25, 26, 27, 28, 29]),\n",
       " <a list of 30 Text xticklabel objects>)"
      ]
     },
     "execution_count": 97,
     "metadata": {},
     "output_type": "execute_result"
    },
    {
     "data": {
      "image/png": "[encoded data removed]",
      "text/plain": [
       "<Figure size 432x288 with 1 Axes>"
      ]
     },
     "metadata": {
      "needs_background": "light"
     },
     "output_type": "display_data"
    }
   ],
   "source": [
    "sns.boxplot(data=dfc_listings[dfc_listings['april'] < 1500],x='neighbourhood',y='april',order=list_neighbourhood)\n",
    "plt.xticks(rotation=90)"
   ]
  },
  {
   "cell_type": "markdown",
   "metadata": {
    "scrolled": true
   },
   "source": [
    "## <a href='#conclusion'></a>5. Conclusion"
   ]
  },
  {
   "cell_type": "markdown",
   "metadata": {},
   "source": [
    "> Boston is a city with many lodging options. The neighborhood that occurs at the end of the marathon is among the neighborhoods with the most accommodation options. If the desire is to stay close to the arrival of the marathon and pay cheap, there are two neighborhoods that I can recommend. South End and Chinatown, the latter being more distant. There are many options for accommodation with two accommodations but it may be more worthwhile to share an apartment with 4, 5, 6 or 8 people."
   ]
  }
 ],
 "metadata": {
  "kernelspec": {
   "display_name": "Python 3",
   "language": "python",
   "name": "python3"
  },
  "language_info": {
   "codemirror_mode": {
    "name": "ipython",
    "version": 3
   },
   "file_extension": ".py",
   "mimetype": "text/x-python",
   "name": "python",
   "nbconvert_exporter": "python",
   "pygments_lexer": "ipython3",
   "version": "3.7.3"
  }
 },
 "nbformat": 4,
 "nbformat_minor": 2
}
